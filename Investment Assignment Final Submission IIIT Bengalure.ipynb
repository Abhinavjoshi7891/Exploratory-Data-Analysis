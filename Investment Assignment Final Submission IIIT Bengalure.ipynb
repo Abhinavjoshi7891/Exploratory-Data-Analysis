{
 "cells": [
  {
   "cell_type": "code",
   "execution_count": 308,
   "metadata": {},
   "outputs": [],
   "source": [
    "#importing the libraries\n",
    "import pandas as pd\n",
    "import numpy as np"
   ]
  },
  {
   "cell_type": "markdown",
   "metadata": {},
   "source": [
    "### Importing the two files companies.csv(as df_comp) and round2.csv(as df_round)\n",
    "#### used the parameter encoding ='unicode_escape', to deal with file coding issues"
   ]
  },
  {
   "cell_type": "code",
   "execution_count": 309,
   "metadata": {},
   "outputs": [],
   "source": [
    "#importing companies.csv as df_comp\n",
    "df_comp = pd.read_csv(r'//Users/abhinavjoshi/Downloads/companies.csv', encoding ='unicode_escape')"
   ]
  },
  {
   "cell_type": "code",
   "execution_count": 310,
   "metadata": {},
   "outputs": [],
   "source": [
    "# importing rounds.csv as df_round\n",
    "df_round = pd.read_csv(r'/Users/abhinavjoshi/Downloads/rounds2.csv', encoding ='unicode_escape')"
   ]
  },
  {
   "cell_type": "markdown",
   "metadata": {},
   "source": [
    "## Checkpoints \n",
    "## Checkpoint 1: Data Cleaning \n",
    "### Checking the files"
   ]
  },
  {
   "cell_type": "markdown",
   "metadata": {},
   "source": [
    "#### checking df_comp"
   ]
  },
  {
   "cell_type": "code",
   "execution_count": 311,
   "metadata": {},
   "outputs": [
    {
     "data": {
      "text/html": [
       "<div>\n",
       "<style scoped>\n",
       "    .dataframe tbody tr th:only-of-type {\n",
       "        vertical-align: middle;\n",
       "    }\n",
       "\n",
       "    .dataframe tbody tr th {\n",
       "        vertical-align: top;\n",
       "    }\n",
       "\n",
       "    .dataframe thead th {\n",
       "        text-align: right;\n",
       "    }\n",
       "</style>\n",
       "<table border=\"1\" class=\"dataframe\">\n",
       "  <thead>\n",
       "    <tr style=\"text-align: right;\">\n",
       "      <th></th>\n",
       "      <th>permalink</th>\n",
       "      <th>name</th>\n",
       "      <th>homepage_url</th>\n",
       "      <th>category_list</th>\n",
       "      <th>status</th>\n",
       "      <th>country_code</th>\n",
       "      <th>state_code</th>\n",
       "      <th>region</th>\n",
       "      <th>city</th>\n",
       "      <th>founded_at</th>\n",
       "    </tr>\n",
       "  </thead>\n",
       "  <tbody>\n",
       "    <tr>\n",
       "      <th>0</th>\n",
       "      <td>/Organization/-Fame</td>\n",
       "      <td>#fame</td>\n",
       "      <td>http://livfame.com</td>\n",
       "      <td>Media</td>\n",
       "      <td>operating</td>\n",
       "      <td>IND</td>\n",
       "      <td>16</td>\n",
       "      <td>Mumbai</td>\n",
       "      <td>Mumbai</td>\n",
       "      <td>NaN</td>\n",
       "    </tr>\n",
       "    <tr>\n",
       "      <th>1</th>\n",
       "      <td>/Organization/-Qounter</td>\n",
       "      <td>:Qounter</td>\n",
       "      <td>http://www.qounter.com</td>\n",
       "      <td>Application Platforms|Real Time|Social Network...</td>\n",
       "      <td>operating</td>\n",
       "      <td>USA</td>\n",
       "      <td>DE</td>\n",
       "      <td>DE - Other</td>\n",
       "      <td>Delaware City</td>\n",
       "      <td>04-09-2014</td>\n",
       "    </tr>\n",
       "    <tr>\n",
       "      <th>2</th>\n",
       "      <td>/Organization/-The-One-Of-Them-Inc-</td>\n",
       "      <td>(THE) ONE of THEM,Inc.</td>\n",
       "      <td>http://oneofthem.jp</td>\n",
       "      <td>Apps|Games|Mobile</td>\n",
       "      <td>operating</td>\n",
       "      <td>NaN</td>\n",
       "      <td>NaN</td>\n",
       "      <td>NaN</td>\n",
       "      <td>NaN</td>\n",
       "      <td>NaN</td>\n",
       "    </tr>\n",
       "    <tr>\n",
       "      <th>3</th>\n",
       "      <td>/Organization/0-6-Com</td>\n",
       "      <td>0-6.com</td>\n",
       "      <td>http://www.0-6.com</td>\n",
       "      <td>Curated Web</td>\n",
       "      <td>operating</td>\n",
       "      <td>CHN</td>\n",
       "      <td>22</td>\n",
       "      <td>Beijing</td>\n",
       "      <td>Beijing</td>\n",
       "      <td>01-01-2007</td>\n",
       "    </tr>\n",
       "    <tr>\n",
       "      <th>4</th>\n",
       "      <td>/Organization/004-Technologies</td>\n",
       "      <td>004 Technologies</td>\n",
       "      <td>http://004gmbh.de/en/004-interact</td>\n",
       "      <td>Software</td>\n",
       "      <td>operating</td>\n",
       "      <td>USA</td>\n",
       "      <td>IL</td>\n",
       "      <td>Springfield, Illinois</td>\n",
       "      <td>Champaign</td>\n",
       "      <td>01-01-2010</td>\n",
       "    </tr>\n",
       "  </tbody>\n",
       "</table>\n",
       "</div>"
      ],
      "text/plain": [
       "                             permalink                    name  \\\n",
       "0                  /Organization/-Fame                   #fame   \n",
       "1               /Organization/-Qounter                :Qounter   \n",
       "2  /Organization/-The-One-Of-Them-Inc-  (THE) ONE of THEM,Inc.   \n",
       "3                /Organization/0-6-Com                 0-6.com   \n",
       "4       /Organization/004-Technologies        004 Technologies   \n",
       "\n",
       "                        homepage_url  \\\n",
       "0                 http://livfame.com   \n",
       "1             http://www.qounter.com   \n",
       "2                http://oneofthem.jp   \n",
       "3                 http://www.0-6.com   \n",
       "4  http://004gmbh.de/en/004-interact   \n",
       "\n",
       "                                       category_list     status country_code  \\\n",
       "0                                              Media  operating          IND   \n",
       "1  Application Platforms|Real Time|Social Network...  operating          USA   \n",
       "2                                  Apps|Games|Mobile  operating          NaN   \n",
       "3                                        Curated Web  operating          CHN   \n",
       "4                                           Software  operating          USA   \n",
       "\n",
       "  state_code                 region           city  founded_at  \n",
       "0         16                 Mumbai         Mumbai         NaN  \n",
       "1         DE             DE - Other  Delaware City  04-09-2014  \n",
       "2        NaN                    NaN            NaN         NaN  \n",
       "3         22                Beijing        Beijing  01-01-2007  \n",
       "4         IL  Springfield, Illinois      Champaign  01-01-2010  "
      ]
     },
     "execution_count": 311,
     "metadata": {},
     "output_type": "execute_result"
    }
   ],
   "source": [
    "## checking df_comp\n",
    "df_comp.head()"
   ]
  },
  {
   "cell_type": "code",
   "execution_count": 312,
   "metadata": {},
   "outputs": [
    {
     "name": "stdout",
     "output_type": "stream",
     "text": [
      "<class 'pandas.core.frame.DataFrame'>\n",
      "RangeIndex: 66368 entries, 0 to 66367\n",
      "Data columns (total 10 columns):\n",
      " #   Column         Non-Null Count  Dtype \n",
      "---  ------         --------------  ----- \n",
      " 0   permalink      66368 non-null  object\n",
      " 1   name           66367 non-null  object\n",
      " 2   homepage_url   61310 non-null  object\n",
      " 3   category_list  63220 non-null  object\n",
      " 4   status         66368 non-null  object\n",
      " 5   country_code   59410 non-null  object\n",
      " 6   state_code     57821 non-null  object\n",
      " 7   region         58338 non-null  object\n",
      " 8   city           58340 non-null  object\n",
      " 9   founded_at     51147 non-null  object\n",
      "dtypes: object(10)\n",
      "memory usage: 5.1+ MB\n"
     ]
    }
   ],
   "source": [
    "df_comp.info()"
   ]
  },
  {
   "cell_type": "code",
   "execution_count": 313,
   "metadata": {},
   "outputs": [
    {
     "data": {
      "text/plain": [
       "(66368, 10)"
      ]
     },
     "execution_count": 313,
     "metadata": {},
     "output_type": "execute_result"
    }
   ],
   "source": [
    "df_comp.shape"
   ]
  },
  {
   "cell_type": "code",
   "execution_count": 314,
   "metadata": {},
   "outputs": [
    {
     "data": {
      "text/plain": [
       "permalink         0.0\n",
       "name              0.0\n",
       "homepage_url      8.0\n",
       "category_list     5.0\n",
       "status            0.0\n",
       "country_code     10.0\n",
       "state_code       13.0\n",
       "region           12.0\n",
       "city             12.0\n",
       "founded_at       23.0\n",
       "dtype: float64"
      ]
     },
     "execution_count": 314,
     "metadata": {},
     "output_type": "execute_result"
    }
   ],
   "source": [
    "## checking the percentage of null values\n",
    "round(df_comp.isnull().sum()/len(df_comp.index)*100)"
   ]
  },
  {
   "cell_type": "markdown",
   "metadata": {},
   "source": [
    "#### We see that the unique identifier for companies i.e permalink has no null values. However country_code has about 10 % null values and category_list has about 5% null values. \n",
    "#### Appropriate steps will be taken later on to deal with these null values"
   ]
  },
  {
   "cell_type": "markdown",
   "metadata": {},
   "source": [
    "### Checking df_round"
   ]
  },
  {
   "cell_type": "code",
   "execution_count": 315,
   "metadata": {},
   "outputs": [
    {
     "data": {
      "text/html": [
       "<div>\n",
       "<style scoped>\n",
       "    .dataframe tbody tr th:only-of-type {\n",
       "        vertical-align: middle;\n",
       "    }\n",
       "\n",
       "    .dataframe tbody tr th {\n",
       "        vertical-align: top;\n",
       "    }\n",
       "\n",
       "    .dataframe thead th {\n",
       "        text-align: right;\n",
       "    }\n",
       "</style>\n",
       "<table border=\"1\" class=\"dataframe\">\n",
       "  <thead>\n",
       "    <tr style=\"text-align: right;\">\n",
       "      <th></th>\n",
       "      <th>company_permalink</th>\n",
       "      <th>funding_round_permalink</th>\n",
       "      <th>funding_round_type</th>\n",
       "      <th>funding_round_code</th>\n",
       "      <th>funded_at</th>\n",
       "      <th>raised_amount_usd</th>\n",
       "    </tr>\n",
       "  </thead>\n",
       "  <tbody>\n",
       "    <tr>\n",
       "      <th>0</th>\n",
       "      <td>/organization/-fame</td>\n",
       "      <td>/funding-round/9a01d05418af9f794eebff7ace91f638</td>\n",
       "      <td>venture</td>\n",
       "      <td>B</td>\n",
       "      <td>05-01-2015</td>\n",
       "      <td>10000000.0</td>\n",
       "    </tr>\n",
       "    <tr>\n",
       "      <th>1</th>\n",
       "      <td>/ORGANIZATION/-QOUNTER</td>\n",
       "      <td>/funding-round/22dacff496eb7acb2b901dec1dfe5633</td>\n",
       "      <td>venture</td>\n",
       "      <td>A</td>\n",
       "      <td>14-10-2014</td>\n",
       "      <td>NaN</td>\n",
       "    </tr>\n",
       "    <tr>\n",
       "      <th>2</th>\n",
       "      <td>/organization/-qounter</td>\n",
       "      <td>/funding-round/b44fbb94153f6cdef13083530bb48030</td>\n",
       "      <td>seed</td>\n",
       "      <td>NaN</td>\n",
       "      <td>01-03-2014</td>\n",
       "      <td>700000.0</td>\n",
       "    </tr>\n",
       "    <tr>\n",
       "      <th>3</th>\n",
       "      <td>/ORGANIZATION/-THE-ONE-OF-THEM-INC-</td>\n",
       "      <td>/funding-round/650b8f704416801069bb178a1418776b</td>\n",
       "      <td>venture</td>\n",
       "      <td>B</td>\n",
       "      <td>30-01-2014</td>\n",
       "      <td>3406878.0</td>\n",
       "    </tr>\n",
       "    <tr>\n",
       "      <th>4</th>\n",
       "      <td>/organization/0-6-com</td>\n",
       "      <td>/funding-round/5727accaeaa57461bd22a9bdd945382d</td>\n",
       "      <td>venture</td>\n",
       "      <td>A</td>\n",
       "      <td>19-03-2008</td>\n",
       "      <td>2000000.0</td>\n",
       "    </tr>\n",
       "  </tbody>\n",
       "</table>\n",
       "</div>"
      ],
      "text/plain": [
       "                     company_permalink  \\\n",
       "0                  /organization/-fame   \n",
       "1               /ORGANIZATION/-QOUNTER   \n",
       "2               /organization/-qounter   \n",
       "3  /ORGANIZATION/-THE-ONE-OF-THEM-INC-   \n",
       "4                /organization/0-6-com   \n",
       "\n",
       "                           funding_round_permalink funding_round_type  \\\n",
       "0  /funding-round/9a01d05418af9f794eebff7ace91f638            venture   \n",
       "1  /funding-round/22dacff496eb7acb2b901dec1dfe5633            venture   \n",
       "2  /funding-round/b44fbb94153f6cdef13083530bb48030               seed   \n",
       "3  /funding-round/650b8f704416801069bb178a1418776b            venture   \n",
       "4  /funding-round/5727accaeaa57461bd22a9bdd945382d            venture   \n",
       "\n",
       "  funding_round_code   funded_at  raised_amount_usd  \n",
       "0                  B  05-01-2015         10000000.0  \n",
       "1                  A  14-10-2014                NaN  \n",
       "2                NaN  01-03-2014           700000.0  \n",
       "3                  B  30-01-2014          3406878.0  \n",
       "4                  A  19-03-2008          2000000.0  "
      ]
     },
     "execution_count": 315,
     "metadata": {},
     "output_type": "execute_result"
    }
   ],
   "source": [
    "df_round.head()"
   ]
  },
  {
   "cell_type": "code",
   "execution_count": 316,
   "metadata": {},
   "outputs": [
    {
     "data": {
      "text/plain": [
       "(114949, 6)"
      ]
     },
     "execution_count": 316,
     "metadata": {},
     "output_type": "execute_result"
    }
   ],
   "source": [
    "df_round.shape"
   ]
  },
  {
   "cell_type": "code",
   "execution_count": 317,
   "metadata": {},
   "outputs": [
    {
     "name": "stdout",
     "output_type": "stream",
     "text": [
      "<class 'pandas.core.frame.DataFrame'>\n",
      "RangeIndex: 114949 entries, 0 to 114948\n",
      "Data columns (total 6 columns):\n",
      " #   Column                   Non-Null Count   Dtype  \n",
      "---  ------                   --------------   -----  \n",
      " 0   company_permalink        114949 non-null  object \n",
      " 1   funding_round_permalink  114949 non-null  object \n",
      " 2   funding_round_type       114949 non-null  object \n",
      " 3   funding_round_code       31140 non-null   object \n",
      " 4   funded_at                114949 non-null  object \n",
      " 5   raised_amount_usd        94959 non-null   float64\n",
      "dtypes: float64(1), object(5)\n",
      "memory usage: 5.3+ MB\n"
     ]
    }
   ],
   "source": [
    "df_round.info()"
   ]
  },
  {
   "cell_type": "code",
   "execution_count": 318,
   "metadata": {},
   "outputs": [
    {
     "data": {
      "text/plain": [
       "company_permalink           0.0\n",
       "funding_round_permalink     0.0\n",
       "funding_round_type          0.0\n",
       "funding_round_code         73.0\n",
       "funded_at                   0.0\n",
       "raised_amount_usd          17.0\n",
       "dtype: float64"
      ]
     },
     "execution_count": 318,
     "metadata": {},
     "output_type": "execute_result"
    }
   ],
   "source": [
    "## checking the percentage of null values\n",
    "round(df_round.isnull().sum()/len(df_round.index)*100)"
   ]
  },
  {
   "cell_type": "markdown",
   "metadata": {},
   "source": [
    "#### Initial survey shows that again there are no null values in unique identifier company_permalink. The column funding_round_code has aboout 73% null values, which is too high. The column raised_amount_usd has about 17% null values and this column is on of the target variables. Apporpriate steps will be taken for this."
   ]
  },
  {
   "cell_type": "markdown",
   "metadata": {},
   "source": [
    "## Checking permalink and company_permalink"
   ]
  },
  {
   "cell_type": "markdown",
   "metadata": {},
   "source": [
    "### Initial assesment shows that to create the master dataframe we will use the permalink column in df_comp and company_permalink in df_round as the 'merging columns'. \n",
    "### This requires a closer analysis of these two columns. \n",
    "### Since we have already seen that they dont contain null-values, the next task would be to look for any duplicates and eliminating them. \n",
    "### We will also look for any anamolies in the respective columns"
   ]
  },
  {
   "cell_type": "markdown",
   "metadata": {},
   "source": [
    "### As the initial step let us convert both the columns to lower case to deal with discripancies in data entering"
   ]
  },
  {
   "cell_type": "code",
   "execution_count": 319,
   "metadata": {},
   "outputs": [],
   "source": [
    "# Converting df_comp['permalink'] to lower case\n",
    "df_comp['permalink'] = df_comp['permalink'].str.lower()"
   ]
  },
  {
   "cell_type": "code",
   "execution_count": 320,
   "metadata": {},
   "outputs": [],
   "source": [
    "# Converting df_round['company_permalink'] to lower case\n",
    "df_round['company_permalink'] = df_round['company_permalink'].str.lower()"
   ]
  },
  {
   "cell_type": "markdown",
   "metadata": {},
   "source": [
    "### Now let us check for duplicated entries"
   ]
  },
  {
   "cell_type": "code",
   "execution_count": 321,
   "metadata": {},
   "outputs": [
    {
     "data": {
      "text/plain": [
       "66368"
      ]
     },
     "execution_count": 321,
     "metadata": {},
     "output_type": "execute_result"
    }
   ],
   "source": [
    "## Checking duplicates in df_comp['permalink']\n",
    "df_comp['permalink'].nunique()"
   ]
  },
  {
   "cell_type": "code",
   "execution_count": 322,
   "metadata": {},
   "outputs": [
    {
     "data": {
      "text/plain": [
       "0"
      ]
     },
     "execution_count": 322,
     "metadata": {},
     "output_type": "execute_result"
    }
   ],
   "source": [
    "## The uniqiue entries are equal to the number of rows i.e 66368, hence we can conclude that\n",
    "## no duplicates are present\n",
    "## alternately we could also use the code, which would also show zero duplicates\n",
    "df_comp['permalink'].duplicated().sum()"
   ]
  },
  {
   "cell_type": "code",
   "execution_count": 323,
   "metadata": {},
   "outputs": [
    {
     "data": {
      "text/plain": [
       "66370"
      ]
     },
     "execution_count": 323,
     "metadata": {},
     "output_type": "execute_result"
    }
   ],
   "source": [
    "## Checking duplicates in df_round['company_permalink']\n",
    "df_round['company_permalink'].nunique()"
   ]
  },
  {
   "cell_type": "code",
   "execution_count": 324,
   "metadata": {},
   "outputs": [
    {
     "data": {
      "text/plain": [
       "48579"
      ]
     },
     "execution_count": 324,
     "metadata": {},
     "output_type": "execute_result"
    }
   ],
   "source": [
    "## number of duplicated entries\n",
    "df_round['company_permalink'].duplicated().sum()"
   ]
  },
  {
   "cell_type": "code",
   "execution_count": 325,
   "metadata": {},
   "outputs": [],
   "source": [
    "## These duplicated entries will be removed using drop_duplicates()\n",
    "df_round = df_round.drop_duplicates(subset='company_permalink')"
   ]
  },
  {
   "cell_type": "code",
   "execution_count": 326,
   "metadata": {},
   "outputs": [
    {
     "data": {
      "text/plain": [
       "(66370, 6)"
      ]
     },
     "execution_count": 326,
     "metadata": {},
     "output_type": "execute_result"
    }
   ],
   "source": [
    "## Now let us check out df_round['company_permalink'] again\n",
    "df_round.shape\n"
   ]
  },
  {
   "cell_type": "markdown",
   "metadata": {},
   "source": [
    "### During in-depth analysis of the df_round['company_permalink'], it was found that some anamolies are present at loactions [33892:33894] and [63486:63489] due to use of special charecters."
   ]
  },
  {
   "cell_type": "code",
   "execution_count": 327,
   "metadata": {},
   "outputs": [
    {
     "data": {
      "text/html": [
       "<div>\n",
       "<style scoped>\n",
       "    .dataframe tbody tr th:only-of-type {\n",
       "        vertical-align: middle;\n",
       "    }\n",
       "\n",
       "    .dataframe tbody tr th {\n",
       "        vertical-align: top;\n",
       "    }\n",
       "\n",
       "    .dataframe thead th {\n",
       "        text-align: right;\n",
       "    }\n",
       "</style>\n",
       "<table border=\"1\" class=\"dataframe\">\n",
       "  <thead>\n",
       "    <tr style=\"text-align: right;\">\n",
       "      <th></th>\n",
       "      <th>company_permalink</th>\n",
       "      <th>funding_round_permalink</th>\n",
       "      <th>funding_round_type</th>\n",
       "      <th>funding_round_code</th>\n",
       "      <th>funded_at</th>\n",
       "      <th>raised_amount_usd</th>\n",
       "    </tr>\n",
       "  </thead>\n",
       "  <tbody>\n",
       "    <tr>\n",
       "      <th>58473</th>\n",
       "      <td>/organization/magnet-tech-ç£ç³ç§æ</td>\n",
       "      <td>/funding-round/8fc91fbb32bc95e97f151dd0cb4166bf</td>\n",
       "      <td>seed</td>\n",
       "      <td>NaN</td>\n",
       "      <td>16-08-2014</td>\n",
       "      <td>1625585.0</td>\n",
       "    </tr>\n",
       "    <tr>\n",
       "      <th>58474</th>\n",
       "      <td>/organization/magnet-tech-ç£çÿ³ç§æ</td>\n",
       "      <td>/funding-round/be2fb8789ec4e1902c2a7e1f7313ad3d</td>\n",
       "      <td>venture</td>\n",
       "      <td>A</td>\n",
       "      <td>16-01-2015</td>\n",
       "      <td>NaN</td>\n",
       "    </tr>\n",
       "  </tbody>\n",
       "</table>\n",
       "</div>"
      ],
      "text/plain": [
       "                            company_permalink  \\\n",
       "58473  /organization/magnet-tech-ç£ç³ç§æ   \n",
       "58474  /organization/magnet-tech-ç£çÿ³ç§æ   \n",
       "\n",
       "                               funding_round_permalink funding_round_type  \\\n",
       "58473  /funding-round/8fc91fbb32bc95e97f151dd0cb4166bf               seed   \n",
       "58474  /funding-round/be2fb8789ec4e1902c2a7e1f7313ad3d            venture   \n",
       "\n",
       "      funding_round_code   funded_at  raised_amount_usd  \n",
       "58473                NaN  16-08-2014          1625585.0  \n",
       "58474                  A  16-01-2015                NaN  "
      ]
     },
     "execution_count": 327,
     "metadata": {},
     "output_type": "execute_result"
    }
   ],
   "source": [
    "## looking at anamolies at [33892:33894]\n",
    "df_round.iloc[33892:33894]"
   ]
  },
  {
   "cell_type": "code",
   "execution_count": 328,
   "metadata": {},
   "outputs": [
    {
     "data": {
      "text/html": [
       "<div>\n",
       "<style scoped>\n",
       "    .dataframe tbody tr th:only-of-type {\n",
       "        vertical-align: middle;\n",
       "    }\n",
       "\n",
       "    .dataframe tbody tr th {\n",
       "        vertical-align: top;\n",
       "    }\n",
       "\n",
       "    .dataframe thead th {\n",
       "        text-align: right;\n",
       "    }\n",
       "</style>\n",
       "<table border=\"1\" class=\"dataframe\">\n",
       "  <thead>\n",
       "    <tr style=\"text-align: right;\">\n",
       "      <th></th>\n",
       "      <th>company_permalink</th>\n",
       "      <th>funding_round_permalink</th>\n",
       "      <th>funding_round_type</th>\n",
       "      <th>funding_round_code</th>\n",
       "      <th>funded_at</th>\n",
       "      <th>raised_amount_usd</th>\n",
       "    </tr>\n",
       "  </thead>\n",
       "  <tbody>\n",
       "    <tr>\n",
       "      <th>109966</th>\n",
       "      <td>/organization/weichaishi-com</td>\n",
       "      <td>/funding-round/0c878c8df0a14267dc4452d1f3679ea4</td>\n",
       "      <td>venture</td>\n",
       "      <td>A</td>\n",
       "      <td>15-09-2014</td>\n",
       "      <td>3200000.0</td>\n",
       "    </tr>\n",
       "    <tr>\n",
       "      <th>109968</th>\n",
       "      <td>/organization/weiche-tech-åè½¦ç§æ</td>\n",
       "      <td>/funding-round/27b0cd2e0b75cbceb717343ea86c2c28</td>\n",
       "      <td>angel</td>\n",
       "      <td>NaN</td>\n",
       "      <td>16-06-2014</td>\n",
       "      <td>NaN</td>\n",
       "    </tr>\n",
       "    <tr>\n",
       "      <th>109969</th>\n",
       "      <td>/organization/weiche-tech-åè½¦ç§æ</td>\n",
       "      <td>/funding-round/f74e457f838b81fa0b29649740f186d8</td>\n",
       "      <td>venture</td>\n",
       "      <td>A</td>\n",
       "      <td>06-09-2015</td>\n",
       "      <td>NaN</td>\n",
       "    </tr>\n",
       "  </tbody>\n",
       "</table>\n",
       "</div>"
      ],
      "text/plain": [
       "                             company_permalink  \\\n",
       "109966            /organization/weichaishi-com   \n",
       "109968  /organization/weiche-tech-åè½¦ç§æ   \n",
       "109969  /organization/weiche-tech-åè½¦ç§æ   \n",
       "\n",
       "                                funding_round_permalink funding_round_type  \\\n",
       "109966  /funding-round/0c878c8df0a14267dc4452d1f3679ea4            venture   \n",
       "109968  /funding-round/27b0cd2e0b75cbceb717343ea86c2c28              angel   \n",
       "109969  /funding-round/f74e457f838b81fa0b29649740f186d8            venture   \n",
       "\n",
       "       funding_round_code   funded_at  raised_amount_usd  \n",
       "109966                  A  15-09-2014          3200000.0  \n",
       "109968                NaN  16-06-2014                NaN  \n",
       "109969                  A  06-09-2015                NaN  "
      ]
     },
     "execution_count": 328,
     "metadata": {},
     "output_type": "execute_result"
    }
   ],
   "source": [
    "## looking at anamolies at [63486:63489]\n",
    "df_round.iloc[63486:63489]"
   ]
  },
  {
   "cell_type": "markdown",
   "metadata": {},
   "source": [
    "### Dealing with 2 entries wont have any major impact on the data analysis. But since we are aware of them, let us remove these anamolies.\n",
    "### To do that we will simply reassing the values at the specific locations by removing the special charecters."
   ]
  },
  {
   "cell_type": "code",
   "execution_count": 329,
   "metadata": {},
   "outputs": [],
   "source": [
    "## Reassinging at [33892]\n",
    "df_round.iloc[33892]= '/organization/magnet-tech'"
   ]
  },
  {
   "cell_type": "code",
   "execution_count": 330,
   "metadata": {},
   "outputs": [],
   "source": [
    "## Reassinging at [33892]\n",
    "df_round.iloc[33893]= '/organization/magnet-tech'"
   ]
  },
  {
   "cell_type": "code",
   "execution_count": 331,
   "metadata": {},
   "outputs": [
    {
     "data": {
      "text/html": [
       "<div>\n",
       "<style scoped>\n",
       "    .dataframe tbody tr th:only-of-type {\n",
       "        vertical-align: middle;\n",
       "    }\n",
       "\n",
       "    .dataframe tbody tr th {\n",
       "        vertical-align: top;\n",
       "    }\n",
       "\n",
       "    .dataframe thead th {\n",
       "        text-align: right;\n",
       "    }\n",
       "</style>\n",
       "<table border=\"1\" class=\"dataframe\">\n",
       "  <thead>\n",
       "    <tr style=\"text-align: right;\">\n",
       "      <th></th>\n",
       "      <th>company_permalink</th>\n",
       "      <th>funding_round_permalink</th>\n",
       "      <th>funding_round_type</th>\n",
       "      <th>funding_round_code</th>\n",
       "      <th>funded_at</th>\n",
       "      <th>raised_amount_usd</th>\n",
       "    </tr>\n",
       "  </thead>\n",
       "  <tbody>\n",
       "    <tr>\n",
       "      <th>58473</th>\n",
       "      <td>/organization/magnet-tech</td>\n",
       "      <td>/organization/magnet-tech</td>\n",
       "      <td>/organization/magnet-tech</td>\n",
       "      <td>/organization/magnet-tech</td>\n",
       "      <td>/organization/magnet-tech</td>\n",
       "      <td>/organization/magnet-tech</td>\n",
       "    </tr>\n",
       "    <tr>\n",
       "      <th>58474</th>\n",
       "      <td>/organization/magnet-tech</td>\n",
       "      <td>/organization/magnet-tech</td>\n",
       "      <td>/organization/magnet-tech</td>\n",
       "      <td>/organization/magnet-tech</td>\n",
       "      <td>/organization/magnet-tech</td>\n",
       "      <td>/organization/magnet-tech</td>\n",
       "    </tr>\n",
       "  </tbody>\n",
       "</table>\n",
       "</div>"
      ],
      "text/plain": [
       "               company_permalink    funding_round_permalink  \\\n",
       "58473  /organization/magnet-tech  /organization/magnet-tech   \n",
       "58474  /organization/magnet-tech  /organization/magnet-tech   \n",
       "\n",
       "              funding_round_type         funding_round_code  \\\n",
       "58473  /organization/magnet-tech  /organization/magnet-tech   \n",
       "58474  /organization/magnet-tech  /organization/magnet-tech   \n",
       "\n",
       "                       funded_at          raised_amount_usd  \n",
       "58473  /organization/magnet-tech  /organization/magnet-tech  \n",
       "58474  /organization/magnet-tech  /organization/magnet-tech  "
      ]
     },
     "execution_count": 331,
     "metadata": {},
     "output_type": "execute_result"
    }
   ],
   "source": [
    "## checking the locations again\n",
    "df_round.iloc[33892:33894]"
   ]
  },
  {
   "cell_type": "code",
   "execution_count": 332,
   "metadata": {},
   "outputs": [],
   "source": [
    "## Reassinging at [63487]\n",
    "df_round.iloc[63487] = '/organization/weiche-tech'"
   ]
  },
  {
   "cell_type": "code",
   "execution_count": 333,
   "metadata": {},
   "outputs": [],
   "source": [
    "## Reassinging at [63488]\n",
    "df_round.iloc[63488] = '/organization/weiche-tech'"
   ]
  },
  {
   "cell_type": "code",
   "execution_count": 334,
   "metadata": {},
   "outputs": [
    {
     "data": {
      "text/html": [
       "<div>\n",
       "<style scoped>\n",
       "    .dataframe tbody tr th:only-of-type {\n",
       "        vertical-align: middle;\n",
       "    }\n",
       "\n",
       "    .dataframe tbody tr th {\n",
       "        vertical-align: top;\n",
       "    }\n",
       "\n",
       "    .dataframe thead th {\n",
       "        text-align: right;\n",
       "    }\n",
       "</style>\n",
       "<table border=\"1\" class=\"dataframe\">\n",
       "  <thead>\n",
       "    <tr style=\"text-align: right;\">\n",
       "      <th></th>\n",
       "      <th>company_permalink</th>\n",
       "      <th>funding_round_permalink</th>\n",
       "      <th>funding_round_type</th>\n",
       "      <th>funding_round_code</th>\n",
       "      <th>funded_at</th>\n",
       "      <th>raised_amount_usd</th>\n",
       "    </tr>\n",
       "  </thead>\n",
       "  <tbody>\n",
       "    <tr>\n",
       "      <th>109966</th>\n",
       "      <td>/organization/weichaishi-com</td>\n",
       "      <td>/funding-round/0c878c8df0a14267dc4452d1f3679ea4</td>\n",
       "      <td>venture</td>\n",
       "      <td>A</td>\n",
       "      <td>15-09-2014</td>\n",
       "      <td>3.2e+06</td>\n",
       "    </tr>\n",
       "    <tr>\n",
       "      <th>109968</th>\n",
       "      <td>/organization/weiche-tech</td>\n",
       "      <td>/organization/weiche-tech</td>\n",
       "      <td>/organization/weiche-tech</td>\n",
       "      <td>/organization/weiche-tech</td>\n",
       "      <td>/organization/weiche-tech</td>\n",
       "      <td>/organization/weiche-tech</td>\n",
       "    </tr>\n",
       "    <tr>\n",
       "      <th>109969</th>\n",
       "      <td>/organization/weiche-tech</td>\n",
       "      <td>/organization/weiche-tech</td>\n",
       "      <td>/organization/weiche-tech</td>\n",
       "      <td>/organization/weiche-tech</td>\n",
       "      <td>/organization/weiche-tech</td>\n",
       "      <td>/organization/weiche-tech</td>\n",
       "    </tr>\n",
       "  </tbody>\n",
       "</table>\n",
       "</div>"
      ],
      "text/plain": [
       "                   company_permalink  \\\n",
       "109966  /organization/weichaishi-com   \n",
       "109968     /organization/weiche-tech   \n",
       "109969     /organization/weiche-tech   \n",
       "\n",
       "                                funding_round_permalink  \\\n",
       "109966  /funding-round/0c878c8df0a14267dc4452d1f3679ea4   \n",
       "109968                        /organization/weiche-tech   \n",
       "109969                        /organization/weiche-tech   \n",
       "\n",
       "               funding_round_type         funding_round_code  \\\n",
       "109966                    venture                          A   \n",
       "109968  /organization/weiche-tech  /organization/weiche-tech   \n",
       "109969  /organization/weiche-tech  /organization/weiche-tech   \n",
       "\n",
       "                        funded_at          raised_amount_usd  \n",
       "109966                 15-09-2014                    3.2e+06  \n",
       "109968  /organization/weiche-tech  /organization/weiche-tech  \n",
       "109969  /organization/weiche-tech  /organization/weiche-tech  "
      ]
     },
     "execution_count": 334,
     "metadata": {},
     "output_type": "execute_result"
    }
   ],
   "source": [
    "## checking the locations again\n",
    "df_round.iloc[63486:63489]"
   ]
  },
  {
   "cell_type": "code",
   "execution_count": 335,
   "metadata": {},
   "outputs": [
    {
     "data": {
      "text/plain": [
       "company_permalink          66368\n",
       "funding_round_permalink    66368\n",
       "funding_round_type            16\n",
       "funding_round_code            10\n",
       "funded_at                   4681\n",
       "raised_amount_usd          12830\n",
       "dtype: int64"
      ]
     },
     "execution_count": 335,
     "metadata": {},
     "output_type": "execute_result"
    }
   ],
   "source": [
    "## checking for unique values in df_round\n",
    "df_round.nunique()"
   ]
  },
  {
   "cell_type": "code",
   "execution_count": 336,
   "metadata": {},
   "outputs": [
    {
     "data": {
      "text/plain": [
       "(66368, 6)"
      ]
     },
     "execution_count": 336,
     "metadata": {},
     "output_type": "execute_result"
    }
   ],
   "source": [
    "## Now company_permalink shows 66368 unique values\n",
    "## Dropping the duplicates from company_permalink\n",
    "df_round = df_round.drop_duplicates(subset='company_permalink')\n",
    "df_round.shape"
   ]
  },
  {
   "cell_type": "code",
   "execution_count": 337,
   "metadata": {},
   "outputs": [],
   "source": [
    "## since we have dropped rows, let us reset the index\n",
    "df_round.reset_index(inplace=True,drop=True)"
   ]
  },
  {
   "cell_type": "code",
   "execution_count": 338,
   "metadata": {},
   "outputs": [
    {
     "data": {
      "text/html": [
       "<div>\n",
       "<style scoped>\n",
       "    .dataframe tbody tr th:only-of-type {\n",
       "        vertical-align: middle;\n",
       "    }\n",
       "\n",
       "    .dataframe tbody tr th {\n",
       "        vertical-align: top;\n",
       "    }\n",
       "\n",
       "    .dataframe thead th {\n",
       "        text-align: right;\n",
       "    }\n",
       "</style>\n",
       "<table border=\"1\" class=\"dataframe\">\n",
       "  <thead>\n",
       "    <tr style=\"text-align: right;\">\n",
       "      <th></th>\n",
       "      <th>company_permalink</th>\n",
       "      <th>funding_round_permalink</th>\n",
       "      <th>funding_round_type</th>\n",
       "      <th>funding_round_code</th>\n",
       "      <th>funded_at</th>\n",
       "      <th>raised_amount_usd</th>\n",
       "    </tr>\n",
       "  </thead>\n",
       "  <tbody>\n",
       "    <tr>\n",
       "      <th>0</th>\n",
       "      <td>/organization/-fame</td>\n",
       "      <td>/funding-round/9a01d05418af9f794eebff7ace91f638</td>\n",
       "      <td>venture</td>\n",
       "      <td>B</td>\n",
       "      <td>05-01-2015</td>\n",
       "      <td>1e+07</td>\n",
       "    </tr>\n",
       "    <tr>\n",
       "      <th>1</th>\n",
       "      <td>/organization/-qounter</td>\n",
       "      <td>/funding-round/22dacff496eb7acb2b901dec1dfe5633</td>\n",
       "      <td>venture</td>\n",
       "      <td>A</td>\n",
       "      <td>14-10-2014</td>\n",
       "      <td>NaN</td>\n",
       "    </tr>\n",
       "    <tr>\n",
       "      <th>2</th>\n",
       "      <td>/organization/-the-one-of-them-inc-</td>\n",
       "      <td>/funding-round/650b8f704416801069bb178a1418776b</td>\n",
       "      <td>venture</td>\n",
       "      <td>B</td>\n",
       "      <td>30-01-2014</td>\n",
       "      <td>3.40688e+06</td>\n",
       "    </tr>\n",
       "    <tr>\n",
       "      <th>3</th>\n",
       "      <td>/organization/0-6-com</td>\n",
       "      <td>/funding-round/5727accaeaa57461bd22a9bdd945382d</td>\n",
       "      <td>venture</td>\n",
       "      <td>A</td>\n",
       "      <td>19-03-2008</td>\n",
       "      <td>2e+06</td>\n",
       "    </tr>\n",
       "    <tr>\n",
       "      <th>4</th>\n",
       "      <td>/organization/004-technologies</td>\n",
       "      <td>/funding-round/1278dd4e6a37fa4b7d7e06c21b3c1830</td>\n",
       "      <td>venture</td>\n",
       "      <td>NaN</td>\n",
       "      <td>24-07-2014</td>\n",
       "      <td>NaN</td>\n",
       "    </tr>\n",
       "    <tr>\n",
       "      <th>...</th>\n",
       "      <td>...</td>\n",
       "      <td>...</td>\n",
       "      <td>...</td>\n",
       "      <td>...</td>\n",
       "      <td>...</td>\n",
       "      <td>...</td>\n",
       "    </tr>\n",
       "    <tr>\n",
       "      <th>66363</th>\n",
       "      <td>/organization/zznode-science-and-technology-co...</td>\n",
       "      <td>/funding-round/171693e1e07e0230defd8fddb6de4515</td>\n",
       "      <td>venture</td>\n",
       "      <td>A</td>\n",
       "      <td>01-04-2012</td>\n",
       "      <td>1.5873e+06</td>\n",
       "    </tr>\n",
       "    <tr>\n",
       "      <th>66364</th>\n",
       "      <td>/organization/zzzzapp-com</td>\n",
       "      <td>/funding-round/22ef2fafb4d20ac3aa4b86143dbf6c8e</td>\n",
       "      <td>seed</td>\n",
       "      <td>NaN</td>\n",
       "      <td>01-11-2011</td>\n",
       "      <td>7000</td>\n",
       "    </tr>\n",
       "    <tr>\n",
       "      <th>66365</th>\n",
       "      <td>/organization/ãeron</td>\n",
       "      <td>/funding-round/59f4dce44723b794f21ded3daed6e4fe</td>\n",
       "      <td>venture</td>\n",
       "      <td>A</td>\n",
       "      <td>01-08-2014</td>\n",
       "      <td>NaN</td>\n",
       "    </tr>\n",
       "    <tr>\n",
       "      <th>66366</th>\n",
       "      <td>/organization/ãasys-2</td>\n",
       "      <td>/funding-round/35f09d0794651719b02bbfd859ba9ff5</td>\n",
       "      <td>seed</td>\n",
       "      <td>NaN</td>\n",
       "      <td>01-01-2015</td>\n",
       "      <td>18192</td>\n",
       "    </tr>\n",
       "    <tr>\n",
       "      <th>66367</th>\n",
       "      <td>/organization/ä°novatiff-reklam-ve-tanä±tä±m-h...</td>\n",
       "      <td>/funding-round/af942869878d2cd788ef5189b435ebc4</td>\n",
       "      <td>grant</td>\n",
       "      <td>NaN</td>\n",
       "      <td>01-10-2013</td>\n",
       "      <td>14851</td>\n",
       "    </tr>\n",
       "  </tbody>\n",
       "</table>\n",
       "<p>66368 rows × 6 columns</p>\n",
       "</div>"
      ],
      "text/plain": [
       "                                       company_permalink  \\\n",
       "0                                    /organization/-fame   \n",
       "1                                 /organization/-qounter   \n",
       "2                    /organization/-the-one-of-them-inc-   \n",
       "3                                  /organization/0-6-com   \n",
       "4                         /organization/004-technologies   \n",
       "...                                                  ...   \n",
       "66363  /organization/zznode-science-and-technology-co...   \n",
       "66364                          /organization/zzzzapp-com   \n",
       "66365                               /organization/ãeron   \n",
       "66366                             /organization/ãasys-2   \n",
       "66367  /organization/ä°novatiff-reklam-ve-tanä±tä±m-h...   \n",
       "\n",
       "                               funding_round_permalink funding_round_type  \\\n",
       "0      /funding-round/9a01d05418af9f794eebff7ace91f638            venture   \n",
       "1      /funding-round/22dacff496eb7acb2b901dec1dfe5633            venture   \n",
       "2      /funding-round/650b8f704416801069bb178a1418776b            venture   \n",
       "3      /funding-round/5727accaeaa57461bd22a9bdd945382d            venture   \n",
       "4      /funding-round/1278dd4e6a37fa4b7d7e06c21b3c1830            venture   \n",
       "...                                                ...                ...   \n",
       "66363  /funding-round/171693e1e07e0230defd8fddb6de4515            venture   \n",
       "66364  /funding-round/22ef2fafb4d20ac3aa4b86143dbf6c8e               seed   \n",
       "66365  /funding-round/59f4dce44723b794f21ded3daed6e4fe            venture   \n",
       "66366  /funding-round/35f09d0794651719b02bbfd859ba9ff5               seed   \n",
       "66367  /funding-round/af942869878d2cd788ef5189b435ebc4              grant   \n",
       "\n",
       "      funding_round_code   funded_at raised_amount_usd  \n",
       "0                      B  05-01-2015             1e+07  \n",
       "1                      A  14-10-2014               NaN  \n",
       "2                      B  30-01-2014       3.40688e+06  \n",
       "3                      A  19-03-2008             2e+06  \n",
       "4                    NaN  24-07-2014               NaN  \n",
       "...                  ...         ...               ...  \n",
       "66363                  A  01-04-2012        1.5873e+06  \n",
       "66364                NaN  01-11-2011              7000  \n",
       "66365                  A  01-08-2014               NaN  \n",
       "66366                NaN  01-01-2015             18192  \n",
       "66367                NaN  01-10-2013             14851  \n",
       "\n",
       "[66368 rows x 6 columns]"
      ]
     },
     "execution_count": 338,
     "metadata": {},
     "output_type": "execute_result"
    }
   ],
   "source": [
    "## checking reset index\n",
    "df_round"
   ]
  },
  {
   "cell_type": "markdown",
   "metadata": {},
   "source": [
    "### For checkpoint 1 ,we know that the number of unique companies in both companies file and round2 dataframe are  66368.\n",
    "### Also the colums 'company' from companies dataframe  and 'company_permalink' from round dataframe are the unique keys for each company."
   ]
  },
  {
   "cell_type": "markdown",
   "metadata": {},
   "source": [
    "## Merging df_comp and df_round to make the master_frame"
   ]
  },
  {
   "cell_type": "code",
   "execution_count": 339,
   "metadata": {},
   "outputs": [],
   "source": [
    "## we will be merging on columns df_comp['permalink'] and df_round['company_permalink']\n",
    "## we will use the 'inner' join to ensure that companies common to both are in master_frame\n",
    "master_frame = pd.merge(df_comp,df_round,left_on = 'permalink',right_on = 'company_permalink',how='inner')"
   ]
  },
  {
   "cell_type": "code",
   "execution_count": 340,
   "metadata": {},
   "outputs": [
    {
     "data": {
      "text/html": [
       "<div>\n",
       "<style scoped>\n",
       "    .dataframe tbody tr th:only-of-type {\n",
       "        vertical-align: middle;\n",
       "    }\n",
       "\n",
       "    .dataframe tbody tr th {\n",
       "        vertical-align: top;\n",
       "    }\n",
       "\n",
       "    .dataframe thead th {\n",
       "        text-align: right;\n",
       "    }\n",
       "</style>\n",
       "<table border=\"1\" class=\"dataframe\">\n",
       "  <thead>\n",
       "    <tr style=\"text-align: right;\">\n",
       "      <th></th>\n",
       "      <th>permalink</th>\n",
       "      <th>name</th>\n",
       "      <th>homepage_url</th>\n",
       "      <th>category_list</th>\n",
       "      <th>status</th>\n",
       "      <th>country_code</th>\n",
       "      <th>state_code</th>\n",
       "      <th>region</th>\n",
       "      <th>city</th>\n",
       "      <th>founded_at</th>\n",
       "      <th>company_permalink</th>\n",
       "      <th>funding_round_permalink</th>\n",
       "      <th>funding_round_type</th>\n",
       "      <th>funding_round_code</th>\n",
       "      <th>funded_at</th>\n",
       "      <th>raised_amount_usd</th>\n",
       "    </tr>\n",
       "  </thead>\n",
       "  <tbody>\n",
       "    <tr>\n",
       "      <th>0</th>\n",
       "      <td>/organization/-fame</td>\n",
       "      <td>#fame</td>\n",
       "      <td>http://livfame.com</td>\n",
       "      <td>Media</td>\n",
       "      <td>operating</td>\n",
       "      <td>IND</td>\n",
       "      <td>16</td>\n",
       "      <td>Mumbai</td>\n",
       "      <td>Mumbai</td>\n",
       "      <td>NaN</td>\n",
       "      <td>/organization/-fame</td>\n",
       "      <td>/funding-round/9a01d05418af9f794eebff7ace91f638</td>\n",
       "      <td>venture</td>\n",
       "      <td>B</td>\n",
       "      <td>05-01-2015</td>\n",
       "      <td>1e+07</td>\n",
       "    </tr>\n",
       "    <tr>\n",
       "      <th>1</th>\n",
       "      <td>/organization/-qounter</td>\n",
       "      <td>:Qounter</td>\n",
       "      <td>http://www.qounter.com</td>\n",
       "      <td>Application Platforms|Real Time|Social Network...</td>\n",
       "      <td>operating</td>\n",
       "      <td>USA</td>\n",
       "      <td>DE</td>\n",
       "      <td>DE - Other</td>\n",
       "      <td>Delaware City</td>\n",
       "      <td>04-09-2014</td>\n",
       "      <td>/organization/-qounter</td>\n",
       "      <td>/funding-round/22dacff496eb7acb2b901dec1dfe5633</td>\n",
       "      <td>venture</td>\n",
       "      <td>A</td>\n",
       "      <td>14-10-2014</td>\n",
       "      <td>NaN</td>\n",
       "    </tr>\n",
       "    <tr>\n",
       "      <th>2</th>\n",
       "      <td>/organization/-the-one-of-them-inc-</td>\n",
       "      <td>(THE) ONE of THEM,Inc.</td>\n",
       "      <td>http://oneofthem.jp</td>\n",
       "      <td>Apps|Games|Mobile</td>\n",
       "      <td>operating</td>\n",
       "      <td>NaN</td>\n",
       "      <td>NaN</td>\n",
       "      <td>NaN</td>\n",
       "      <td>NaN</td>\n",
       "      <td>NaN</td>\n",
       "      <td>/organization/-the-one-of-them-inc-</td>\n",
       "      <td>/funding-round/650b8f704416801069bb178a1418776b</td>\n",
       "      <td>venture</td>\n",
       "      <td>B</td>\n",
       "      <td>30-01-2014</td>\n",
       "      <td>3.40688e+06</td>\n",
       "    </tr>\n",
       "    <tr>\n",
       "      <th>3</th>\n",
       "      <td>/organization/0-6-com</td>\n",
       "      <td>0-6.com</td>\n",
       "      <td>http://www.0-6.com</td>\n",
       "      <td>Curated Web</td>\n",
       "      <td>operating</td>\n",
       "      <td>CHN</td>\n",
       "      <td>22</td>\n",
       "      <td>Beijing</td>\n",
       "      <td>Beijing</td>\n",
       "      <td>01-01-2007</td>\n",
       "      <td>/organization/0-6-com</td>\n",
       "      <td>/funding-round/5727accaeaa57461bd22a9bdd945382d</td>\n",
       "      <td>venture</td>\n",
       "      <td>A</td>\n",
       "      <td>19-03-2008</td>\n",
       "      <td>2e+06</td>\n",
       "    </tr>\n",
       "    <tr>\n",
       "      <th>4</th>\n",
       "      <td>/organization/004-technologies</td>\n",
       "      <td>004 Technologies</td>\n",
       "      <td>http://004gmbh.de/en/004-interact</td>\n",
       "      <td>Software</td>\n",
       "      <td>operating</td>\n",
       "      <td>USA</td>\n",
       "      <td>IL</td>\n",
       "      <td>Springfield, Illinois</td>\n",
       "      <td>Champaign</td>\n",
       "      <td>01-01-2010</td>\n",
       "      <td>/organization/004-technologies</td>\n",
       "      <td>/funding-round/1278dd4e6a37fa4b7d7e06c21b3c1830</td>\n",
       "      <td>venture</td>\n",
       "      <td>NaN</td>\n",
       "      <td>24-07-2014</td>\n",
       "      <td>NaN</td>\n",
       "    </tr>\n",
       "  </tbody>\n",
       "</table>\n",
       "</div>"
      ],
      "text/plain": [
       "                             permalink                    name  \\\n",
       "0                  /organization/-fame                   #fame   \n",
       "1               /organization/-qounter                :Qounter   \n",
       "2  /organization/-the-one-of-them-inc-  (THE) ONE of THEM,Inc.   \n",
       "3                /organization/0-6-com                 0-6.com   \n",
       "4       /organization/004-technologies        004 Technologies   \n",
       "\n",
       "                        homepage_url  \\\n",
       "0                 http://livfame.com   \n",
       "1             http://www.qounter.com   \n",
       "2                http://oneofthem.jp   \n",
       "3                 http://www.0-6.com   \n",
       "4  http://004gmbh.de/en/004-interact   \n",
       "\n",
       "                                       category_list     status country_code  \\\n",
       "0                                              Media  operating          IND   \n",
       "1  Application Platforms|Real Time|Social Network...  operating          USA   \n",
       "2                                  Apps|Games|Mobile  operating          NaN   \n",
       "3                                        Curated Web  operating          CHN   \n",
       "4                                           Software  operating          USA   \n",
       "\n",
       "  state_code                 region           city  founded_at  \\\n",
       "0         16                 Mumbai         Mumbai         NaN   \n",
       "1         DE             DE - Other  Delaware City  04-09-2014   \n",
       "2        NaN                    NaN            NaN         NaN   \n",
       "3         22                Beijing        Beijing  01-01-2007   \n",
       "4         IL  Springfield, Illinois      Champaign  01-01-2010   \n",
       "\n",
       "                     company_permalink  \\\n",
       "0                  /organization/-fame   \n",
       "1               /organization/-qounter   \n",
       "2  /organization/-the-one-of-them-inc-   \n",
       "3                /organization/0-6-com   \n",
       "4       /organization/004-technologies   \n",
       "\n",
       "                           funding_round_permalink funding_round_type  \\\n",
       "0  /funding-round/9a01d05418af9f794eebff7ace91f638            venture   \n",
       "1  /funding-round/22dacff496eb7acb2b901dec1dfe5633            venture   \n",
       "2  /funding-round/650b8f704416801069bb178a1418776b            venture   \n",
       "3  /funding-round/5727accaeaa57461bd22a9bdd945382d            venture   \n",
       "4  /funding-round/1278dd4e6a37fa4b7d7e06c21b3c1830            venture   \n",
       "\n",
       "  funding_round_code   funded_at raised_amount_usd  \n",
       "0                  B  05-01-2015             1e+07  \n",
       "1                  A  14-10-2014               NaN  \n",
       "2                  B  30-01-2014       3.40688e+06  \n",
       "3                  A  19-03-2008             2e+06  \n",
       "4                NaN  24-07-2014               NaN  "
      ]
     },
     "execution_count": 340,
     "metadata": {},
     "output_type": "execute_result"
    }
   ],
   "source": [
    "## checking master_frame\n",
    "master_frame.head()"
   ]
  },
  {
   "cell_type": "code",
   "execution_count": 341,
   "metadata": {},
   "outputs": [
    {
     "data": {
      "text/html": [
       "<div>\n",
       "<style scoped>\n",
       "    .dataframe tbody tr th:only-of-type {\n",
       "        vertical-align: middle;\n",
       "    }\n",
       "\n",
       "    .dataframe tbody tr th {\n",
       "        vertical-align: top;\n",
       "    }\n",
       "\n",
       "    .dataframe thead th {\n",
       "        text-align: right;\n",
       "    }\n",
       "</style>\n",
       "<table border=\"1\" class=\"dataframe\">\n",
       "  <thead>\n",
       "    <tr style=\"text-align: right;\">\n",
       "      <th></th>\n",
       "      <th>permalink</th>\n",
       "      <th>name</th>\n",
       "      <th>homepage_url</th>\n",
       "      <th>category_list</th>\n",
       "      <th>status</th>\n",
       "      <th>country_code</th>\n",
       "      <th>state_code</th>\n",
       "      <th>region</th>\n",
       "      <th>city</th>\n",
       "      <th>founded_at</th>\n",
       "      <th>company_permalink</th>\n",
       "      <th>funding_round_permalink</th>\n",
       "      <th>funding_round_type</th>\n",
       "      <th>funding_round_code</th>\n",
       "      <th>funded_at</th>\n",
       "      <th>raised_amount_usd</th>\n",
       "    </tr>\n",
       "  </thead>\n",
       "  <tbody>\n",
       "    <tr>\n",
       "      <th>66356</th>\n",
       "      <td>/organization/zznode-science-and-technology-co...</td>\n",
       "      <td>ZZNode Science and Technology</td>\n",
       "      <td>http://www.zznode.com</td>\n",
       "      <td>Enterprise Software</td>\n",
       "      <td>operating</td>\n",
       "      <td>CHN</td>\n",
       "      <td>22</td>\n",
       "      <td>Beijing</td>\n",
       "      <td>Beijing</td>\n",
       "      <td>NaN</td>\n",
       "      <td>/organization/zznode-science-and-technology-co...</td>\n",
       "      <td>/funding-round/171693e1e07e0230defd8fddb6de4515</td>\n",
       "      <td>venture</td>\n",
       "      <td>A</td>\n",
       "      <td>01-04-2012</td>\n",
       "      <td>1.5873e+06</td>\n",
       "    </tr>\n",
       "    <tr>\n",
       "      <th>66357</th>\n",
       "      <td>/organization/zzzzapp-com</td>\n",
       "      <td>Zzzzapp Wireless ltd.</td>\n",
       "      <td>http://www.zzzzapp.com</td>\n",
       "      <td>Advertising|Mobile|Web Development|Wireless</td>\n",
       "      <td>operating</td>\n",
       "      <td>HRV</td>\n",
       "      <td>15</td>\n",
       "      <td>Split</td>\n",
       "      <td>Split</td>\n",
       "      <td>13-05-2012</td>\n",
       "      <td>/organization/zzzzapp-com</td>\n",
       "      <td>/funding-round/22ef2fafb4d20ac3aa4b86143dbf6c8e</td>\n",
       "      <td>seed</td>\n",
       "      <td>NaN</td>\n",
       "      <td>01-11-2011</td>\n",
       "      <td>7000</td>\n",
       "    </tr>\n",
       "    <tr>\n",
       "      <th>66358</th>\n",
       "      <td>/organization/ãeron</td>\n",
       "      <td>ÃERON</td>\n",
       "      <td>http://www.aeron.hu/</td>\n",
       "      <td>NaN</td>\n",
       "      <td>operating</td>\n",
       "      <td>NaN</td>\n",
       "      <td>NaN</td>\n",
       "      <td>NaN</td>\n",
       "      <td>NaN</td>\n",
       "      <td>01-01-2011</td>\n",
       "      <td>/organization/ãeron</td>\n",
       "      <td>/funding-round/59f4dce44723b794f21ded3daed6e4fe</td>\n",
       "      <td>venture</td>\n",
       "      <td>A</td>\n",
       "      <td>01-08-2014</td>\n",
       "      <td>NaN</td>\n",
       "    </tr>\n",
       "    <tr>\n",
       "      <th>66359</th>\n",
       "      <td>/organization/ãasys-2</td>\n",
       "      <td>Ãasys</td>\n",
       "      <td>http://www.oasys.io/</td>\n",
       "      <td>Consumer Electronics|Internet of Things|Teleco...</td>\n",
       "      <td>operating</td>\n",
       "      <td>USA</td>\n",
       "      <td>CA</td>\n",
       "      <td>SF Bay Area</td>\n",
       "      <td>San Francisco</td>\n",
       "      <td>01-01-2014</td>\n",
       "      <td>/organization/ãasys-2</td>\n",
       "      <td>/funding-round/35f09d0794651719b02bbfd859ba9ff5</td>\n",
       "      <td>seed</td>\n",
       "      <td>NaN</td>\n",
       "      <td>01-01-2015</td>\n",
       "      <td>18192</td>\n",
       "    </tr>\n",
       "    <tr>\n",
       "      <th>66360</th>\n",
       "      <td>/organization/ä°novatiff-reklam-ve-tanä±tä±m-h...</td>\n",
       "      <td>Ä°novatiff Reklam ve TanÄ±tÄ±m Hizmetleri Tic</td>\n",
       "      <td>http://inovatiff.com</td>\n",
       "      <td>Consumer Goods|E-Commerce|Internet</td>\n",
       "      <td>operating</td>\n",
       "      <td>NaN</td>\n",
       "      <td>NaN</td>\n",
       "      <td>NaN</td>\n",
       "      <td>NaN</td>\n",
       "      <td>NaN</td>\n",
       "      <td>/organization/ä°novatiff-reklam-ve-tanä±tä±m-h...</td>\n",
       "      <td>/funding-round/af942869878d2cd788ef5189b435ebc4</td>\n",
       "      <td>grant</td>\n",
       "      <td>NaN</td>\n",
       "      <td>01-10-2013</td>\n",
       "      <td>14851</td>\n",
       "    </tr>\n",
       "  </tbody>\n",
       "</table>\n",
       "</div>"
      ],
      "text/plain": [
       "                                               permalink  \\\n",
       "66356  /organization/zznode-science-and-technology-co...   \n",
       "66357                          /organization/zzzzapp-com   \n",
       "66358                               /organization/ãeron   \n",
       "66359                             /organization/ãasys-2   \n",
       "66360  /organization/ä°novatiff-reklam-ve-tanä±tä±m-h...   \n",
       "\n",
       "                                                name            homepage_url  \\\n",
       "66356                  ZZNode Science and Technology   http://www.zznode.com   \n",
       "66357                          Zzzzapp Wireless ltd.  http://www.zzzzapp.com   \n",
       "66358                                         ÃERON    http://www.aeron.hu/   \n",
       "66359                                         Ãasys    http://www.oasys.io/   \n",
       "66360  Ä°novatiff Reklam ve TanÄ±tÄ±m Hizmetleri Tic    http://inovatiff.com   \n",
       "\n",
       "                                           category_list     status  \\\n",
       "66356                                Enterprise Software  operating   \n",
       "66357        Advertising|Mobile|Web Development|Wireless  operating   \n",
       "66358                                                NaN  operating   \n",
       "66359  Consumer Electronics|Internet of Things|Teleco...  operating   \n",
       "66360                 Consumer Goods|E-Commerce|Internet  operating   \n",
       "\n",
       "      country_code state_code       region           city  founded_at  \\\n",
       "66356          CHN         22      Beijing        Beijing         NaN   \n",
       "66357          HRV         15        Split          Split  13-05-2012   \n",
       "66358          NaN        NaN          NaN            NaN  01-01-2011   \n",
       "66359          USA         CA  SF Bay Area  San Francisco  01-01-2014   \n",
       "66360          NaN        NaN          NaN            NaN         NaN   \n",
       "\n",
       "                                       company_permalink  \\\n",
       "66356  /organization/zznode-science-and-technology-co...   \n",
       "66357                          /organization/zzzzapp-com   \n",
       "66358                               /organization/ãeron   \n",
       "66359                             /organization/ãasys-2   \n",
       "66360  /organization/ä°novatiff-reklam-ve-tanä±tä±m-h...   \n",
       "\n",
       "                               funding_round_permalink funding_round_type  \\\n",
       "66356  /funding-round/171693e1e07e0230defd8fddb6de4515            venture   \n",
       "66357  /funding-round/22ef2fafb4d20ac3aa4b86143dbf6c8e               seed   \n",
       "66358  /funding-round/59f4dce44723b794f21ded3daed6e4fe            venture   \n",
       "66359  /funding-round/35f09d0794651719b02bbfd859ba9ff5               seed   \n",
       "66360  /funding-round/af942869878d2cd788ef5189b435ebc4              grant   \n",
       "\n",
       "      funding_round_code   funded_at raised_amount_usd  \n",
       "66356                  A  01-04-2012        1.5873e+06  \n",
       "66357                NaN  01-11-2011              7000  \n",
       "66358                  A  01-08-2014               NaN  \n",
       "66359                NaN  01-01-2015             18192  \n",
       "66360                NaN  01-10-2013             14851  "
      ]
     },
     "execution_count": 341,
     "metadata": {},
     "output_type": "execute_result"
    }
   ],
   "source": [
    "master_frame.tail()"
   ]
  },
  {
   "cell_type": "code",
   "execution_count": 342,
   "metadata": {},
   "outputs": [
    {
     "data": {
      "text/plain": [
       "(66361, 16)"
      ]
     },
     "execution_count": 342,
     "metadata": {},
     "output_type": "execute_result"
    }
   ],
   "source": [
    "master_frame.shape"
   ]
  },
  {
   "cell_type": "markdown",
   "metadata": {},
   "source": [
    "#### Since master_frame has 66361 rows that means there are 7 companies that are are not common to both"
   ]
  },
  {
   "cell_type": "markdown",
   "metadata": {},
   "source": [
    "## Cleaning the master_frame"
   ]
  },
  {
   "cell_type": "code",
   "execution_count": 343,
   "metadata": {},
   "outputs": [
    {
     "name": "stdout",
     "output_type": "stream",
     "text": [
      "<class 'pandas.core.frame.DataFrame'>\n",
      "Int64Index: 66361 entries, 0 to 66360\n",
      "Data columns (total 16 columns):\n",
      " #   Column                   Non-Null Count  Dtype \n",
      "---  ------                   --------------  ----- \n",
      " 0   permalink                66361 non-null  object\n",
      " 1   name                     66360 non-null  object\n",
      " 2   homepage_url             61305 non-null  object\n",
      " 3   category_list            63216 non-null  object\n",
      " 4   status                   66361 non-null  object\n",
      " 5   country_code             59410 non-null  object\n",
      " 6   state_code               57821 non-null  object\n",
      " 7   region                   58338 non-null  object\n",
      " 8   city                     58340 non-null  object\n",
      " 9   founded_at               51141 non-null  object\n",
      " 10  company_permalink        66361 non-null  object\n",
      " 11  funding_round_permalink  66361 non-null  object\n",
      " 12  funding_round_type       66361 non-null  object\n",
      " 13  funding_round_code       14137 non-null  object\n",
      " 14  funded_at                66361 non-null  object\n",
      " 15  raised_amount_usd        51819 non-null  object\n",
      "dtypes: object(16)\n",
      "memory usage: 8.6+ MB\n"
     ]
    }
   ],
   "source": [
    "master_frame.info()"
   ]
  },
  {
   "cell_type": "markdown",
   "metadata": {},
   "source": [
    "### Observations:\n",
    "### 1.Our main columns of interest here are : permalink, category_list, country_code, funding_round_type, raised_amount_usd  \n",
    "### 2. There are many null values, duplicated columns( permalink and company_permalink), useless columns and mismatch in dtype for raised_amount_usd.\n",
    "### Let's deal with these issues."
   ]
  },
  {
   "cell_type": "code",
   "execution_count": 344,
   "metadata": {},
   "outputs": [],
   "source": [
    "## changing the dtype for 'raised_amount_usd'\n",
    "master_frame['raised_amount_usd'] = master_frame['raised_amount_usd'].astype('float')\n"
   ]
  },
  {
   "cell_type": "code",
   "execution_count": 345,
   "metadata": {},
   "outputs": [
    {
     "data": {
      "text/plain": [
       "permalink                   object\n",
       "name                        object\n",
       "homepage_url                object\n",
       "category_list               object\n",
       "status                      object\n",
       "country_code                object\n",
       "state_code                  object\n",
       "region                      object\n",
       "city                        object\n",
       "founded_at                  object\n",
       "company_permalink           object\n",
       "funding_round_permalink     object\n",
       "funding_round_type          object\n",
       "funding_round_code          object\n",
       "funded_at                   object\n",
       "raised_amount_usd          float64\n",
       "dtype: object"
      ]
     },
     "execution_count": 345,
     "metadata": {},
     "output_type": "execute_result"
    }
   ],
   "source": [
    "master_frame.dtypes"
   ]
  },
  {
   "cell_type": "code",
   "execution_count": 346,
   "metadata": {},
   "outputs": [
    {
     "data": {
      "text/plain": [
       "permalink                   0.0\n",
       "name                        0.0\n",
       "homepage_url                8.0\n",
       "category_list               5.0\n",
       "status                      0.0\n",
       "country_code               10.0\n",
       "state_code                 13.0\n",
       "region                     12.0\n",
       "city                       12.0\n",
       "founded_at                 23.0\n",
       "company_permalink           0.0\n",
       "funding_round_permalink     0.0\n",
       "funding_round_type          0.0\n",
       "funding_round_code         79.0\n",
       "funded_at                   0.0\n",
       "raised_amount_usd          22.0\n",
       "dtype: float64"
      ]
     },
     "execution_count": 346,
     "metadata": {},
     "output_type": "execute_result"
    }
   ],
   "source": [
    "## checking for null values as percentages\n",
    "round(master_frame.isnull().sum()/len(master_frame.index)*100)"
   ]
  },
  {
   "cell_type": "markdown",
   "metadata": {},
   "source": [
    "## Observations:\n",
    "### 1. 'raised_amount_usd' which is a target variable, has a high 22% of null values. Imputing these values may seriously affect the final analysis. So these null values will have to be dropped\n",
    "### 2. 'country_code' which again is a target variable, has 10% of null values. These null values will also be dropped\n",
    "### 3. 'category_list' has 5% null values. These can either be dropped or imputed.\n",
    "### 4. Rest of the null values in other columns won't impact our analysis."
   ]
  },
  {
   "cell_type": "markdown",
   "metadata": {},
   "source": [
    "### Taking care of 'raised_amount_usd'"
   ]
  },
  {
   "cell_type": "markdown",
   "metadata": {},
   "source": [
    "### Checking for outliers"
   ]
  },
  {
   "cell_type": "code",
   "execution_count": 347,
   "metadata": {},
   "outputs": [
    {
     "data": {
      "text/plain": [
       "count    5.181900e+04\n",
       "mean     9.786282e+06\n",
       "std      1.149356e+08\n",
       "min      0.000000e+00\n",
       "25%      2.034215e+05\n",
       "50%      1.200000e+06\n",
       "75%      5.100000e+06\n",
       "max      1.760000e+10\n",
       "Name: raised_amount_usd, dtype: float64"
      ]
     },
     "execution_count": 347,
     "metadata": {},
     "output_type": "execute_result"
    }
   ],
   "source": [
    "master_frame['raised_amount_usd'].describe()\n",
    "# huge variations between\n",
    "## 1.Mean and Median 2.Max and 75%  3. 25% and min\n",
    "### All these point to the presence of outliers."
   ]
  },
  {
   "cell_type": "code",
   "execution_count": 348,
   "metadata": {},
   "outputs": [
    {
     "data": {
      "image/png": "[encoded data removed]",
      "text/plain": [
       "<Figure size 432x288 with 1 Axes>"
      ]
     },
     "metadata": {
      "needs_background": "light"
     },
     "output_type": "display_data"
    }
   ],
   "source": [
    "# let us try to see this visually first using a histogram\n",
    "import matplotlib.pyplot as plt\n",
    "plt.hist(master_frame['raised_amount_usd'])\n",
    "plt.show()"
   ]
  },
  {
   "cell_type": "markdown",
   "metadata": {},
   "source": [
    "##### We see values being congested as the lower end between 0.00 to .025, this indicates strong presence of outliers"
   ]
  },
  {
   "cell_type": "code",
   "execution_count": 349,
   "metadata": {
    "scrolled": true
   },
   "outputs": [
    {
     "data": {
      "image/png": "[encoded data removed]",
      "text/plain": [
       "<Figure size 432x288 with 1 Axes>"
      ]
     },
     "metadata": {
      "needs_background": "light"
     },
     "output_type": "display_data"
    }
   ],
   "source": [
    "## Checking outliers using boxplot\n",
    "plt.boxplot(master_frame['raised_amount_usd'])\n",
    "plt.show()"
   ]
  },
  {
   "cell_type": "markdown",
   "metadata": {},
   "source": [
    "##### such a plot again indicates strong presence of outliers"
   ]
  },
  {
   "cell_type": "markdown",
   "metadata": {},
   "source": [
    "## How to deal with outliers in this case?\n",
    "### Removing outliers in this case wont make much sense because: 1. It will take a lot of time. 2. In terms of funding we can never be sure. "
   ]
  },
  {
   "cell_type": "markdown",
   "metadata": {},
   "source": [
    "## Now we will drop the null values in master_frame['raised_amount_usd']\n",
    "### why drop? about 22% of missing data will affect analysis and imputing could lead to distortions."
   ]
  },
  {
   "cell_type": "code",
   "execution_count": 350,
   "metadata": {},
   "outputs": [],
   "source": [
    "## we will use 1200000.0 to fill in the null values in master_frame['raised_amount_usd']\n",
    "master_frame = master_frame.dropna(subset=['raised_amount_usd'])"
   ]
  },
  {
   "cell_type": "code",
   "execution_count": 351,
   "metadata": {},
   "outputs": [
    {
     "data": {
      "text/plain": [
       "count    5.181900e+04\n",
       "mean     9.786282e+06\n",
       "std      1.149356e+08\n",
       "min      0.000000e+00\n",
       "25%      2.034215e+05\n",
       "50%      1.200000e+06\n",
       "75%      5.100000e+06\n",
       "max      1.760000e+10\n",
       "Name: raised_amount_usd, dtype: float64"
      ]
     },
     "execution_count": 351,
     "metadata": {},
     "output_type": "execute_result"
    }
   ],
   "source": [
    "master_frame['raised_amount_usd'].describe()"
   ]
  },
  {
   "cell_type": "code",
   "execution_count": 352,
   "metadata": {},
   "outputs": [
    {
     "data": {
      "text/plain": [
       "0"
      ]
     },
     "execution_count": 352,
     "metadata": {},
     "output_type": "execute_result"
    }
   ],
   "source": [
    "master_frame['raised_amount_usd'].isnull().sum()"
   ]
  },
  {
   "cell_type": "code",
   "execution_count": 353,
   "metadata": {},
   "outputs": [
    {
     "data": {
      "text/plain": [
       "permalink                   0.0\n",
       "name                        0.0\n",
       "homepage_url                7.0\n",
       "category_list               2.0\n",
       "status                      0.0\n",
       "country_code                9.0\n",
       "state_code                 11.0\n",
       "region                     10.0\n",
       "city                       10.0\n",
       "founded_at                 22.0\n",
       "company_permalink           0.0\n",
       "funding_round_permalink     0.0\n",
       "funding_round_type          0.0\n",
       "funding_round_code         76.0\n",
       "funded_at                   0.0\n",
       "raised_amount_usd           0.0\n",
       "dtype: float64"
      ]
     },
     "execution_count": 353,
     "metadata": {},
     "output_type": "execute_result"
    }
   ],
   "source": [
    "round(master_frame.isnull().sum()/len(master_frame.index)*100)"
   ]
  },
  {
   "cell_type": "code",
   "execution_count": 354,
   "metadata": {
    "scrolled": true
   },
   "outputs": [
    {
     "data": {
      "image/png": "[encoded data removed]",
      "text/plain": [
       "<Figure size 432x288 with 1 Axes>"
      ]
     },
     "metadata": {
      "needs_background": "light"
     },
     "output_type": "display_data"
    }
   ],
   "source": [
    "## checking boxplot again for raised_amount_usd\n",
    "plt.boxplot(master_frame['raised_amount_usd'])\n",
    "plt.show()"
   ]
  },
  {
   "cell_type": "markdown",
   "metadata": {},
   "source": [
    "### From here we can see that dropping null values has improved the boxplot representation. "
   ]
  },
  {
   "cell_type": "markdown",
   "metadata": {},
   "source": [
    "## Taking care of country_code"
   ]
  },
  {
   "cell_type": "markdown",
   "metadata": {},
   "source": [
    "### The percantage of missing values comes about 9%. We will be dropping these."
   ]
  },
  {
   "cell_type": "code",
   "execution_count": 355,
   "metadata": {},
   "outputs": [],
   "source": [
    "## dropping the null values in master_frame['country_code'] with mode i.e 'USA'\n",
    "master_frame = master_frame.dropna(subset=['country_code'])"
   ]
  },
  {
   "cell_type": "code",
   "execution_count": 356,
   "metadata": {},
   "outputs": [
    {
     "data": {
      "text/plain": [
       "permalink                   0.0\n",
       "name                        0.0\n",
       "homepage_url                5.0\n",
       "category_list               1.0\n",
       "status                      0.0\n",
       "country_code                0.0\n",
       "state_code                  3.0\n",
       "region                      2.0\n",
       "city                        2.0\n",
       "founded_at                 20.0\n",
       "company_permalink           0.0\n",
       "funding_round_permalink     0.0\n",
       "funding_round_type          0.0\n",
       "funding_round_code         75.0\n",
       "funded_at                   0.0\n",
       "raised_amount_usd           0.0\n",
       "dtype: float64"
      ]
     },
     "execution_count": 356,
     "metadata": {},
     "output_type": "execute_result"
    }
   ],
   "source": [
    "## checking null value percantages again\n",
    "round(master_frame.isnull().sum()/len(master_frame.index)*100)"
   ]
  },
  {
   "cell_type": "markdown",
   "metadata": {},
   "source": [
    "## Taking care of catagory_list"
   ]
  },
  {
   "cell_type": "markdown",
   "metadata": {},
   "source": [
    "## Here the null rows are just about 1%. Dropping is pretty straight forward using dropna( )"
   ]
  },
  {
   "cell_type": "code",
   "execution_count": 357,
   "metadata": {},
   "outputs": [],
   "source": [
    "## dropping null values from category_list\n",
    "master_frame = master_frame.dropna(subset=['category_list'])"
   ]
  },
  {
   "cell_type": "code",
   "execution_count": 358,
   "metadata": {},
   "outputs": [
    {
     "data": {
      "text/plain": [
       "permalink                   0.000000\n",
       "name                        0.002139\n",
       "homepage_url                5.223194\n",
       "category_list               0.000000\n",
       "status                      0.000000\n",
       "country_code                0.000000\n",
       "state_code                  2.545291\n",
       "region                      1.779565\n",
       "city                        1.775287\n",
       "founded_at                 19.558103\n",
       "company_permalink           0.000000\n",
       "funding_round_permalink     0.000000\n",
       "funding_round_type          0.000000\n",
       "funding_round_code         75.464676\n",
       "funded_at                   0.000000\n",
       "raised_amount_usd           0.000000\n",
       "dtype: float64"
      ]
     },
     "execution_count": 358,
     "metadata": {},
     "output_type": "execute_result"
    }
   ],
   "source": [
    "(master_frame.isnull().sum()/len(master_frame.index)*100)"
   ]
  },
  {
   "cell_type": "code",
   "execution_count": 359,
   "metadata": {},
   "outputs": [
    {
     "data": {
      "text/plain": [
       "(46753, 16)"
      ]
     },
     "execution_count": 359,
     "metadata": {},
     "output_type": "execute_result"
    }
   ],
   "source": [
    "## checking shape \n",
    "master_frame.shape"
   ]
  },
  {
   "cell_type": "markdown",
   "metadata": {},
   "source": [
    "### Final clean-up of master_frame : Dropping all the irrelevant and duplicate columns.\n",
    "### For ease and for tracing back the orignal dataframe, let's name this 'cleaned-up' dataframe as master_frame1"
   ]
  },
  {
   "cell_type": "code",
   "execution_count": 360,
   "metadata": {},
   "outputs": [],
   "source": [
    "## creating master_frame1 by dropping irrelevant columns\n",
    "master_frame1 = master_frame.drop(['homepage_url','state_code','status','region','city','founded_at','company_permalink','funding_round_code','funded_at','funding_round_permalink'],axis =1)"
   ]
  },
  {
   "cell_type": "markdown",
   "metadata": {},
   "source": [
    "### Checking out the new master_frame1"
   ]
  },
  {
   "cell_type": "code",
   "execution_count": 361,
   "metadata": {},
   "outputs": [
    {
     "data": {
      "text/plain": [
       "(46753, 6)"
      ]
     },
     "execution_count": 361,
     "metadata": {},
     "output_type": "execute_result"
    }
   ],
   "source": [
    "master_frame1.shape"
   ]
  },
  {
   "cell_type": "code",
   "execution_count": 362,
   "metadata": {},
   "outputs": [
    {
     "data": {
      "text/html": [
       "<div>\n",
       "<style scoped>\n",
       "    .dataframe tbody tr th:only-of-type {\n",
       "        vertical-align: middle;\n",
       "    }\n",
       "\n",
       "    .dataframe tbody tr th {\n",
       "        vertical-align: top;\n",
       "    }\n",
       "\n",
       "    .dataframe thead th {\n",
       "        text-align: right;\n",
       "    }\n",
       "</style>\n",
       "<table border=\"1\" class=\"dataframe\">\n",
       "  <thead>\n",
       "    <tr style=\"text-align: right;\">\n",
       "      <th></th>\n",
       "      <th>permalink</th>\n",
       "      <th>name</th>\n",
       "      <th>category_list</th>\n",
       "      <th>country_code</th>\n",
       "      <th>funding_round_type</th>\n",
       "      <th>raised_amount_usd</th>\n",
       "    </tr>\n",
       "  </thead>\n",
       "  <tbody>\n",
       "    <tr>\n",
       "      <th>0</th>\n",
       "      <td>/organization/-fame</td>\n",
       "      <td>#fame</td>\n",
       "      <td>Media</td>\n",
       "      <td>IND</td>\n",
       "      <td>venture</td>\n",
       "      <td>10000000.0</td>\n",
       "    </tr>\n",
       "    <tr>\n",
       "      <th>3</th>\n",
       "      <td>/organization/0-6-com</td>\n",
       "      <td>0-6.com</td>\n",
       "      <td>Curated Web</td>\n",
       "      <td>CHN</td>\n",
       "      <td>venture</td>\n",
       "      <td>2000000.0</td>\n",
       "    </tr>\n",
       "    <tr>\n",
       "      <th>5</th>\n",
       "      <td>/organization/01games-technology</td>\n",
       "      <td>01Games Technology</td>\n",
       "      <td>Games</td>\n",
       "      <td>HKG</td>\n",
       "      <td>undisclosed</td>\n",
       "      <td>41250.0</td>\n",
       "    </tr>\n",
       "    <tr>\n",
       "      <th>6</th>\n",
       "      <td>/organization/0ndine-biomedical-inc</td>\n",
       "      <td>Ondine Biomedical Inc.</td>\n",
       "      <td>Biotechnology</td>\n",
       "      <td>CAN</td>\n",
       "      <td>seed</td>\n",
       "      <td>43360.0</td>\n",
       "    </tr>\n",
       "    <tr>\n",
       "      <th>7</th>\n",
       "      <td>/organization/0xdata</td>\n",
       "      <td>H2O.ai</td>\n",
       "      <td>Analytics</td>\n",
       "      <td>USA</td>\n",
       "      <td>seed</td>\n",
       "      <td>3000000.0</td>\n",
       "    </tr>\n",
       "  </tbody>\n",
       "</table>\n",
       "</div>"
      ],
      "text/plain": [
       "                             permalink                    name  category_list  \\\n",
       "0                  /organization/-fame                   #fame          Media   \n",
       "3                /organization/0-6-com                 0-6.com    Curated Web   \n",
       "5     /organization/01games-technology      01Games Technology          Games   \n",
       "6  /organization/0ndine-biomedical-inc  Ondine Biomedical Inc.  Biotechnology   \n",
       "7                 /organization/0xdata                  H2O.ai      Analytics   \n",
       "\n",
       "  country_code funding_round_type  raised_amount_usd  \n",
       "0          IND            venture         10000000.0  \n",
       "3          CHN            venture          2000000.0  \n",
       "5          HKG        undisclosed            41250.0  \n",
       "6          CAN               seed            43360.0  \n",
       "7          USA               seed          3000000.0  "
      ]
     },
     "execution_count": 362,
     "metadata": {},
     "output_type": "execute_result"
    }
   ],
   "source": [
    "master_frame1.head()"
   ]
  },
  {
   "cell_type": "code",
   "execution_count": 363,
   "metadata": {},
   "outputs": [],
   "source": [
    "## resetiing index\n",
    "master_frame1.reset_index(inplace=True,drop=True)"
   ]
  },
  {
   "cell_type": "markdown",
   "metadata": {},
   "source": [
    "### Now we have a clean dataframe with relevant columns and no null values!"
   ]
  },
  {
   "cell_type": "markdown",
   "metadata": {},
   "source": [
    "# Checkpoint 2: Funding Type Analysis\n",
    "## Selecting the investment type"
   ]
  },
  {
   "cell_type": "markdown",
   "metadata": {},
   "source": [
    " ## We have to choose one of these four investment types for each potential investment:\n",
    " ### 1. Seed\n",
    " ### 2. Angel\n",
    " ### 3. Venture\n",
    " ### 4. Private_equity"
   ]
  },
  {
   "cell_type": "markdown",
   "metadata": {},
   "source": [
    "### Since we have already established the presence of many outliers, we will be focussing on median values for each investment type as being the representative amount "
   ]
  },
  {
   "cell_type": "code",
   "execution_count": 364,
   "metadata": {},
   "outputs": [],
   "source": [
    "## modifying master_frame1 to just include the 4 investment types\n",
    "master_frame1 = master_frame1[master_frame1['funding_round_type'].isin(['seed','angel','venture','private_equity'])]"
   ]
  },
  {
   "cell_type": "code",
   "execution_count": 365,
   "metadata": {},
   "outputs": [
    {
     "name": "stdout",
     "output_type": "stream",
     "text": [
      "<class 'pandas.core.frame.DataFrame'>\n",
      "Int64Index: 39925 entries, 0 to 46752\n",
      "Data columns (total 6 columns):\n",
      " #   Column              Non-Null Count  Dtype  \n",
      "---  ------              --------------  -----  \n",
      " 0   permalink           39925 non-null  object \n",
      " 1   name                39924 non-null  object \n",
      " 2   category_list       39925 non-null  object \n",
      " 3   country_code        39925 non-null  object \n",
      " 4   funding_round_type  39925 non-null  object \n",
      " 5   raised_amount_usd   39925 non-null  float64\n",
      "dtypes: float64(1), object(5)\n",
      "memory usage: 2.1+ MB\n"
     ]
    }
   ],
   "source": [
    "master_frame1.info()"
   ]
  },
  {
   "cell_type": "code",
   "execution_count": 366,
   "metadata": {},
   "outputs": [
    {
     "data": {
      "text/plain": [
       "funding_round_type\n",
       "private_equity    7.833586e+07\n",
       "venture           1.093223e+07\n",
       "angel             8.826563e+05\n",
       "seed              7.082920e+05\n",
       "Name: raised_amount_usd, dtype: float64"
      ]
     },
     "execution_count": 366,
     "metadata": {},
     "output_type": "execute_result"
    }
   ],
   "source": [
    "## checking mean for each investment type\n",
    "master_frame1.groupby('funding_round_type')['raised_amount_usd'].mean().sort_values(ascending = False)"
   ]
  },
  {
   "cell_type": "code",
   "execution_count": 368,
   "metadata": {},
   "outputs": [
    {
     "data": {
      "text/plain": [
       "funding_round_type\n",
       "private_equity    22752829.0\n",
       "venture            4130452.0\n",
       "angel               400000.0\n",
       "seed                251115.0\n",
       "Name: raised_amount_usd, dtype: float64"
      ]
     },
     "execution_count": 368,
     "metadata": {},
     "output_type": "execute_result"
    }
   ],
   "source": [
    "## checking median for each investment type\n",
    "master_frame1.groupby('funding_round_type')['raised_amount_usd'].median().sort_values(ascending = False)"
   ]
  },
  {
   "cell_type": "markdown",
   "metadata": {},
   "source": [
    "### We can see that the mean (which represents the most representative value of a dataset) for venture type investment is about 11million USD which lies in the range 5-15 million USD."
   ]
  },
  {
   "cell_type": "markdown",
   "metadata": {},
   "source": [
    "### Representing this visually"
   ]
  },
  {
   "cell_type": "code",
   "execution_count": 369,
   "metadata": {},
   "outputs": [],
   "source": [
    "## importing seaborn library\n",
    "import seaborn as sns"
   ]
  },
  {
   "cell_type": "code",
   "execution_count": 370,
   "metadata": {},
   "outputs": [
    {
     "data": {
      "image/png": "[encoded data removed]",
      "text/plain": [
       "<Figure size 1080x864 with 1 Axes>"
      ]
     },
     "metadata": {
      "needs_background": "light"
     },
     "output_type": "display_data"
    }
   ],
   "source": [
    "## making barplot to represent the median values accross 4 investment types\n",
    "plt.figure(figsize=(15,12))\n",
    "sns.barplot(data=master_frame1, x='raised_amount_usd',y='funding_round_type')\n",
    "plt.title('Best Investment Type')\n",
    "plt.ylabel('Investment Type')\n",
    "plt.xlabel('Representative Funding amount(scale of 10 million)')\n",
    "plt.show()"
   ]
  },
  {
   "cell_type": "markdown",
   "metadata": {},
   "source": [
    "### Both in terms of figures and in terms of visual representation ,it is quite clear that venture type investment is most suited for sparks fund"
   ]
  },
  {
   "cell_type": "markdown",
   "metadata": {},
   "source": [
    "### Filtering the dataframe master_frame1 for venture. Let us call this dataframe master_frameV"
   ]
  },
  {
   "cell_type": "code",
   "execution_count": 371,
   "metadata": {},
   "outputs": [],
   "source": [
    "## creating master_framePE as asubset from master_frame1\n",
    "master_frameV = master_frame1[master_frame1['funding_round_type'].isin(['venture'])]"
   ]
  },
  {
   "cell_type": "code",
   "execution_count": 372,
   "metadata": {},
   "outputs": [
    {
     "name": "stdout",
     "output_type": "stream",
     "text": [
      "<class 'pandas.core.frame.DataFrame'>\n",
      "Int64Index: 22858 entries, 0 to 46750\n",
      "Data columns (total 6 columns):\n",
      " #   Column              Non-Null Count  Dtype  \n",
      "---  ------              --------------  -----  \n",
      " 0   permalink           22858 non-null  object \n",
      " 1   name                22858 non-null  object \n",
      " 2   category_list       22858 non-null  object \n",
      " 3   country_code        22858 non-null  object \n",
      " 4   funding_round_type  22858 non-null  object \n",
      " 5   raised_amount_usd   22858 non-null  float64\n",
      "dtypes: float64(1), object(5)\n",
      "memory usage: 1.2+ MB\n"
     ]
    }
   ],
   "source": [
    "master_frameV.info()"
   ]
  },
  {
   "cell_type": "code",
   "execution_count": 373,
   "metadata": {},
   "outputs": [],
   "source": [
    "## resetting index\n",
    "master_frameV.reset_index(inplace=True,drop=True)"
   ]
  },
  {
   "cell_type": "markdown",
   "metadata": {},
   "source": [
    "# Checkpoint 3: Country Analysis\n",
    "## Now the country analysis"
   ]
  },
  {
   "cell_type": "markdown",
   "metadata": {},
   "source": [
    "###  let us see the top nine countries which have received the highest total funding across ALL sectors for the n investment type private_equity"
   ]
  },
  {
   "cell_type": "code",
   "execution_count": 374,
   "metadata": {},
   "outputs": [],
   "source": [
    "## creating variable total_investment to hold values of total investment for each country \n",
    "total_investment= master_frameV.groupby(['country_code'])['raised_amount_usd'].sum()"
   ]
  },
  {
   "cell_type": "code",
   "execution_count": 375,
   "metadata": {},
   "outputs": [
    {
     "data": {
      "text/plain": [
       "country_code\n",
       "ARE    1.842175e+08\n",
       "ARG    1.460199e+08\n",
       "ARM    7.730000e+06\n",
       "AUS    7.595615e+08\n",
       "AUT    4.759120e+08\n",
       "           ...     \n",
       "UKR    1.620000e+07\n",
       "URY    1.433000e+07\n",
       "USA    1.791577e+11\n",
       "VNM    4.532051e+07\n",
       "ZAF    1.056831e+08\n",
       "Name: raised_amount_usd, Length: 95, dtype: float64"
      ]
     },
     "execution_count": 375,
     "metadata": {},
     "output_type": "execute_result"
    }
   ],
   "source": [
    "total_investment"
   ]
  },
  {
   "cell_type": "code",
   "execution_count": 376,
   "metadata": {},
   "outputs": [
    {
     "data": {
      "text/plain": [
       "country_code\n",
       "USA    1.791577e+11\n",
       "CHN    1.821808e+10\n",
       "GBR    1.122814e+10\n",
       "IND    5.933705e+09\n",
       "FRA    4.524056e+09\n",
       "CAN    4.496790e+09\n",
       "ISR    3.306101e+09\n",
       "DEU    2.859293e+09\n",
       "JPN    1.824956e+09\n",
       "NLD    1.751932e+09\n",
       "Name: raised_amount_usd, dtype: float64"
      ]
     },
     "execution_count": 376,
     "metadata": {},
     "output_type": "execute_result"
    }
   ],
   "source": [
    "## rearranging total_investment in decending order to check top 9 countires in terms of total investments\n",
    "total_investment.sort_values(ascending=False).head(10)"
   ]
  },
  {
   "cell_type": "markdown",
   "metadata": {},
   "source": [
    "### From here we can see tha the top 3 countries receiving the highest total funding across ALL sectors for private_equity investment type are: 1. USA  2. CHN  3.GBR. Since CHN is not an english speaking country, we will have to include the next i.e the 4th highest in our analysis. This country is India. So the top 3 countries for the analysis would be 1.USA  2.GBR 3.IND"
   ]
  },
  {
   "cell_type": "code",
   "execution_count": 377,
   "metadata": {},
   "outputs": [],
   "source": [
    "## creating dataframe top9\n",
    "top9 = master_frameV[master_frameV['country_code'].isin(['USA','CHN','GBR','IND','CAN','FRA','ISR','JPN','DEU'])]"
   ]
  },
  {
   "cell_type": "code",
   "execution_count": 378,
   "metadata": {},
   "outputs": [
    {
     "data": {
      "text/plain": [
       "(20542, 6)"
      ]
     },
     "execution_count": 378,
     "metadata": {},
     "output_type": "execute_result"
    }
   ],
   "source": [
    "top9.shape"
   ]
  },
  {
   "cell_type": "code",
   "execution_count": 379,
   "metadata": {},
   "outputs": [
    {
     "data": {
      "text/html": [
       "<div>\n",
       "<style scoped>\n",
       "    .dataframe tbody tr th:only-of-type {\n",
       "        vertical-align: middle;\n",
       "    }\n",
       "\n",
       "    .dataframe tbody tr th {\n",
       "        vertical-align: top;\n",
       "    }\n",
       "\n",
       "    .dataframe thead th {\n",
       "        text-align: right;\n",
       "    }\n",
       "</style>\n",
       "<table border=\"1\" class=\"dataframe\">\n",
       "  <thead>\n",
       "    <tr style=\"text-align: right;\">\n",
       "      <th></th>\n",
       "      <th>permalink</th>\n",
       "      <th>name</th>\n",
       "      <th>category_list</th>\n",
       "      <th>country_code</th>\n",
       "      <th>funding_round_type</th>\n",
       "      <th>raised_amount_usd</th>\n",
       "    </tr>\n",
       "  </thead>\n",
       "  <tbody>\n",
       "    <tr>\n",
       "      <th>0</th>\n",
       "      <td>/organization/-fame</td>\n",
       "      <td>#fame</td>\n",
       "      <td>Media</td>\n",
       "      <td>IND</td>\n",
       "      <td>venture</td>\n",
       "      <td>10000000.0</td>\n",
       "    </tr>\n",
       "    <tr>\n",
       "      <th>1</th>\n",
       "      <td>/organization/0-6-com</td>\n",
       "      <td>0-6.com</td>\n",
       "      <td>Curated Web</td>\n",
       "      <td>CHN</td>\n",
       "      <td>venture</td>\n",
       "      <td>2000000.0</td>\n",
       "    </tr>\n",
       "    <tr>\n",
       "      <th>2</th>\n",
       "      <td>/organization/1-mainstream</td>\n",
       "      <td>1 Mainstream</td>\n",
       "      <td>Apps|Cable|Distribution|Software</td>\n",
       "      <td>USA</td>\n",
       "      <td>venture</td>\n",
       "      <td>5000000.0</td>\n",
       "    </tr>\n",
       "    <tr>\n",
       "      <th>3</th>\n",
       "      <td>/organization/10-minutes-with</td>\n",
       "      <td>10 Minutes With</td>\n",
       "      <td>Education</td>\n",
       "      <td>GBR</td>\n",
       "      <td>venture</td>\n",
       "      <td>4000000.0</td>\n",
       "    </tr>\n",
       "    <tr>\n",
       "      <th>4</th>\n",
       "      <td>/organization/1000memories</td>\n",
       "      <td>1000memories</td>\n",
       "      <td>Curated Web</td>\n",
       "      <td>USA</td>\n",
       "      <td>venture</td>\n",
       "      <td>2520000.0</td>\n",
       "    </tr>\n",
       "  </tbody>\n",
       "</table>\n",
       "</div>"
      ],
      "text/plain": [
       "                       permalink             name  \\\n",
       "0            /organization/-fame            #fame   \n",
       "1          /organization/0-6-com          0-6.com   \n",
       "2     /organization/1-mainstream     1 Mainstream   \n",
       "3  /organization/10-minutes-with  10 Minutes With   \n",
       "4     /organization/1000memories     1000memories   \n",
       "\n",
       "                      category_list country_code funding_round_type  \\\n",
       "0                             Media          IND            venture   \n",
       "1                       Curated Web          CHN            venture   \n",
       "2  Apps|Cable|Distribution|Software          USA            venture   \n",
       "3                         Education          GBR            venture   \n",
       "4                       Curated Web          USA            venture   \n",
       "\n",
       "   raised_amount_usd  \n",
       "0         10000000.0  \n",
       "1          2000000.0  \n",
       "2          5000000.0  \n",
       "3          4000000.0  \n",
       "4          2520000.0  "
      ]
     },
     "execution_count": 379,
     "metadata": {},
     "output_type": "execute_result"
    }
   ],
   "source": [
    "top9.head()"
   ]
  },
  {
   "cell_type": "code",
   "execution_count": 380,
   "metadata": {},
   "outputs": [
    {
     "name": "stdout",
     "output_type": "stream",
     "text": [
      "<class 'pandas.core.frame.DataFrame'>\n",
      "Int64Index: 20542 entries, 0 to 22857\n",
      "Data columns (total 6 columns):\n",
      " #   Column              Non-Null Count  Dtype  \n",
      "---  ------              --------------  -----  \n",
      " 0   permalink           20542 non-null  object \n",
      " 1   name                20542 non-null  object \n",
      " 2   category_list       20542 non-null  object \n",
      " 3   country_code        20542 non-null  object \n",
      " 4   funding_round_type  20542 non-null  object \n",
      " 5   raised_amount_usd   20542 non-null  float64\n",
      "dtypes: float64(1), object(5)\n",
      "memory usage: 1.1+ MB\n"
     ]
    }
   ],
   "source": [
    "top9.info()"
   ]
  },
  {
   "cell_type": "code",
   "execution_count": 381,
   "metadata": {},
   "outputs": [
    {
     "data": {
      "image/png": "[encoded data removed]",
      "text/plain": [
       "<Figure size 1080x864 with 1 Axes>"
      ]
     },
     "metadata": {
      "needs_background": "light"
     },
     "output_type": "display_data"
    }
   ],
   "source": [
    "## Visualrepresentation using barplot\n",
    "plt.figure(figsize=(15,12))\n",
    "top9.groupby(['country_code'])['raised_amount_usd'].sum().plot.barh()\n",
    "plt.xlabel('Total Venture funding across all sectors')\n",
    "plt.ylabel('Top 9 countries')\n",
    "plt.title('Top 9 Countries Investment Analysis')\n",
    "plt.show()"
   ]
  },
  {
   "cell_type": "code",
   "execution_count": 468,
   "metadata": {},
   "outputs": [
    {
     "data": {
      "image/png": "[encoded data removed]",
      "text/plain": [
       "<Figure size 1080x648 with 1 Axes>"
      ]
     },
     "metadata": {
      "needs_background": "light"
     },
     "output_type": "display_data"
    }
   ],
   "source": [
    "## better representation using sns barplot\n",
    "plt.figure(figsize=(15,9))\n",
    "sns.barplot(data=top9, y='country_code',x='raised_amount_usd',estimator=np.sum)\n",
    "plt.xlabel('Total Venture funding across all sectors',fontsize=20)\n",
    "plt.ylabel('Top 9 countries',fontsize=20)\n",
    "plt.title('Top 9 Countries Investment Analysis',fontsize=20)\n",
    "plt.show()"
   ]
  },
  {
   "cell_type": "markdown",
   "metadata": {},
   "source": [
    "### From here we can see tha the top 3 countries receiving the highest total funding across ALL sectors for private_equity investment type are: 1. USA  2. CHN  3.GBR. \n",
    "### Since CHN is not an english speaking country, we will have to include the next i.e the 4th highest in our analysis. This country is India. \n",
    "### So the top 3 countries for the analysis would be: 1. USA   2. GBR   3. IND"
   ]
  },
  {
   "cell_type": "markdown",
   "metadata": {},
   "source": [
    "# Checkpoint 4: Sector Analysis 1"
   ]
  },
  {
   "cell_type": "markdown",
   "metadata": {},
   "source": [
    "### Here, we will be dealing with mapping file. We will convert it to appropraite form to be merged with top9.\n",
    "### We will also extract 'primary sector' from top9. This primary sector has to be mapped with the main sector in mapping file."
   ]
  },
  {
   "cell_type": "code",
   "execution_count": 383,
   "metadata": {},
   "outputs": [],
   "source": [
    "## Importing mapping file as df_mapping\n",
    "df_mapping = pd.read_csv('mapping.csv',encoding = 'unicode_escape')"
   ]
  },
  {
   "cell_type": "code",
   "execution_count": 384,
   "metadata": {},
   "outputs": [
    {
     "data": {
      "text/html": [
       "<div>\n",
       "<style scoped>\n",
       "    .dataframe tbody tr th:only-of-type {\n",
       "        vertical-align: middle;\n",
       "    }\n",
       "\n",
       "    .dataframe tbody tr th {\n",
       "        vertical-align: top;\n",
       "    }\n",
       "\n",
       "    .dataframe thead th {\n",
       "        text-align: right;\n",
       "    }\n",
       "</style>\n",
       "<table border=\"1\" class=\"dataframe\">\n",
       "  <thead>\n",
       "    <tr style=\"text-align: right;\">\n",
       "      <th></th>\n",
       "      <th>category_list</th>\n",
       "      <th>Automotive &amp; Sports</th>\n",
       "      <th>Blanks</th>\n",
       "      <th>Cleantech / Semiconductors</th>\n",
       "      <th>Entertainment</th>\n",
       "      <th>Health</th>\n",
       "      <th>Manufacturing</th>\n",
       "      <th>News, Search and Messaging</th>\n",
       "      <th>Others</th>\n",
       "      <th>Social, Finance, Analytics, Advertising</th>\n",
       "    </tr>\n",
       "  </thead>\n",
       "  <tbody>\n",
       "    <tr>\n",
       "      <th>0</th>\n",
       "      <td>NaN</td>\n",
       "      <td>0</td>\n",
       "      <td>1</td>\n",
       "      <td>0</td>\n",
       "      <td>0</td>\n",
       "      <td>0</td>\n",
       "      <td>0</td>\n",
       "      <td>0</td>\n",
       "      <td>0</td>\n",
       "      <td>0</td>\n",
       "    </tr>\n",
       "    <tr>\n",
       "      <th>1</th>\n",
       "      <td>3D</td>\n",
       "      <td>0</td>\n",
       "      <td>0</td>\n",
       "      <td>0</td>\n",
       "      <td>0</td>\n",
       "      <td>0</td>\n",
       "      <td>1</td>\n",
       "      <td>0</td>\n",
       "      <td>0</td>\n",
       "      <td>0</td>\n",
       "    </tr>\n",
       "    <tr>\n",
       "      <th>2</th>\n",
       "      <td>3D Printing</td>\n",
       "      <td>0</td>\n",
       "      <td>0</td>\n",
       "      <td>0</td>\n",
       "      <td>0</td>\n",
       "      <td>0</td>\n",
       "      <td>1</td>\n",
       "      <td>0</td>\n",
       "      <td>0</td>\n",
       "      <td>0</td>\n",
       "    </tr>\n",
       "    <tr>\n",
       "      <th>3</th>\n",
       "      <td>3D Technology</td>\n",
       "      <td>0</td>\n",
       "      <td>0</td>\n",
       "      <td>0</td>\n",
       "      <td>0</td>\n",
       "      <td>0</td>\n",
       "      <td>1</td>\n",
       "      <td>0</td>\n",
       "      <td>0</td>\n",
       "      <td>0</td>\n",
       "    </tr>\n",
       "    <tr>\n",
       "      <th>4</th>\n",
       "      <td>Accounting</td>\n",
       "      <td>0</td>\n",
       "      <td>0</td>\n",
       "      <td>0</td>\n",
       "      <td>0</td>\n",
       "      <td>0</td>\n",
       "      <td>0</td>\n",
       "      <td>0</td>\n",
       "      <td>0</td>\n",
       "      <td>1</td>\n",
       "    </tr>\n",
       "  </tbody>\n",
       "</table>\n",
       "</div>"
      ],
      "text/plain": [
       "   category_list  Automotive & Sports  Blanks  Cleantech / Semiconductors  \\\n",
       "0            NaN                    0       1                           0   \n",
       "1             3D                    0       0                           0   \n",
       "2    3D Printing                    0       0                           0   \n",
       "3  3D Technology                    0       0                           0   \n",
       "4     Accounting                    0       0                           0   \n",
       "\n",
       "   Entertainment  Health  Manufacturing  News, Search and Messaging  Others  \\\n",
       "0              0       0              0                           0       0   \n",
       "1              0       0              1                           0       0   \n",
       "2              0       0              1                           0       0   \n",
       "3              0       0              1                           0       0   \n",
       "4              0       0              0                           0       0   \n",
       "\n",
       "   Social, Finance, Analytics, Advertising  \n",
       "0                                        0  \n",
       "1                                        0  \n",
       "2                                        0  \n",
       "3                                        0  \n",
       "4                                        1  "
      ]
     },
     "execution_count": 384,
     "metadata": {},
     "output_type": "execute_result"
    }
   ],
   "source": [
    "## checking out the file\n",
    "df_mapping.head()"
   ]
  },
  {
   "cell_type": "code",
   "execution_count": 385,
   "metadata": {},
   "outputs": [
    {
     "name": "stdout",
     "output_type": "stream",
     "text": [
      "<class 'pandas.core.frame.DataFrame'>\n",
      "RangeIndex: 688 entries, 0 to 687\n",
      "Data columns (total 10 columns):\n",
      " #   Column                                   Non-Null Count  Dtype \n",
      "---  ------                                   --------------  ----- \n",
      " 0   category_list                            687 non-null    object\n",
      " 1   Automotive & Sports                      688 non-null    int64 \n",
      " 2   Blanks                                   688 non-null    int64 \n",
      " 3   Cleantech / Semiconductors               688 non-null    int64 \n",
      " 4   Entertainment                            688 non-null    int64 \n",
      " 5   Health                                   688 non-null    int64 \n",
      " 6   Manufacturing                            688 non-null    int64 \n",
      " 7   News, Search and Messaging               688 non-null    int64 \n",
      " 8   Others                                   688 non-null    int64 \n",
      " 9   Social, Finance, Analytics, Advertising  688 non-null    int64 \n",
      "dtypes: int64(9), object(1)\n",
      "memory usage: 53.9+ KB\n"
     ]
    }
   ],
   "source": [
    "df_mapping.info()"
   ]
  },
  {
   "cell_type": "code",
   "execution_count": 386,
   "metadata": {},
   "outputs": [],
   "source": [
    "## initial assesment shows that the first row is meaningless so lets drop it \n",
    "df_mapping.drop(index=0,inplace=True)"
   ]
  },
  {
   "cell_type": "code",
   "execution_count": 387,
   "metadata": {},
   "outputs": [],
   "source": [
    "## let us also reset the index\n",
    "df_mapping.reset_index(inplace=True,drop=True)"
   ]
  },
  {
   "cell_type": "code",
   "execution_count": 388,
   "metadata": {},
   "outputs": [
    {
     "data": {
      "text/html": [
       "<div>\n",
       "<style scoped>\n",
       "    .dataframe tbody tr th:only-of-type {\n",
       "        vertical-align: middle;\n",
       "    }\n",
       "\n",
       "    .dataframe tbody tr th {\n",
       "        vertical-align: top;\n",
       "    }\n",
       "\n",
       "    .dataframe thead th {\n",
       "        text-align: right;\n",
       "    }\n",
       "</style>\n",
       "<table border=\"1\" class=\"dataframe\">\n",
       "  <thead>\n",
       "    <tr style=\"text-align: right;\">\n",
       "      <th></th>\n",
       "      <th>category_list</th>\n",
       "      <th>Automotive &amp; Sports</th>\n",
       "      <th>Blanks</th>\n",
       "      <th>Cleantech / Semiconductors</th>\n",
       "      <th>Entertainment</th>\n",
       "      <th>Health</th>\n",
       "      <th>Manufacturing</th>\n",
       "      <th>News, Search and Messaging</th>\n",
       "      <th>Others</th>\n",
       "      <th>Social, Finance, Analytics, Advertising</th>\n",
       "    </tr>\n",
       "  </thead>\n",
       "  <tbody>\n",
       "    <tr>\n",
       "      <th>0</th>\n",
       "      <td>3D</td>\n",
       "      <td>0</td>\n",
       "      <td>0</td>\n",
       "      <td>0</td>\n",
       "      <td>0</td>\n",
       "      <td>0</td>\n",
       "      <td>1</td>\n",
       "      <td>0</td>\n",
       "      <td>0</td>\n",
       "      <td>0</td>\n",
       "    </tr>\n",
       "    <tr>\n",
       "      <th>1</th>\n",
       "      <td>3D Printing</td>\n",
       "      <td>0</td>\n",
       "      <td>0</td>\n",
       "      <td>0</td>\n",
       "      <td>0</td>\n",
       "      <td>0</td>\n",
       "      <td>1</td>\n",
       "      <td>0</td>\n",
       "      <td>0</td>\n",
       "      <td>0</td>\n",
       "    </tr>\n",
       "    <tr>\n",
       "      <th>2</th>\n",
       "      <td>3D Technology</td>\n",
       "      <td>0</td>\n",
       "      <td>0</td>\n",
       "      <td>0</td>\n",
       "      <td>0</td>\n",
       "      <td>0</td>\n",
       "      <td>1</td>\n",
       "      <td>0</td>\n",
       "      <td>0</td>\n",
       "      <td>0</td>\n",
       "    </tr>\n",
       "    <tr>\n",
       "      <th>3</th>\n",
       "      <td>Accounting</td>\n",
       "      <td>0</td>\n",
       "      <td>0</td>\n",
       "      <td>0</td>\n",
       "      <td>0</td>\n",
       "      <td>0</td>\n",
       "      <td>0</td>\n",
       "      <td>0</td>\n",
       "      <td>0</td>\n",
       "      <td>1</td>\n",
       "    </tr>\n",
       "    <tr>\n",
       "      <th>4</th>\n",
       "      <td>Active Lifestyle</td>\n",
       "      <td>0</td>\n",
       "      <td>0</td>\n",
       "      <td>0</td>\n",
       "      <td>0</td>\n",
       "      <td>1</td>\n",
       "      <td>0</td>\n",
       "      <td>0</td>\n",
       "      <td>0</td>\n",
       "      <td>0</td>\n",
       "    </tr>\n",
       "  </tbody>\n",
       "</table>\n",
       "</div>"
      ],
      "text/plain": [
       "      category_list  Automotive & Sports  Blanks  Cleantech / Semiconductors  \\\n",
       "0                3D                    0       0                           0   \n",
       "1       3D Printing                    0       0                           0   \n",
       "2     3D Technology                    0       0                           0   \n",
       "3        Accounting                    0       0                           0   \n",
       "4  Active Lifestyle                    0       0                           0   \n",
       "\n",
       "   Entertainment  Health  Manufacturing  News, Search and Messaging  Others  \\\n",
       "0              0       0              1                           0       0   \n",
       "1              0       0              1                           0       0   \n",
       "2              0       0              1                           0       0   \n",
       "3              0       0              0                           0       0   \n",
       "4              0       1              0                           0       0   \n",
       "\n",
       "   Social, Finance, Analytics, Advertising  \n",
       "0                                        0  \n",
       "1                                        0  \n",
       "2                                        0  \n",
       "3                                        1  \n",
       "4                                        0  "
      ]
     },
     "execution_count": 388,
     "metadata": {},
     "output_type": "execute_result"
    }
   ],
   "source": [
    "## again checking the dataframe\n",
    "df_mapping.head()"
   ]
  },
  {
   "cell_type": "markdown",
   "metadata": {},
   "source": [
    "### Now the dataframe df_mapping is in wide-format. For our ananlysis, we need to convert it to long format."
   ]
  },
  {
   "cell_type": "markdown",
   "metadata": {},
   "source": [
    "## Changing  dataframe df_mapping from wide format to long format"
   ]
  },
  {
   "cell_type": "code",
   "execution_count": 389,
   "metadata": {},
   "outputs": [],
   "source": [
    "## storing core sectors in one variable as a list\n",
    "value_var = list(df_mapping.columns[1:])"
   ]
  },
  {
   "cell_type": "code",
   "execution_count": 390,
   "metadata": {},
   "outputs": [
    {
     "name": "stdout",
     "output_type": "stream",
     "text": [
      "['Automotive & Sports', 'Blanks', 'Cleantech / Semiconductors', 'Entertainment', 'Health', 'Manufacturing', 'News, Search and Messaging', 'Others', 'Social, Finance, Analytics, Advertising']\n"
     ]
    }
   ],
   "source": [
    "print(value_var)"
   ]
  },
  {
   "cell_type": "code",
   "execution_count": 391,
   "metadata": {},
   "outputs": [],
   "source": [
    "## storing category_list in another variable as a list using the setdiff1d() function\n",
    "id_var =  list(np.setdiff1d(df_mapping.columns,value_var))"
   ]
  },
  {
   "cell_type": "code",
   "execution_count": 392,
   "metadata": {},
   "outputs": [],
   "source": [
    "##Changing dataframe df_mapping from wide format to long format using pd.melt()\n",
    "df_mapping = pd.melt(df_mapping,id_var,value_var)"
   ]
  },
  {
   "cell_type": "code",
   "execution_count": 393,
   "metadata": {},
   "outputs": [
    {
     "data": {
      "text/html": [
       "<div>\n",
       "<style scoped>\n",
       "    .dataframe tbody tr th:only-of-type {\n",
       "        vertical-align: middle;\n",
       "    }\n",
       "\n",
       "    .dataframe tbody tr th {\n",
       "        vertical-align: top;\n",
       "    }\n",
       "\n",
       "    .dataframe thead th {\n",
       "        text-align: right;\n",
       "    }\n",
       "</style>\n",
       "<table border=\"1\" class=\"dataframe\">\n",
       "  <thead>\n",
       "    <tr style=\"text-align: right;\">\n",
       "      <th></th>\n",
       "      <th>category_list</th>\n",
       "      <th>variable</th>\n",
       "      <th>value</th>\n",
       "    </tr>\n",
       "  </thead>\n",
       "  <tbody>\n",
       "    <tr>\n",
       "      <th>0</th>\n",
       "      <td>3D</td>\n",
       "      <td>Automotive &amp; Sports</td>\n",
       "      <td>0</td>\n",
       "    </tr>\n",
       "    <tr>\n",
       "      <th>1</th>\n",
       "      <td>3D Printing</td>\n",
       "      <td>Automotive &amp; Sports</td>\n",
       "      <td>0</td>\n",
       "    </tr>\n",
       "    <tr>\n",
       "      <th>2</th>\n",
       "      <td>3D Technology</td>\n",
       "      <td>Automotive &amp; Sports</td>\n",
       "      <td>0</td>\n",
       "    </tr>\n",
       "    <tr>\n",
       "      <th>3</th>\n",
       "      <td>Accounting</td>\n",
       "      <td>Automotive &amp; Sports</td>\n",
       "      <td>0</td>\n",
       "    </tr>\n",
       "    <tr>\n",
       "      <th>4</th>\n",
       "      <td>Active Lifestyle</td>\n",
       "      <td>Automotive &amp; Sports</td>\n",
       "      <td>0</td>\n",
       "    </tr>\n",
       "    <tr>\n",
       "      <th>...</th>\n",
       "      <td>...</td>\n",
       "      <td>...</td>\n",
       "      <td>...</td>\n",
       "    </tr>\n",
       "    <tr>\n",
       "      <th>6178</th>\n",
       "      <td>Wholesale</td>\n",
       "      <td>Social, Finance, Analytics, Advertising</td>\n",
       "      <td>0</td>\n",
       "    </tr>\n",
       "    <tr>\n",
       "      <th>6179</th>\n",
       "      <td>Wine And Spirits</td>\n",
       "      <td>Social, Finance, Analytics, Advertising</td>\n",
       "      <td>0</td>\n",
       "    </tr>\n",
       "    <tr>\n",
       "      <th>6180</th>\n",
       "      <td>Wireless</td>\n",
       "      <td>Social, Finance, Analytics, Advertising</td>\n",
       "      <td>0</td>\n",
       "    </tr>\n",
       "    <tr>\n",
       "      <th>6181</th>\n",
       "      <td>Women</td>\n",
       "      <td>Social, Finance, Analytics, Advertising</td>\n",
       "      <td>0</td>\n",
       "    </tr>\n",
       "    <tr>\n",
       "      <th>6182</th>\n",
       "      <td>Young Adults</td>\n",
       "      <td>Social, Finance, Analytics, Advertising</td>\n",
       "      <td>0</td>\n",
       "    </tr>\n",
       "  </tbody>\n",
       "</table>\n",
       "<p>6183 rows × 3 columns</p>\n",
       "</div>"
      ],
      "text/plain": [
       "         category_list                                 variable  value\n",
       "0                   3D                      Automotive & Sports      0\n",
       "1          3D Printing                      Automotive & Sports      0\n",
       "2        3D Technology                      Automotive & Sports      0\n",
       "3           Accounting                      Automotive & Sports      0\n",
       "4     Active Lifestyle                      Automotive & Sports      0\n",
       "...                ...                                      ...    ...\n",
       "6178         Wholesale  Social, Finance, Analytics, Advertising      0\n",
       "6179  Wine And Spirits  Social, Finance, Analytics, Advertising      0\n",
       "6180          Wireless  Social, Finance, Analytics, Advertising      0\n",
       "6181             Women  Social, Finance, Analytics, Advertising      0\n",
       "6182      Young Adults  Social, Finance, Analytics, Advertising      0\n",
       "\n",
       "[6183 rows x 3 columns]"
      ]
     },
     "execution_count": 393,
     "metadata": {},
     "output_type": "execute_result"
    }
   ],
   "source": [
    "## checking df_mapping\n",
    "df_mapping"
   ]
  },
  {
   "cell_type": "markdown",
   "metadata": {},
   "source": [
    "### df_mapping has many rows in the column value. We only want to retain such rows which have a value of 1\n",
    "### First let us see out of 6183 rows, how many row have value =1 in the column value"
   ]
  },
  {
   "cell_type": "code",
   "execution_count": 394,
   "metadata": {},
   "outputs": [
    {
     "data": {
      "text/plain": [
       "687"
      ]
     },
     "execution_count": 394,
     "metadata": {},
     "output_type": "execute_result"
    }
   ],
   "source": [
    "## checking how many row have value =1 in the column value\n",
    "(df_mapping['value']==1).sum()"
   ]
  },
  {
   "cell_type": "code",
   "execution_count": 395,
   "metadata": {},
   "outputs": [],
   "source": [
    "## selecting rows with value = 1\n",
    "df_mapping = df_mapping[df_mapping['value']==1]"
   ]
  },
  {
   "cell_type": "code",
   "execution_count": 396,
   "metadata": {},
   "outputs": [],
   "source": [
    "## resetting the index\n",
    "df_mapping.reset_index(inplace=True, drop=True)"
   ]
  },
  {
   "cell_type": "code",
   "execution_count": 397,
   "metadata": {},
   "outputs": [
    {
     "data": {
      "text/html": [
       "<div>\n",
       "<style scoped>\n",
       "    .dataframe tbody tr th:only-of-type {\n",
       "        vertical-align: middle;\n",
       "    }\n",
       "\n",
       "    .dataframe tbody tr th {\n",
       "        vertical-align: top;\n",
       "    }\n",
       "\n",
       "    .dataframe thead th {\n",
       "        text-align: right;\n",
       "    }\n",
       "</style>\n",
       "<table border=\"1\" class=\"dataframe\">\n",
       "  <thead>\n",
       "    <tr style=\"text-align: right;\">\n",
       "      <th></th>\n",
       "      <th>category_list</th>\n",
       "      <th>variable</th>\n",
       "      <th>value</th>\n",
       "    </tr>\n",
       "  </thead>\n",
       "  <tbody>\n",
       "    <tr>\n",
       "      <th>0</th>\n",
       "      <td>Adventure Travel</td>\n",
       "      <td>Automotive &amp; Sports</td>\n",
       "      <td>1</td>\n",
       "    </tr>\n",
       "    <tr>\n",
       "      <th>1</th>\n",
       "      <td>Aerospace</td>\n",
       "      <td>Automotive &amp; Sports</td>\n",
       "      <td>1</td>\n",
       "    </tr>\n",
       "    <tr>\n",
       "      <th>2</th>\n",
       "      <td>Auto</td>\n",
       "      <td>Automotive &amp; Sports</td>\n",
       "      <td>1</td>\n",
       "    </tr>\n",
       "    <tr>\n",
       "      <th>3</th>\n",
       "      <td>Automated Kiosk</td>\n",
       "      <td>Automotive &amp; Sports</td>\n",
       "      <td>1</td>\n",
       "    </tr>\n",
       "    <tr>\n",
       "      <th>4</th>\n",
       "      <td>Automotive</td>\n",
       "      <td>Automotive &amp; Sports</td>\n",
       "      <td>1</td>\n",
       "    </tr>\n",
       "  </tbody>\n",
       "</table>\n",
       "</div>"
      ],
      "text/plain": [
       "      category_list             variable  value\n",
       "0  Adventure Travel  Automotive & Sports      1\n",
       "1         Aerospace  Automotive & Sports      1\n",
       "2              Auto  Automotive & Sports      1\n",
       "3   Automated Kiosk  Automotive & Sports      1\n",
       "4        Automotive  Automotive & Sports      1"
      ]
     },
     "execution_count": 397,
     "metadata": {},
     "output_type": "execute_result"
    }
   ],
   "source": [
    "## having a look at modified df_mapping\n",
    "df_mapping.head()"
   ]
  },
  {
   "cell_type": "code",
   "execution_count": 398,
   "metadata": {},
   "outputs": [
    {
     "data": {
      "text/html": [
       "<div>\n",
       "<style scoped>\n",
       "    .dataframe tbody tr th:only-of-type {\n",
       "        vertical-align: middle;\n",
       "    }\n",
       "\n",
       "    .dataframe tbody tr th {\n",
       "        vertical-align: top;\n",
       "    }\n",
       "\n",
       "    .dataframe thead th {\n",
       "        text-align: right;\n",
       "    }\n",
       "</style>\n",
       "<table border=\"1\" class=\"dataframe\">\n",
       "  <thead>\n",
       "    <tr style=\"text-align: right;\">\n",
       "      <th></th>\n",
       "      <th>category_list</th>\n",
       "      <th>variable</th>\n",
       "    </tr>\n",
       "  </thead>\n",
       "  <tbody>\n",
       "    <tr>\n",
       "      <th>0</th>\n",
       "      <td>Adventure Travel</td>\n",
       "      <td>Automotive &amp; Sports</td>\n",
       "    </tr>\n",
       "    <tr>\n",
       "      <th>1</th>\n",
       "      <td>Aerospace</td>\n",
       "      <td>Automotive &amp; Sports</td>\n",
       "    </tr>\n",
       "    <tr>\n",
       "      <th>2</th>\n",
       "      <td>Auto</td>\n",
       "      <td>Automotive &amp; Sports</td>\n",
       "    </tr>\n",
       "    <tr>\n",
       "      <th>3</th>\n",
       "      <td>Automated Kiosk</td>\n",
       "      <td>Automotive &amp; Sports</td>\n",
       "    </tr>\n",
       "    <tr>\n",
       "      <th>4</th>\n",
       "      <td>Automotive</td>\n",
       "      <td>Automotive &amp; Sports</td>\n",
       "    </tr>\n",
       "  </tbody>\n",
       "</table>\n",
       "</div>"
      ],
      "text/plain": [
       "      category_list             variable\n",
       "0  Adventure Travel  Automotive & Sports\n",
       "1         Aerospace  Automotive & Sports\n",
       "2              Auto  Automotive & Sports\n",
       "3   Automated Kiosk  Automotive & Sports\n",
       "4        Automotive  Automotive & Sports"
      ]
     },
     "execution_count": 398,
     "metadata": {},
     "output_type": "execute_result"
    }
   ],
   "source": [
    "## The column 'value' serves no real purpose for the analysis, so let's drop it\n",
    "df_mapping = df_mapping.drop('value',axis=1)\n",
    "df_mapping.head()"
   ]
  },
  {
   "cell_type": "code",
   "execution_count": 399,
   "metadata": {},
   "outputs": [
    {
     "data": {
      "text/html": [
       "<div>\n",
       "<style scoped>\n",
       "    .dataframe tbody tr th:only-of-type {\n",
       "        vertical-align: middle;\n",
       "    }\n",
       "\n",
       "    .dataframe tbody tr th {\n",
       "        vertical-align: top;\n",
       "    }\n",
       "\n",
       "    .dataframe thead th {\n",
       "        text-align: right;\n",
       "    }\n",
       "</style>\n",
       "<table border=\"1\" class=\"dataframe\">\n",
       "  <thead>\n",
       "    <tr style=\"text-align: right;\">\n",
       "      <th></th>\n",
       "      <th>category_list</th>\n",
       "      <th>main_sector</th>\n",
       "    </tr>\n",
       "  </thead>\n",
       "  <tbody>\n",
       "    <tr>\n",
       "      <th>0</th>\n",
       "      <td>Adventure Travel</td>\n",
       "      <td>Automotive &amp; Sports</td>\n",
       "    </tr>\n",
       "    <tr>\n",
       "      <th>1</th>\n",
       "      <td>Aerospace</td>\n",
       "      <td>Automotive &amp; Sports</td>\n",
       "    </tr>\n",
       "    <tr>\n",
       "      <th>2</th>\n",
       "      <td>Auto</td>\n",
       "      <td>Automotive &amp; Sports</td>\n",
       "    </tr>\n",
       "    <tr>\n",
       "      <th>3</th>\n",
       "      <td>Automated Kiosk</td>\n",
       "      <td>Automotive &amp; Sports</td>\n",
       "    </tr>\n",
       "    <tr>\n",
       "      <th>4</th>\n",
       "      <td>Automotive</td>\n",
       "      <td>Automotive &amp; Sports</td>\n",
       "    </tr>\n",
       "  </tbody>\n",
       "</table>\n",
       "</div>"
      ],
      "text/plain": [
       "      category_list          main_sector\n",
       "0  Adventure Travel  Automotive & Sports\n",
       "1         Aerospace  Automotive & Sports\n",
       "2              Auto  Automotive & Sports\n",
       "3   Automated Kiosk  Automotive & Sports\n",
       "4        Automotive  Automotive & Sports"
      ]
     },
     "execution_count": 399,
     "metadata": {},
     "output_type": "execute_result"
    }
   ],
   "source": [
    "## changing the name of column variable to main_sector\n",
    "df_mapping = df_mapping.rename(columns={\"variable\": \"main_sector\"})\n",
    "df_mapping.head()"
   ]
  },
  {
   "cell_type": "markdown",
   "metadata": {},
   "source": [
    "### Extracting primary sector from top9 and adding column 'primary sector' to top9"
   ]
  },
  {
   "cell_type": "code",
   "execution_count": 400,
   "metadata": {
    "scrolled": true
   },
   "outputs": [
    {
     "name": "stderr",
     "output_type": "stream",
     "text": [
      "<ipython-input-400-9a98e9ee8add>:2: SettingWithCopyWarning: \n",
      "A value is trying to be set on a copy of a slice from a DataFrame.\n",
      "Try using .loc[row_indexer,col_indexer] = value instead\n",
      "\n",
      "See the caveats in the documentation: https://pandas.pydata.org/pandas-docs/stable/user_guide/indexing.html#returning-a-view-versus-a-copy\n",
      "  top9['primary sector']  = top9['category_list'].apply(lambda x: x.split('|')[0])\n"
     ]
    }
   ],
   "source": [
    "## extracting primary sector from top9 and adding column 'primary sector' to top9\n",
    "top9['primary sector']  = top9['category_list'].apply(lambda x: x.split('|')[0])"
   ]
  },
  {
   "cell_type": "code",
   "execution_count": 401,
   "metadata": {},
   "outputs": [
    {
     "data": {
      "text/plain": [
       "0                      Media\n",
       "1                Curated Web\n",
       "2                       Apps\n",
       "3                  Education\n",
       "4                Curated Web\n",
       "                ...         \n",
       "22852          Biotechnology\n",
       "22853               Software\n",
       "22854          Biotechnology\n",
       "22855          Biotechnology\n",
       "22857    Enterprise Software\n",
       "Name: primary sector, Length: 20542, dtype: object"
      ]
     },
     "execution_count": 401,
     "metadata": {},
     "output_type": "execute_result"
    }
   ],
   "source": [
    "top9['primary sector']"
   ]
  },
  {
   "cell_type": "code",
   "execution_count": 402,
   "metadata": {},
   "outputs": [
    {
     "data": {
      "text/html": [
       "<div>\n",
       "<style scoped>\n",
       "    .dataframe tbody tr th:only-of-type {\n",
       "        vertical-align: middle;\n",
       "    }\n",
       "\n",
       "    .dataframe tbody tr th {\n",
       "        vertical-align: top;\n",
       "    }\n",
       "\n",
       "    .dataframe thead th {\n",
       "        text-align: right;\n",
       "    }\n",
       "</style>\n",
       "<table border=\"1\" class=\"dataframe\">\n",
       "  <thead>\n",
       "    <tr style=\"text-align: right;\">\n",
       "      <th></th>\n",
       "      <th>permalink</th>\n",
       "      <th>name</th>\n",
       "      <th>category_list</th>\n",
       "      <th>country_code</th>\n",
       "      <th>funding_round_type</th>\n",
       "      <th>raised_amount_usd</th>\n",
       "      <th>primary sector</th>\n",
       "    </tr>\n",
       "  </thead>\n",
       "  <tbody>\n",
       "    <tr>\n",
       "      <th>0</th>\n",
       "      <td>/organization/-fame</td>\n",
       "      <td>#fame</td>\n",
       "      <td>Media</td>\n",
       "      <td>IND</td>\n",
       "      <td>venture</td>\n",
       "      <td>10000000.0</td>\n",
       "      <td>Media</td>\n",
       "    </tr>\n",
       "    <tr>\n",
       "      <th>1</th>\n",
       "      <td>/organization/0-6-com</td>\n",
       "      <td>0-6.com</td>\n",
       "      <td>Curated Web</td>\n",
       "      <td>CHN</td>\n",
       "      <td>venture</td>\n",
       "      <td>2000000.0</td>\n",
       "      <td>Curated Web</td>\n",
       "    </tr>\n",
       "    <tr>\n",
       "      <th>2</th>\n",
       "      <td>/organization/1-mainstream</td>\n",
       "      <td>1 Mainstream</td>\n",
       "      <td>Apps|Cable|Distribution|Software</td>\n",
       "      <td>USA</td>\n",
       "      <td>venture</td>\n",
       "      <td>5000000.0</td>\n",
       "      <td>Apps</td>\n",
       "    </tr>\n",
       "    <tr>\n",
       "      <th>3</th>\n",
       "      <td>/organization/10-minutes-with</td>\n",
       "      <td>10 Minutes With</td>\n",
       "      <td>Education</td>\n",
       "      <td>GBR</td>\n",
       "      <td>venture</td>\n",
       "      <td>4000000.0</td>\n",
       "      <td>Education</td>\n",
       "    </tr>\n",
       "    <tr>\n",
       "      <th>4</th>\n",
       "      <td>/organization/1000memories</td>\n",
       "      <td>1000memories</td>\n",
       "      <td>Curated Web</td>\n",
       "      <td>USA</td>\n",
       "      <td>venture</td>\n",
       "      <td>2520000.0</td>\n",
       "      <td>Curated Web</td>\n",
       "    </tr>\n",
       "  </tbody>\n",
       "</table>\n",
       "</div>"
      ],
      "text/plain": [
       "                       permalink             name  \\\n",
       "0            /organization/-fame            #fame   \n",
       "1          /organization/0-6-com          0-6.com   \n",
       "2     /organization/1-mainstream     1 Mainstream   \n",
       "3  /organization/10-minutes-with  10 Minutes With   \n",
       "4     /organization/1000memories     1000memories   \n",
       "\n",
       "                      category_list country_code funding_round_type  \\\n",
       "0                             Media          IND            venture   \n",
       "1                       Curated Web          CHN            venture   \n",
       "2  Apps|Cable|Distribution|Software          USA            venture   \n",
       "3                         Education          GBR            venture   \n",
       "4                       Curated Web          USA            venture   \n",
       "\n",
       "   raised_amount_usd primary sector  \n",
       "0         10000000.0          Media  \n",
       "1          2000000.0    Curated Web  \n",
       "2          5000000.0           Apps  \n",
       "3          4000000.0      Education  \n",
       "4          2520000.0    Curated Web  "
      ]
     },
     "execution_count": 402,
     "metadata": {},
     "output_type": "execute_result"
    }
   ],
   "source": [
    "top9.head()"
   ]
  },
  {
   "cell_type": "code",
   "execution_count": 403,
   "metadata": {},
   "outputs": [
    {
     "data": {
      "text/html": [
       "<div>\n",
       "<style scoped>\n",
       "    .dataframe tbody tr th:only-of-type {\n",
       "        vertical-align: middle;\n",
       "    }\n",
       "\n",
       "    .dataframe tbody tr th {\n",
       "        vertical-align: top;\n",
       "    }\n",
       "\n",
       "    .dataframe thead th {\n",
       "        text-align: right;\n",
       "    }\n",
       "</style>\n",
       "<table border=\"1\" class=\"dataframe\">\n",
       "  <thead>\n",
       "    <tr style=\"text-align: right;\">\n",
       "      <th></th>\n",
       "      <th>category_list</th>\n",
       "      <th>main_sector</th>\n",
       "    </tr>\n",
       "  </thead>\n",
       "  <tbody>\n",
       "    <tr>\n",
       "      <th>0</th>\n",
       "      <td>Adventure Travel</td>\n",
       "      <td>Automotive &amp; Sports</td>\n",
       "    </tr>\n",
       "    <tr>\n",
       "      <th>1</th>\n",
       "      <td>Aerospace</td>\n",
       "      <td>Automotive &amp; Sports</td>\n",
       "    </tr>\n",
       "    <tr>\n",
       "      <th>2</th>\n",
       "      <td>Auto</td>\n",
       "      <td>Automotive &amp; Sports</td>\n",
       "    </tr>\n",
       "    <tr>\n",
       "      <th>3</th>\n",
       "      <td>Automated Kiosk</td>\n",
       "      <td>Automotive &amp; Sports</td>\n",
       "    </tr>\n",
       "    <tr>\n",
       "      <th>4</th>\n",
       "      <td>Automotive</td>\n",
       "      <td>Automotive &amp; Sports</td>\n",
       "    </tr>\n",
       "    <tr>\n",
       "      <th>...</th>\n",
       "      <td>...</td>\n",
       "      <td>...</td>\n",
       "    </tr>\n",
       "    <tr>\n",
       "      <th>682</th>\n",
       "      <td>Social Recruiting</td>\n",
       "      <td>Social, Finance, Analytics, Advertising</td>\n",
       "    </tr>\n",
       "    <tr>\n",
       "      <th>683</th>\n",
       "      <td>Social Television</td>\n",
       "      <td>Social, Finance, Analytics, Advertising</td>\n",
       "    </tr>\n",
       "    <tr>\n",
       "      <th>684</th>\n",
       "      <td>Social Travel</td>\n",
       "      <td>Social, Finance, Analytics, Advertising</td>\n",
       "    </tr>\n",
       "    <tr>\n",
       "      <th>685</th>\n",
       "      <td>Stock Exchanges</td>\n",
       "      <td>Social, Finance, Analytics, Advertising</td>\n",
       "    </tr>\n",
       "    <tr>\n",
       "      <th>686</th>\n",
       "      <td>Venture Capital</td>\n",
       "      <td>Social, Finance, Analytics, Advertising</td>\n",
       "    </tr>\n",
       "  </tbody>\n",
       "</table>\n",
       "<p>687 rows × 2 columns</p>\n",
       "</div>"
      ],
      "text/plain": [
       "         category_list                              main_sector\n",
       "0     Adventure Travel                      Automotive & Sports\n",
       "1            Aerospace                      Automotive & Sports\n",
       "2                 Auto                      Automotive & Sports\n",
       "3      Automated Kiosk                      Automotive & Sports\n",
       "4           Automotive                      Automotive & Sports\n",
       "..                 ...                                      ...\n",
       "682  Social Recruiting  Social, Finance, Analytics, Advertising\n",
       "683  Social Television  Social, Finance, Analytics, Advertising\n",
       "684      Social Travel  Social, Finance, Analytics, Advertising\n",
       "685    Stock Exchanges  Social, Finance, Analytics, Advertising\n",
       "686    Venture Capital  Social, Finance, Analytics, Advertising\n",
       "\n",
       "[687 rows x 2 columns]"
      ]
     },
     "execution_count": 403,
     "metadata": {},
     "output_type": "execute_result"
    }
   ],
   "source": [
    "df_mapping"
   ]
  },
  {
   "cell_type": "markdown",
   "metadata": {},
   "source": [
    "## Merging top9 and df_mapping"
   ]
  },
  {
   "cell_type": "code",
   "execution_count": 404,
   "metadata": {},
   "outputs": [],
   "source": [
    "## naming this merged dataframe as df_sector\n",
    "\n",
    "df_sector = pd.merge(top9,df_mapping,left_on='primary sector', right_on='category_list',how='inner')"
   ]
  },
  {
   "cell_type": "code",
   "execution_count": 405,
   "metadata": {},
   "outputs": [
    {
     "data": {
      "text/html": [
       "<div>\n",
       "<style scoped>\n",
       "    .dataframe tbody tr th:only-of-type {\n",
       "        vertical-align: middle;\n",
       "    }\n",
       "\n",
       "    .dataframe tbody tr th {\n",
       "        vertical-align: top;\n",
       "    }\n",
       "\n",
       "    .dataframe thead th {\n",
       "        text-align: right;\n",
       "    }\n",
       "</style>\n",
       "<table border=\"1\" class=\"dataframe\">\n",
       "  <thead>\n",
       "    <tr style=\"text-align: right;\">\n",
       "      <th></th>\n",
       "      <th>permalink</th>\n",
       "      <th>name</th>\n",
       "      <th>category_list_x</th>\n",
       "      <th>country_code</th>\n",
       "      <th>funding_round_type</th>\n",
       "      <th>raised_amount_usd</th>\n",
       "      <th>primary sector</th>\n",
       "      <th>category_list_y</th>\n",
       "      <th>main_sector</th>\n",
       "    </tr>\n",
       "  </thead>\n",
       "  <tbody>\n",
       "    <tr>\n",
       "      <th>0</th>\n",
       "      <td>/organization/-fame</td>\n",
       "      <td>#fame</td>\n",
       "      <td>Media</td>\n",
       "      <td>IND</td>\n",
       "      <td>venture</td>\n",
       "      <td>10000000.0</td>\n",
       "      <td>Media</td>\n",
       "      <td>Media</td>\n",
       "      <td>Entertainment</td>\n",
       "    </tr>\n",
       "    <tr>\n",
       "      <th>1</th>\n",
       "      <td>/organization/90min</td>\n",
       "      <td>90min</td>\n",
       "      <td>Media|News|Publishing|Soccer|Sports</td>\n",
       "      <td>GBR</td>\n",
       "      <td>venture</td>\n",
       "      <td>15000000.0</td>\n",
       "      <td>Media</td>\n",
       "      <td>Media</td>\n",
       "      <td>Entertainment</td>\n",
       "    </tr>\n",
       "    <tr>\n",
       "      <th>2</th>\n",
       "      <td>/organization/all-def-digital</td>\n",
       "      <td>All Def Digital</td>\n",
       "      <td>Media</td>\n",
       "      <td>USA</td>\n",
       "      <td>venture</td>\n",
       "      <td>5000000.0</td>\n",
       "      <td>Media</td>\n",
       "      <td>Media</td>\n",
       "      <td>Entertainment</td>\n",
       "    </tr>\n",
       "    <tr>\n",
       "      <th>3</th>\n",
       "      <td>/organization/audiosocket</td>\n",
       "      <td>Audiosocket</td>\n",
       "      <td>Media|Music|Technology</td>\n",
       "      <td>USA</td>\n",
       "      <td>venture</td>\n",
       "      <td>650000.0</td>\n",
       "      <td>Media</td>\n",
       "      <td>Media</td>\n",
       "      <td>Entertainment</td>\n",
       "    </tr>\n",
       "    <tr>\n",
       "      <th>4</th>\n",
       "      <td>/organization/babble</td>\n",
       "      <td>Babble</td>\n",
       "      <td>Media|News|Parenting</td>\n",
       "      <td>USA</td>\n",
       "      <td>venture</td>\n",
       "      <td>2000000.0</td>\n",
       "      <td>Media</td>\n",
       "      <td>Media</td>\n",
       "      <td>Entertainment</td>\n",
       "    </tr>\n",
       "  </tbody>\n",
       "</table>\n",
       "</div>"
      ],
      "text/plain": [
       "                       permalink             name  \\\n",
       "0            /organization/-fame            #fame   \n",
       "1            /organization/90min            90min   \n",
       "2  /organization/all-def-digital  All Def Digital   \n",
       "3      /organization/audiosocket      Audiosocket   \n",
       "4           /organization/babble           Babble   \n",
       "\n",
       "                       category_list_x country_code funding_round_type  \\\n",
       "0                                Media          IND            venture   \n",
       "1  Media|News|Publishing|Soccer|Sports          GBR            venture   \n",
       "2                                Media          USA            venture   \n",
       "3               Media|Music|Technology          USA            venture   \n",
       "4                 Media|News|Parenting          USA            venture   \n",
       "\n",
       "   raised_amount_usd primary sector category_list_y    main_sector  \n",
       "0         10000000.0          Media           Media  Entertainment  \n",
       "1         15000000.0          Media           Media  Entertainment  \n",
       "2          5000000.0          Media           Media  Entertainment  \n",
       "3           650000.0          Media           Media  Entertainment  \n",
       "4          2000000.0          Media           Media  Entertainment  "
      ]
     },
     "execution_count": 405,
     "metadata": {},
     "output_type": "execute_result"
    }
   ],
   "source": [
    "df_sector.head()"
   ]
  },
  {
   "cell_type": "code",
   "execution_count": 406,
   "metadata": {},
   "outputs": [
    {
     "name": "stdout",
     "output_type": "stream",
     "text": [
      "<class 'pandas.core.frame.DataFrame'>\n",
      "Int64Index: 19372 entries, 0 to 19371\n",
      "Data columns (total 9 columns):\n",
      " #   Column              Non-Null Count  Dtype  \n",
      "---  ------              --------------  -----  \n",
      " 0   permalink           19372 non-null  object \n",
      " 1   name                19372 non-null  object \n",
      " 2   category_list_x     19372 non-null  object \n",
      " 3   country_code        19372 non-null  object \n",
      " 4   funding_round_type  19372 non-null  object \n",
      " 5   raised_amount_usd   19372 non-null  float64\n",
      " 6   primary sector      19372 non-null  object \n",
      " 7   category_list_y     19372 non-null  object \n",
      " 8   main_sector         19372 non-null  object \n",
      "dtypes: float64(1), object(8)\n",
      "memory usage: 1.5+ MB\n"
     ]
    }
   ],
   "source": [
    "## checking out df_sector\n",
    "df_sector.info()"
   ]
  },
  {
   "cell_type": "markdown",
   "metadata": {},
   "source": [
    "### we have 2 useless columns namely category_list_x and category_list_y. So we will de dropping them"
   ]
  },
  {
   "cell_type": "code",
   "execution_count": 407,
   "metadata": {},
   "outputs": [],
   "source": [
    "## dropping category_list_x and category_list_y\n",
    "df_sector = df_sector.drop(['category_list_x','category_list_y'], axis=1)"
   ]
  },
  {
   "cell_type": "code",
   "execution_count": 408,
   "metadata": {},
   "outputs": [],
   "source": [
    "## resetting index\n",
    "df_sector.reset_index(inplace=True,drop=True)"
   ]
  },
  {
   "cell_type": "code",
   "execution_count": 409,
   "metadata": {},
   "outputs": [
    {
     "name": "stdout",
     "output_type": "stream",
     "text": [
      "<class 'pandas.core.frame.DataFrame'>\n",
      "RangeIndex: 19372 entries, 0 to 19371\n",
      "Data columns (total 7 columns):\n",
      " #   Column              Non-Null Count  Dtype  \n",
      "---  ------              --------------  -----  \n",
      " 0   permalink           19372 non-null  object \n",
      " 1   name                19372 non-null  object \n",
      " 2   country_code        19372 non-null  object \n",
      " 3   funding_round_type  19372 non-null  object \n",
      " 4   raised_amount_usd   19372 non-null  float64\n",
      " 5   primary sector      19372 non-null  object \n",
      " 6   main_sector         19372 non-null  object \n",
      "dtypes: float64(1), object(6)\n",
      "memory usage: 1.0+ MB\n"
     ]
    }
   ],
   "source": [
    "df_sector.info()"
   ]
  },
  {
   "cell_type": "code",
   "execution_count": 410,
   "metadata": {},
   "outputs": [
    {
     "data": {
      "text/html": [
       "<div>\n",
       "<style scoped>\n",
       "    .dataframe tbody tr th:only-of-type {\n",
       "        vertical-align: middle;\n",
       "    }\n",
       "\n",
       "    .dataframe tbody tr th {\n",
       "        vertical-align: top;\n",
       "    }\n",
       "\n",
       "    .dataframe thead th {\n",
       "        text-align: right;\n",
       "    }\n",
       "</style>\n",
       "<table border=\"1\" class=\"dataframe\">\n",
       "  <thead>\n",
       "    <tr style=\"text-align: right;\">\n",
       "      <th></th>\n",
       "      <th>permalink</th>\n",
       "      <th>name</th>\n",
       "      <th>country_code</th>\n",
       "      <th>funding_round_type</th>\n",
       "      <th>raised_amount_usd</th>\n",
       "      <th>primary sector</th>\n",
       "      <th>main_sector</th>\n",
       "    </tr>\n",
       "  </thead>\n",
       "  <tbody>\n",
       "    <tr>\n",
       "      <th>0</th>\n",
       "      <td>/organization/-fame</td>\n",
       "      <td>#fame</td>\n",
       "      <td>IND</td>\n",
       "      <td>venture</td>\n",
       "      <td>10000000.0</td>\n",
       "      <td>Media</td>\n",
       "      <td>Entertainment</td>\n",
       "    </tr>\n",
       "    <tr>\n",
       "      <th>1</th>\n",
       "      <td>/organization/90min</td>\n",
       "      <td>90min</td>\n",
       "      <td>GBR</td>\n",
       "      <td>venture</td>\n",
       "      <td>15000000.0</td>\n",
       "      <td>Media</td>\n",
       "      <td>Entertainment</td>\n",
       "    </tr>\n",
       "    <tr>\n",
       "      <th>2</th>\n",
       "      <td>/organization/all-def-digital</td>\n",
       "      <td>All Def Digital</td>\n",
       "      <td>USA</td>\n",
       "      <td>venture</td>\n",
       "      <td>5000000.0</td>\n",
       "      <td>Media</td>\n",
       "      <td>Entertainment</td>\n",
       "    </tr>\n",
       "    <tr>\n",
       "      <th>3</th>\n",
       "      <td>/organization/audiosocket</td>\n",
       "      <td>Audiosocket</td>\n",
       "      <td>USA</td>\n",
       "      <td>venture</td>\n",
       "      <td>650000.0</td>\n",
       "      <td>Media</td>\n",
       "      <td>Entertainment</td>\n",
       "    </tr>\n",
       "    <tr>\n",
       "      <th>4</th>\n",
       "      <td>/organization/babble</td>\n",
       "      <td>Babble</td>\n",
       "      <td>USA</td>\n",
       "      <td>venture</td>\n",
       "      <td>2000000.0</td>\n",
       "      <td>Media</td>\n",
       "      <td>Entertainment</td>\n",
       "    </tr>\n",
       "  </tbody>\n",
       "</table>\n",
       "</div>"
      ],
      "text/plain": [
       "                       permalink             name country_code  \\\n",
       "0            /organization/-fame            #fame          IND   \n",
       "1            /organization/90min            90min          GBR   \n",
       "2  /organization/all-def-digital  All Def Digital          USA   \n",
       "3      /organization/audiosocket      Audiosocket          USA   \n",
       "4           /organization/babble           Babble          USA   \n",
       "\n",
       "  funding_round_type  raised_amount_usd primary sector    main_sector  \n",
       "0            venture         10000000.0          Media  Entertainment  \n",
       "1            venture         15000000.0          Media  Entertainment  \n",
       "2            venture          5000000.0          Media  Entertainment  \n",
       "3            venture           650000.0          Media  Entertainment  \n",
       "4            venture          2000000.0          Media  Entertainment  "
      ]
     },
     "execution_count": 410,
     "metadata": {},
     "output_type": "execute_result"
    }
   ],
   "source": [
    "df_sector.head()"
   ]
  },
  {
   "cell_type": "markdown",
   "metadata": {},
   "source": [
    "### As we can see, the merged data frame df_sector has each primary sector mapped to its main sector  and the primary sector is present in a separate column. "
   ]
  },
  {
   "cell_type": "markdown",
   "metadata": {},
   "source": [
    "# Checkpoint 5: Sector Analysis 2"
   ]
  },
  {
   "cell_type": "markdown",
   "metadata": {},
   "source": [
    "### Creating three separate data frames D1, D2 and D3 for each of the top three countries containing the observations of private equity funding type. \n",
    "### We will only include those entires in the 3 data frames D1, D2 and D3 for which raised_amount_usd lies in the range 5-15 million USD.\n",
    "### We will not be including the upper and lower limits as multiple records exist at 15mllion USD"
   ]
  },
  {
   "cell_type": "code",
   "execution_count": 411,
   "metadata": {},
   "outputs": [
    {
     "data": {
      "text/html": [
       "<div>\n",
       "<style scoped>\n",
       "    .dataframe tbody tr th:only-of-type {\n",
       "        vertical-align: middle;\n",
       "    }\n",
       "\n",
       "    .dataframe tbody tr th {\n",
       "        vertical-align: top;\n",
       "    }\n",
       "\n",
       "    .dataframe thead th {\n",
       "        text-align: right;\n",
       "    }\n",
       "</style>\n",
       "<table border=\"1\" class=\"dataframe\">\n",
       "  <thead>\n",
       "    <tr style=\"text-align: right;\">\n",
       "      <th></th>\n",
       "      <th>permalink</th>\n",
       "      <th>name</th>\n",
       "      <th>country_code</th>\n",
       "      <th>funding_round_type</th>\n",
       "      <th>raised_amount_usd</th>\n",
       "      <th>primary sector</th>\n",
       "      <th>main_sector</th>\n",
       "    </tr>\n",
       "  </thead>\n",
       "  <tbody>\n",
       "    <tr>\n",
       "      <th>1</th>\n",
       "      <td>/organization/90min</td>\n",
       "      <td>90min</td>\n",
       "      <td>GBR</td>\n",
       "      <td>venture</td>\n",
       "      <td>15000000.0</td>\n",
       "      <td>Media</td>\n",
       "      <td>Entertainment</td>\n",
       "    </tr>\n",
       "    <tr>\n",
       "      <th>112</th>\n",
       "      <td>/organization/change-org</td>\n",
       "      <td>Change.org</td>\n",
       "      <td>USA</td>\n",
       "      <td>venture</td>\n",
       "      <td>15000000.0</td>\n",
       "      <td>Curated Web</td>\n",
       "      <td>News, Search and Messaging</td>\n",
       "    </tr>\n",
       "    <tr>\n",
       "      <th>238</th>\n",
       "      <td>/organization/grovo</td>\n",
       "      <td>Grovo</td>\n",
       "      <td>USA</td>\n",
       "      <td>venture</td>\n",
       "      <td>15000000.0</td>\n",
       "      <td>Curated Web</td>\n",
       "      <td>News, Search and Messaging</td>\n",
       "    </tr>\n",
       "    <tr>\n",
       "      <th>247</th>\n",
       "      <td>/organization/hired</td>\n",
       "      <td>Hired</td>\n",
       "      <td>USA</td>\n",
       "      <td>venture</td>\n",
       "      <td>15000000.0</td>\n",
       "      <td>Curated Web</td>\n",
       "      <td>News, Search and Messaging</td>\n",
       "    </tr>\n",
       "    <tr>\n",
       "      <th>257</th>\n",
       "      <td>/organization/howaboutwe</td>\n",
       "      <td>HowAboutWe</td>\n",
       "      <td>USA</td>\n",
       "      <td>venture</td>\n",
       "      <td>15000000.0</td>\n",
       "      <td>Curated Web</td>\n",
       "      <td>News, Search and Messaging</td>\n",
       "    </tr>\n",
       "    <tr>\n",
       "      <th>...</th>\n",
       "      <td>...</td>\n",
       "      <td>...</td>\n",
       "      <td>...</td>\n",
       "      <td>...</td>\n",
       "      <td>...</td>\n",
       "      <td>...</td>\n",
       "      <td>...</td>\n",
       "    </tr>\n",
       "    <tr>\n",
       "      <th>19284</th>\n",
       "      <td>/organization/octro-2</td>\n",
       "      <td>Octro</td>\n",
       "      <td>IND</td>\n",
       "      <td>venture</td>\n",
       "      <td>15000000.0</td>\n",
       "      <td>Online Gaming</td>\n",
       "      <td>Entertainment</td>\n",
       "    </tr>\n",
       "    <tr>\n",
       "      <th>19294</th>\n",
       "      <td>/organization/reserve</td>\n",
       "      <td>Reserve</td>\n",
       "      <td>USA</td>\n",
       "      <td>venture</td>\n",
       "      <td>15000000.0</td>\n",
       "      <td>Mobile Payments</td>\n",
       "      <td>Social, Finance, Analytics, Advertising</td>\n",
       "    </tr>\n",
       "    <tr>\n",
       "      <th>19309</th>\n",
       "      <td>/organization/predictix</td>\n",
       "      <td>Predictix</td>\n",
       "      <td>USA</td>\n",
       "      <td>venture</td>\n",
       "      <td>15000000.0</td>\n",
       "      <td>Enterprise Resource Planning</td>\n",
       "      <td>Others</td>\n",
       "    </tr>\n",
       "    <tr>\n",
       "      <th>19314</th>\n",
       "      <td>/organization/sunverge-energy-inc</td>\n",
       "      <td>Sunverge Energy, Inc</td>\n",
       "      <td>USA</td>\n",
       "      <td>venture</td>\n",
       "      <td>15000000.0</td>\n",
       "      <td>Commercial Solar</td>\n",
       "      <td>Cleantech / Semiconductors</td>\n",
       "    </tr>\n",
       "    <tr>\n",
       "      <th>19333</th>\n",
       "      <td>/organization/switchfly</td>\n",
       "      <td>Switchfly</td>\n",
       "      <td>USA</td>\n",
       "      <td>venture</td>\n",
       "      <td>15000000.0</td>\n",
       "      <td>Loyalty Programs</td>\n",
       "      <td>Others</td>\n",
       "    </tr>\n",
       "  </tbody>\n",
       "</table>\n",
       "<p>370 rows × 7 columns</p>\n",
       "</div>"
      ],
      "text/plain": [
       "                               permalink                  name country_code  \\\n",
       "1                    /organization/90min                 90min          GBR   \n",
       "112             /organization/change-org            Change.org          USA   \n",
       "238                  /organization/grovo                 Grovo          USA   \n",
       "247                  /organization/hired                 Hired          USA   \n",
       "257             /organization/howaboutwe            HowAboutWe          USA   \n",
       "...                                  ...                   ...          ...   \n",
       "19284              /organization/octro-2                 Octro          IND   \n",
       "19294              /organization/reserve               Reserve          USA   \n",
       "19309            /organization/predictix             Predictix          USA   \n",
       "19314  /organization/sunverge-energy-inc  Sunverge Energy, Inc          USA   \n",
       "19333            /organization/switchfly             Switchfly          USA   \n",
       "\n",
       "      funding_round_type  raised_amount_usd                primary sector  \\\n",
       "1                venture         15000000.0                         Media   \n",
       "112              venture         15000000.0                   Curated Web   \n",
       "238              venture         15000000.0                   Curated Web   \n",
       "247              venture         15000000.0                   Curated Web   \n",
       "257              venture         15000000.0                   Curated Web   \n",
       "...                  ...                ...                           ...   \n",
       "19284            venture         15000000.0                 Online Gaming   \n",
       "19294            venture         15000000.0               Mobile Payments   \n",
       "19309            venture         15000000.0  Enterprise Resource Planning   \n",
       "19314            venture         15000000.0              Commercial Solar   \n",
       "19333            venture         15000000.0              Loyalty Programs   \n",
       "\n",
       "                                   main_sector  \n",
       "1                                Entertainment  \n",
       "112                 News, Search and Messaging  \n",
       "238                 News, Search and Messaging  \n",
       "247                 News, Search and Messaging  \n",
       "257                 News, Search and Messaging  \n",
       "...                                        ...  \n",
       "19284                            Entertainment  \n",
       "19294  Social, Finance, Analytics, Advertising  \n",
       "19309                                   Others  \n",
       "19314               Cleantech / Semiconductors  \n",
       "19333                                   Others  \n",
       "\n",
       "[370 rows x 7 columns]"
      ]
     },
     "execution_count": 411,
     "metadata": {},
     "output_type": "execute_result"
    }
   ],
   "source": [
    "## multiple records at 15 million USD\n",
    "df_sector[(df_sector['raised_amount_usd']==15000000)]"
   ]
  },
  {
   "cell_type": "code",
   "execution_count": 412,
   "metadata": {},
   "outputs": [
    {
     "data": {
      "text/html": [
       "<div>\n",
       "<style scoped>\n",
       "    .dataframe tbody tr th:only-of-type {\n",
       "        vertical-align: middle;\n",
       "    }\n",
       "\n",
       "    .dataframe tbody tr th {\n",
       "        vertical-align: top;\n",
       "    }\n",
       "\n",
       "    .dataframe thead th {\n",
       "        text-align: right;\n",
       "    }\n",
       "</style>\n",
       "<table border=\"1\" class=\"dataframe\">\n",
       "  <thead>\n",
       "    <tr style=\"text-align: right;\">\n",
       "      <th></th>\n",
       "      <th>permalink</th>\n",
       "      <th>name</th>\n",
       "      <th>country_code</th>\n",
       "      <th>funding_round_type</th>\n",
       "      <th>raised_amount_usd</th>\n",
       "      <th>primary sector</th>\n",
       "      <th>main_sector</th>\n",
       "    </tr>\n",
       "  </thead>\n",
       "  <tbody>\n",
       "    <tr>\n",
       "      <th>0</th>\n",
       "      <td>/organization/all-def-digital</td>\n",
       "      <td>All Def Digital</td>\n",
       "      <td>USA</td>\n",
       "      <td>venture</td>\n",
       "      <td>5000000.0</td>\n",
       "      <td>Media</td>\n",
       "      <td>Entertainment</td>\n",
       "    </tr>\n",
       "    <tr>\n",
       "      <th>1</th>\n",
       "      <td>/organization/audiosocket</td>\n",
       "      <td>Audiosocket</td>\n",
       "      <td>USA</td>\n",
       "      <td>venture</td>\n",
       "      <td>650000.0</td>\n",
       "      <td>Media</td>\n",
       "      <td>Entertainment</td>\n",
       "    </tr>\n",
       "    <tr>\n",
       "      <th>2</th>\n",
       "      <td>/organization/babble</td>\n",
       "      <td>Babble</td>\n",
       "      <td>USA</td>\n",
       "      <td>venture</td>\n",
       "      <td>2000000.0</td>\n",
       "      <td>Media</td>\n",
       "      <td>Entertainment</td>\n",
       "    </tr>\n",
       "    <tr>\n",
       "      <th>3</th>\n",
       "      <td>/organization/bedloo</td>\n",
       "      <td>Bedloo</td>\n",
       "      <td>USA</td>\n",
       "      <td>venture</td>\n",
       "      <td>657589.0</td>\n",
       "      <td>Media</td>\n",
       "      <td>Entertainment</td>\n",
       "    </tr>\n",
       "    <tr>\n",
       "      <th>4</th>\n",
       "      <td>/organization/cipher-online-media</td>\n",
       "      <td>Cipher Online Media</td>\n",
       "      <td>USA</td>\n",
       "      <td>venture</td>\n",
       "      <td>1349999.0</td>\n",
       "      <td>Media</td>\n",
       "      <td>Entertainment</td>\n",
       "    </tr>\n",
       "    <tr>\n",
       "      <th>...</th>\n",
       "      <td>...</td>\n",
       "      <td>...</td>\n",
       "      <td>...</td>\n",
       "      <td>...</td>\n",
       "      <td>...</td>\n",
       "      <td>...</td>\n",
       "      <td>...</td>\n",
       "    </tr>\n",
       "    <tr>\n",
       "      <th>14982</th>\n",
       "      <td>/organization/us-primate-rescue-inc</td>\n",
       "      <td>US Primate Rescue Inc.</td>\n",
       "      <td>USA</td>\n",
       "      <td>venture</td>\n",
       "      <td>50000.0</td>\n",
       "      <td>Animal Feed</td>\n",
       "      <td>Health</td>\n",
       "    </tr>\n",
       "    <tr>\n",
       "      <th>14983</th>\n",
       "      <td>/organization/user-interface</td>\n",
       "      <td>User Interface</td>\n",
       "      <td>USA</td>\n",
       "      <td>venture</td>\n",
       "      <td>8250000.0</td>\n",
       "      <td>User Interface</td>\n",
       "      <td>Others</td>\n",
       "    </tr>\n",
       "    <tr>\n",
       "      <th>14984</th>\n",
       "      <td>/organization/washio</td>\n",
       "      <td>Washio</td>\n",
       "      <td>USA</td>\n",
       "      <td>venture</td>\n",
       "      <td>10500000.0</td>\n",
       "      <td>Service Industries</td>\n",
       "      <td>Others</td>\n",
       "    </tr>\n",
       "    <tr>\n",
       "      <th>14985</th>\n",
       "      <td>/organization/yapta</td>\n",
       "      <td>Yapta</td>\n",
       "      <td>USA</td>\n",
       "      <td>venture</td>\n",
       "      <td>2300000.0</td>\n",
       "      <td>Tracking</td>\n",
       "      <td>Others</td>\n",
       "    </tr>\n",
       "    <tr>\n",
       "      <th>14986</th>\n",
       "      <td>/organization/ziftit</td>\n",
       "      <td>Ziftit</td>\n",
       "      <td>USA</td>\n",
       "      <td>venture</td>\n",
       "      <td>4000000.0</td>\n",
       "      <td>Gift Registries</td>\n",
       "      <td>Others</td>\n",
       "    </tr>\n",
       "  </tbody>\n",
       "</table>\n",
       "<p>14987 rows × 7 columns</p>\n",
       "</div>"
      ],
      "text/plain": [
       "                                 permalink                    name  \\\n",
       "0            /organization/all-def-digital         All Def Digital   \n",
       "1                /organization/audiosocket             Audiosocket   \n",
       "2                     /organization/babble                  Babble   \n",
       "3                     /organization/bedloo                  Bedloo   \n",
       "4        /organization/cipher-online-media     Cipher Online Media   \n",
       "...                                    ...                     ...   \n",
       "14982  /organization/us-primate-rescue-inc  US Primate Rescue Inc.   \n",
       "14983         /organization/user-interface          User Interface   \n",
       "14984                 /organization/washio                  Washio   \n",
       "14985                  /organization/yapta                   Yapta   \n",
       "14986                 /organization/ziftit                  Ziftit   \n",
       "\n",
       "      country_code funding_round_type  raised_amount_usd      primary sector  \\\n",
       "0              USA            venture          5000000.0               Media   \n",
       "1              USA            venture           650000.0               Media   \n",
       "2              USA            venture          2000000.0               Media   \n",
       "3              USA            venture           657589.0               Media   \n",
       "4              USA            venture          1349999.0               Media   \n",
       "...            ...                ...                ...                 ...   \n",
       "14982          USA            venture            50000.0         Animal Feed   \n",
       "14983          USA            venture          8250000.0      User Interface   \n",
       "14984          USA            venture         10500000.0  Service Industries   \n",
       "14985          USA            venture          2300000.0            Tracking   \n",
       "14986          USA            venture          4000000.0     Gift Registries   \n",
       "\n",
       "         main_sector  \n",
       "0      Entertainment  \n",
       "1      Entertainment  \n",
       "2      Entertainment  \n",
       "3      Entertainment  \n",
       "4      Entertainment  \n",
       "...              ...  \n",
       "14982         Health  \n",
       "14983         Others  \n",
       "14984         Others  \n",
       "14985         Others  \n",
       "14986         Others  \n",
       "\n",
       "[14987 rows x 7 columns]"
      ]
     },
     "execution_count": 412,
     "metadata": {},
     "output_type": "execute_result"
    }
   ],
   "source": [
    "# Creating D1 for USA\n",
    "D1 = df_sector[(df_sector['country_code']=='USA')]\n",
    "D1.reset_index(inplace=True,drop=True)\n",
    "D1"
   ]
  },
  {
   "cell_type": "code",
   "execution_count": 413,
   "metadata": {},
   "outputs": [],
   "source": [
    "D1 = D1[(D1['raised_amount_usd'] > 5000000) & (D1['raised_amount_usd'] < 15000000)]"
   ]
  },
  {
   "cell_type": "code",
   "execution_count": 414,
   "metadata": {},
   "outputs": [
    {
     "data": {
      "text/html": [
       "<div>\n",
       "<style scoped>\n",
       "    .dataframe tbody tr th:only-of-type {\n",
       "        vertical-align: middle;\n",
       "    }\n",
       "\n",
       "    .dataframe tbody tr th {\n",
       "        vertical-align: top;\n",
       "    }\n",
       "\n",
       "    .dataframe thead th {\n",
       "        text-align: right;\n",
       "    }\n",
       "</style>\n",
       "<table border=\"1\" class=\"dataframe\">\n",
       "  <thead>\n",
       "    <tr style=\"text-align: right;\">\n",
       "      <th></th>\n",
       "      <th>permalink</th>\n",
       "      <th>name</th>\n",
       "      <th>country_code</th>\n",
       "      <th>funding_round_type</th>\n",
       "      <th>raised_amount_usd</th>\n",
       "      <th>primary sector</th>\n",
       "      <th>main_sector</th>\n",
       "    </tr>\n",
       "  </thead>\n",
       "  <tbody>\n",
       "    <tr>\n",
       "      <th>10</th>\n",
       "      <td>/organization/matchmine</td>\n",
       "      <td>MatchMine</td>\n",
       "      <td>USA</td>\n",
       "      <td>venture</td>\n",
       "      <td>10000000.0</td>\n",
       "      <td>Media</td>\n",
       "      <td>Entertainment</td>\n",
       "    </tr>\n",
       "    <tr>\n",
       "      <th>13</th>\n",
       "      <td>/organization/newscorporation</td>\n",
       "      <td>News Corp</td>\n",
       "      <td>USA</td>\n",
       "      <td>venture</td>\n",
       "      <td>12500000.0</td>\n",
       "      <td>Media</td>\n",
       "      <td>Entertainment</td>\n",
       "    </tr>\n",
       "    <tr>\n",
       "      <th>14</th>\n",
       "      <td>/organization/nokeena</td>\n",
       "      <td>Ankeena Networks</td>\n",
       "      <td>USA</td>\n",
       "      <td>venture</td>\n",
       "      <td>9400000.0</td>\n",
       "      <td>Media</td>\n",
       "      <td>Entertainment</td>\n",
       "    </tr>\n",
       "    <tr>\n",
       "      <th>23</th>\n",
       "      <td>/organization/abilto</td>\n",
       "      <td>AbilTo</td>\n",
       "      <td>USA</td>\n",
       "      <td>venture</td>\n",
       "      <td>6000000.0</td>\n",
       "      <td>Curated Web</td>\n",
       "      <td>News, Search and Messaging</td>\n",
       "    </tr>\n",
       "    <tr>\n",
       "      <th>24</th>\n",
       "      <td>/organization/abine</td>\n",
       "      <td>Abine</td>\n",
       "      <td>USA</td>\n",
       "      <td>venture</td>\n",
       "      <td>6467283.0</td>\n",
       "      <td>Curated Web</td>\n",
       "      <td>News, Search and Messaging</td>\n",
       "    </tr>\n",
       "    <tr>\n",
       "      <th>...</th>\n",
       "      <td>...</td>\n",
       "      <td>...</td>\n",
       "      <td>...</td>\n",
       "      <td>...</td>\n",
       "      <td>...</td>\n",
       "      <td>...</td>\n",
       "      <td>...</td>\n",
       "    </tr>\n",
       "    <tr>\n",
       "      <th>14965</th>\n",
       "      <td>/organization/shopwiki</td>\n",
       "      <td>ShopWiki</td>\n",
       "      <td>USA</td>\n",
       "      <td>venture</td>\n",
       "      <td>6250000.0</td>\n",
       "      <td>Price Comparison</td>\n",
       "      <td>Social, Finance, Analytics, Advertising</td>\n",
       "    </tr>\n",
       "    <tr>\n",
       "      <th>14966</th>\n",
       "      <td>/organization/shuddle</td>\n",
       "      <td>Shuddle</td>\n",
       "      <td>USA</td>\n",
       "      <td>venture</td>\n",
       "      <td>9600000.0</td>\n",
       "      <td>Child Care</td>\n",
       "      <td>Health</td>\n",
       "    </tr>\n",
       "    <tr>\n",
       "      <th>14979</th>\n",
       "      <td>/organization/wizrocket-technologies</td>\n",
       "      <td>CleverTap</td>\n",
       "      <td>USA</td>\n",
       "      <td>venture</td>\n",
       "      <td>8000000.0</td>\n",
       "      <td>Consumer Behavior</td>\n",
       "      <td>Social, Finance, Analytics, Advertising</td>\n",
       "    </tr>\n",
       "    <tr>\n",
       "      <th>14983</th>\n",
       "      <td>/organization/user-interface</td>\n",
       "      <td>User Interface</td>\n",
       "      <td>USA</td>\n",
       "      <td>venture</td>\n",
       "      <td>8250000.0</td>\n",
       "      <td>User Interface</td>\n",
       "      <td>Others</td>\n",
       "    </tr>\n",
       "    <tr>\n",
       "      <th>14984</th>\n",
       "      <td>/organization/washio</td>\n",
       "      <td>Washio</td>\n",
       "      <td>USA</td>\n",
       "      <td>venture</td>\n",
       "      <td>10500000.0</td>\n",
       "      <td>Service Industries</td>\n",
       "      <td>Others</td>\n",
       "    </tr>\n",
       "  </tbody>\n",
       "</table>\n",
       "<p>3844 rows × 7 columns</p>\n",
       "</div>"
      ],
      "text/plain": [
       "                                  permalink              name country_code  \\\n",
       "10                  /organization/matchmine         MatchMine          USA   \n",
       "13            /organization/newscorporation         News Corp          USA   \n",
       "14                    /organization/nokeena  Ankeena Networks          USA   \n",
       "23                     /organization/abilto            AbilTo          USA   \n",
       "24                      /organization/abine             Abine          USA   \n",
       "...                                     ...               ...          ...   \n",
       "14965                /organization/shopwiki          ShopWiki          USA   \n",
       "14966                 /organization/shuddle           Shuddle          USA   \n",
       "14979  /organization/wizrocket-technologies         CleverTap          USA   \n",
       "14983          /organization/user-interface    User Interface          USA   \n",
       "14984                  /organization/washio            Washio          USA   \n",
       "\n",
       "      funding_round_type  raised_amount_usd      primary sector  \\\n",
       "10               venture         10000000.0               Media   \n",
       "13               venture         12500000.0               Media   \n",
       "14               venture          9400000.0               Media   \n",
       "23               venture          6000000.0         Curated Web   \n",
       "24               venture          6467283.0         Curated Web   \n",
       "...                  ...                ...                 ...   \n",
       "14965            venture          6250000.0    Price Comparison   \n",
       "14966            venture          9600000.0          Child Care   \n",
       "14979            venture          8000000.0   Consumer Behavior   \n",
       "14983            venture          8250000.0      User Interface   \n",
       "14984            venture         10500000.0  Service Industries   \n",
       "\n",
       "                                   main_sector  \n",
       "10                               Entertainment  \n",
       "13                               Entertainment  \n",
       "14                               Entertainment  \n",
       "23                  News, Search and Messaging  \n",
       "24                  News, Search and Messaging  \n",
       "...                                        ...  \n",
       "14965  Social, Finance, Analytics, Advertising  \n",
       "14966                                   Health  \n",
       "14979  Social, Finance, Analytics, Advertising  \n",
       "14983                                   Others  \n",
       "14984                                   Others  \n",
       "\n",
       "[3844 rows x 7 columns]"
      ]
     },
     "execution_count": 414,
     "metadata": {},
     "output_type": "execute_result"
    }
   ],
   "source": [
    "D1"
   ]
  },
  {
   "cell_type": "code",
   "execution_count": 415,
   "metadata": {},
   "outputs": [
    {
     "data": {
      "text/html": [
       "<div>\n",
       "<style scoped>\n",
       "    .dataframe tbody tr th:only-of-type {\n",
       "        vertical-align: middle;\n",
       "    }\n",
       "\n",
       "    .dataframe tbody tr th {\n",
       "        vertical-align: top;\n",
       "    }\n",
       "\n",
       "    .dataframe thead th {\n",
       "        text-align: right;\n",
       "    }\n",
       "</style>\n",
       "<table border=\"1\" class=\"dataframe\">\n",
       "  <thead>\n",
       "    <tr style=\"text-align: right;\">\n",
       "      <th></th>\n",
       "      <th>permalink</th>\n",
       "      <th>name</th>\n",
       "      <th>country_code</th>\n",
       "      <th>funding_round_type</th>\n",
       "      <th>raised_amount_usd</th>\n",
       "      <th>primary sector</th>\n",
       "      <th>main_sector</th>\n",
       "    </tr>\n",
       "  </thead>\n",
       "  <tbody>\n",
       "    <tr>\n",
       "      <th>0</th>\n",
       "      <td>/organization/famecount</td>\n",
       "      <td>Starcount</td>\n",
       "      <td>GBR</td>\n",
       "      <td>venture</td>\n",
       "      <td>7464266.0</td>\n",
       "      <td>Curated Web</td>\n",
       "      <td>News, Search and Messaging</td>\n",
       "    </tr>\n",
       "    <tr>\n",
       "      <th>1</th>\n",
       "      <td>/organization/naked-wines</td>\n",
       "      <td>Naked Wines</td>\n",
       "      <td>GBR</td>\n",
       "      <td>venture</td>\n",
       "      <td>10000000.0</td>\n",
       "      <td>Curated Web</td>\n",
       "      <td>News, Search and Messaging</td>\n",
       "    </tr>\n",
       "    <tr>\n",
       "      <th>2</th>\n",
       "      <td>/organization/passado</td>\n",
       "      <td>Passado</td>\n",
       "      <td>GBR</td>\n",
       "      <td>venture</td>\n",
       "      <td>13200000.0</td>\n",
       "      <td>Curated Web</td>\n",
       "      <td>News, Search and Messaging</td>\n",
       "    </tr>\n",
       "    <tr>\n",
       "      <th>3</th>\n",
       "      <td>/organization/osper</td>\n",
       "      <td>Osper</td>\n",
       "      <td>GBR</td>\n",
       "      <td>venture</td>\n",
       "      <td>10000000.0</td>\n",
       "      <td>Apps</td>\n",
       "      <td>News, Search and Messaging</td>\n",
       "    </tr>\n",
       "    <tr>\n",
       "      <th>4</th>\n",
       "      <td>/organization/trafi</td>\n",
       "      <td>TRAFI</td>\n",
       "      <td>GBR</td>\n",
       "      <td>venture</td>\n",
       "      <td>6500000.0</td>\n",
       "      <td>Apps</td>\n",
       "      <td>News, Search and Messaging</td>\n",
       "    </tr>\n",
       "    <tr>\n",
       "      <th>...</th>\n",
       "      <td>...</td>\n",
       "      <td>...</td>\n",
       "      <td>...</td>\n",
       "      <td>...</td>\n",
       "      <td>...</td>\n",
       "      <td>...</td>\n",
       "      <td>...</td>\n",
       "    </tr>\n",
       "    <tr>\n",
       "      <th>281</th>\n",
       "      <td>/organization/duncan-todd</td>\n",
       "      <td>DUNCAN &amp; Todd</td>\n",
       "      <td>GBR</td>\n",
       "      <td>venture</td>\n",
       "      <td>8485408.0</td>\n",
       "      <td>Local Businesses</td>\n",
       "      <td>Others</td>\n",
       "    </tr>\n",
       "    <tr>\n",
       "      <th>282</th>\n",
       "      <td>/organization/oxonica</td>\n",
       "      <td>Oxonica</td>\n",
       "      <td>GBR</td>\n",
       "      <td>venture</td>\n",
       "      <td>14034694.0</td>\n",
       "      <td>Health Diagnostics</td>\n",
       "      <td>Health</td>\n",
       "    </tr>\n",
       "    <tr>\n",
       "      <th>283</th>\n",
       "      <td>/organization/deltadot</td>\n",
       "      <td>deltaDOT</td>\n",
       "      <td>GBR</td>\n",
       "      <td>venture</td>\n",
       "      <td>6100000.0</td>\n",
       "      <td>Life Sciences</td>\n",
       "      <td>Others</td>\n",
       "    </tr>\n",
       "    <tr>\n",
       "      <th>284</th>\n",
       "      <td>/organization/e-leathergroup</td>\n",
       "      <td>E-LeatherGroup</td>\n",
       "      <td>GBR</td>\n",
       "      <td>venture</td>\n",
       "      <td>8425073.0</td>\n",
       "      <td>Textiles</td>\n",
       "      <td>Others</td>\n",
       "    </tr>\n",
       "    <tr>\n",
       "      <th>285</th>\n",
       "      <td>/organization/songkick</td>\n",
       "      <td>Songkick</td>\n",
       "      <td>GBR</td>\n",
       "      <td>venture</td>\n",
       "      <td>10000000.0</td>\n",
       "      <td>Concerts</td>\n",
       "      <td>Entertainment</td>\n",
       "    </tr>\n",
       "  </tbody>\n",
       "</table>\n",
       "<p>286 rows × 7 columns</p>\n",
       "</div>"
      ],
      "text/plain": [
       "                        permalink            name country_code  \\\n",
       "0         /organization/famecount       Starcount          GBR   \n",
       "1       /organization/naked-wines     Naked Wines          GBR   \n",
       "2           /organization/passado         Passado          GBR   \n",
       "3             /organization/osper           Osper          GBR   \n",
       "4             /organization/trafi           TRAFI          GBR   \n",
       "..                            ...             ...          ...   \n",
       "281     /organization/duncan-todd   DUNCAN & Todd          GBR   \n",
       "282         /organization/oxonica         Oxonica          GBR   \n",
       "283        /organization/deltadot        deltaDOT          GBR   \n",
       "284  /organization/e-leathergroup  E-LeatherGroup          GBR   \n",
       "285        /organization/songkick        Songkick          GBR   \n",
       "\n",
       "    funding_round_type  raised_amount_usd      primary sector  \\\n",
       "0              venture          7464266.0         Curated Web   \n",
       "1              venture         10000000.0         Curated Web   \n",
       "2              venture         13200000.0         Curated Web   \n",
       "3              venture         10000000.0                Apps   \n",
       "4              venture          6500000.0                Apps   \n",
       "..                 ...                ...                 ...   \n",
       "281            venture          8485408.0    Local Businesses   \n",
       "282            venture         14034694.0  Health Diagnostics   \n",
       "283            venture          6100000.0       Life Sciences   \n",
       "284            venture          8425073.0            Textiles   \n",
       "285            venture         10000000.0            Concerts   \n",
       "\n",
       "                    main_sector  \n",
       "0    News, Search and Messaging  \n",
       "1    News, Search and Messaging  \n",
       "2    News, Search and Messaging  \n",
       "3    News, Search and Messaging  \n",
       "4    News, Search and Messaging  \n",
       "..                          ...  \n",
       "281                      Others  \n",
       "282                      Health  \n",
       "283                      Others  \n",
       "284                      Others  \n",
       "285               Entertainment  \n",
       "\n",
       "[286 rows x 7 columns]"
      ]
     },
     "execution_count": 415,
     "metadata": {},
     "output_type": "execute_result"
    }
   ],
   "source": [
    "# Creating D2 for GBR\n",
    "D2 = df_sector[df_sector['country_code'].isin(['GBR'])&((df_sector['raised_amount_usd']>5000000)&(df_sector['raised_amount_usd']<15000000))]\n",
    "D2.reset_index(inplace=True,drop=True)\n",
    "D2"
   ]
  },
  {
   "cell_type": "code",
   "execution_count": 416,
   "metadata": {},
   "outputs": [
    {
     "data": {
      "text/html": [
       "<div>\n",
       "<style scoped>\n",
       "    .dataframe tbody tr th:only-of-type {\n",
       "        vertical-align: middle;\n",
       "    }\n",
       "\n",
       "    .dataframe tbody tr th {\n",
       "        vertical-align: top;\n",
       "    }\n",
       "\n",
       "    .dataframe thead th {\n",
       "        text-align: right;\n",
       "    }\n",
       "</style>\n",
       "<table border=\"1\" class=\"dataframe\">\n",
       "  <thead>\n",
       "    <tr style=\"text-align: right;\">\n",
       "      <th></th>\n",
       "      <th>permalink</th>\n",
       "      <th>name</th>\n",
       "      <th>country_code</th>\n",
       "      <th>funding_round_type</th>\n",
       "      <th>raised_amount_usd</th>\n",
       "      <th>primary sector</th>\n",
       "      <th>main_sector</th>\n",
       "    </tr>\n",
       "  </thead>\n",
       "  <tbody>\n",
       "    <tr>\n",
       "      <th>0</th>\n",
       "      <td>/organization/-fame</td>\n",
       "      <td>#fame</td>\n",
       "      <td>IND</td>\n",
       "      <td>venture</td>\n",
       "      <td>10000000.0</td>\n",
       "      <td>Media</td>\n",
       "      <td>Entertainment</td>\n",
       "    </tr>\n",
       "    <tr>\n",
       "      <th>1</th>\n",
       "      <td>/organization/bharat-matrimony</td>\n",
       "      <td>Bharat Matrimony</td>\n",
       "      <td>IND</td>\n",
       "      <td>venture</td>\n",
       "      <td>11750000.0</td>\n",
       "      <td>Curated Web</td>\n",
       "      <td>News, Search and Messaging</td>\n",
       "    </tr>\n",
       "    <tr>\n",
       "      <th>2</th>\n",
       "      <td>/organization/fourinteractive</td>\n",
       "      <td>Four Interactive</td>\n",
       "      <td>IND</td>\n",
       "      <td>venture</td>\n",
       "      <td>10000000.0</td>\n",
       "      <td>Curated Web</td>\n",
       "      <td>News, Search and Messaging</td>\n",
       "    </tr>\n",
       "    <tr>\n",
       "      <th>3</th>\n",
       "      <td>/organization/money-on-mobile</td>\n",
       "      <td>Money On Mobile</td>\n",
       "      <td>IND</td>\n",
       "      <td>venture</td>\n",
       "      <td>10000000.0</td>\n",
       "      <td>Curated Web</td>\n",
       "      <td>News, Search and Messaging</td>\n",
       "    </tr>\n",
       "    <tr>\n",
       "      <th>4</th>\n",
       "      <td>/organization/people-interactive-india</td>\n",
       "      <td>People Interactive (India)</td>\n",
       "      <td>IND</td>\n",
       "      <td>venture</td>\n",
       "      <td>8000000.0</td>\n",
       "      <td>Curated Web</td>\n",
       "      <td>News, Search and Messaging</td>\n",
       "    </tr>\n",
       "    <tr>\n",
       "      <th>...</th>\n",
       "      <td>...</td>\n",
       "      <td>...</td>\n",
       "      <td>...</td>\n",
       "      <td>...</td>\n",
       "      <td>...</td>\n",
       "      <td>...</td>\n",
       "      <td>...</td>\n",
       "    </tr>\n",
       "    <tr>\n",
       "      <th>118</th>\n",
       "      <td>/organization/smartairtrip</td>\n",
       "      <td>Smartairtrip</td>\n",
       "      <td>IND</td>\n",
       "      <td>venture</td>\n",
       "      <td>10000000.0</td>\n",
       "      <td>Hotels</td>\n",
       "      <td>Entertainment</td>\n",
       "    </tr>\n",
       "    <tr>\n",
       "      <th>119</th>\n",
       "      <td>/organization/easylink</td>\n",
       "      <td>EasyLink</td>\n",
       "      <td>IND</td>\n",
       "      <td>venture</td>\n",
       "      <td>5400000.0</td>\n",
       "      <td>Web Design</td>\n",
       "      <td>News, Search and Messaging</td>\n",
       "    </tr>\n",
       "    <tr>\n",
       "      <th>120</th>\n",
       "      <td>/organization/livspace</td>\n",
       "      <td>Livspace</td>\n",
       "      <td>IND</td>\n",
       "      <td>venture</td>\n",
       "      <td>8000000.0</td>\n",
       "      <td>Interior Design</td>\n",
       "      <td>Entertainment</td>\n",
       "    </tr>\n",
       "    <tr>\n",
       "      <th>121</th>\n",
       "      <td>/organization/razorpay</td>\n",
       "      <td>Razorpay</td>\n",
       "      <td>IND</td>\n",
       "      <td>venture</td>\n",
       "      <td>9000000.0</td>\n",
       "      <td>FinTech</td>\n",
       "      <td>Social, Finance, Analytics, Advertising</td>\n",
       "    </tr>\n",
       "    <tr>\n",
       "      <th>122</th>\n",
       "      <td>/organization/itzcash-card-ltd</td>\n",
       "      <td>ItzCash Card Ltd.</td>\n",
       "      <td>IND</td>\n",
       "      <td>venture</td>\n",
       "      <td>10000000.0</td>\n",
       "      <td>Gift Card</td>\n",
       "      <td>Others</td>\n",
       "    </tr>\n",
       "  </tbody>\n",
       "</table>\n",
       "<p>123 rows × 7 columns</p>\n",
       "</div>"
      ],
      "text/plain": [
       "                                  permalink                        name  \\\n",
       "0                       /organization/-fame                       #fame   \n",
       "1            /organization/bharat-matrimony            Bharat Matrimony   \n",
       "2             /organization/fourinteractive            Four Interactive   \n",
       "3             /organization/money-on-mobile             Money On Mobile   \n",
       "4    /organization/people-interactive-india  People Interactive (India)   \n",
       "..                                      ...                         ...   \n",
       "118              /organization/smartairtrip                Smartairtrip   \n",
       "119                  /organization/easylink                    EasyLink   \n",
       "120                  /organization/livspace                    Livspace   \n",
       "121                  /organization/razorpay                    Razorpay   \n",
       "122          /organization/itzcash-card-ltd           ItzCash Card Ltd.   \n",
       "\n",
       "    country_code funding_round_type  raised_amount_usd   primary sector  \\\n",
       "0            IND            venture         10000000.0            Media   \n",
       "1            IND            venture         11750000.0      Curated Web   \n",
       "2            IND            venture         10000000.0      Curated Web   \n",
       "3            IND            venture         10000000.0      Curated Web   \n",
       "4            IND            venture          8000000.0      Curated Web   \n",
       "..           ...                ...                ...              ...   \n",
       "118          IND            venture         10000000.0           Hotels   \n",
       "119          IND            venture          5400000.0       Web Design   \n",
       "120          IND            venture          8000000.0  Interior Design   \n",
       "121          IND            venture          9000000.0          FinTech   \n",
       "122          IND            venture         10000000.0        Gift Card   \n",
       "\n",
       "                                 main_sector  \n",
       "0                              Entertainment  \n",
       "1                 News, Search and Messaging  \n",
       "2                 News, Search and Messaging  \n",
       "3                 News, Search and Messaging  \n",
       "4                 News, Search and Messaging  \n",
       "..                                       ...  \n",
       "118                            Entertainment  \n",
       "119               News, Search and Messaging  \n",
       "120                            Entertainment  \n",
       "121  Social, Finance, Analytics, Advertising  \n",
       "122                                   Others  \n",
       "\n",
       "[123 rows x 7 columns]"
      ]
     },
     "execution_count": 416,
     "metadata": {},
     "output_type": "execute_result"
    }
   ],
   "source": [
    "# Creating D3 for IND\n",
    "D3 = df_sector[df_sector['country_code'].isin(['IND'])&((df_sector['raised_amount_usd']>5000000)&(df_sector['raised_amount_usd']<15000000))]\n",
    "D3.reset_index(inplace=True,drop=True)\n",
    "D3"
   ]
  },
  {
   "cell_type": "markdown",
   "metadata": {},
   "source": [
    "### Calculating total number of investments for each country:\n",
    "#### This would be equal to the number of rows in each D1, D2 and D3"
   ]
  },
  {
   "cell_type": "code",
   "execution_count": 417,
   "metadata": {},
   "outputs": [
    {
     "data": {
      "text/plain": [
       "(3844, 7)"
      ]
     },
     "execution_count": 417,
     "metadata": {},
     "output_type": "execute_result"
    }
   ],
   "source": [
    "# Total number of investments for D1\n",
    "D1.shape"
   ]
  },
  {
   "cell_type": "code",
   "execution_count": 418,
   "metadata": {},
   "outputs": [
    {
     "data": {
      "text/plain": [
       "(286, 7)"
      ]
     },
     "execution_count": 418,
     "metadata": {},
     "output_type": "execute_result"
    }
   ],
   "source": [
    "# Total number of investments for D2\n",
    "D2.shape"
   ]
  },
  {
   "cell_type": "code",
   "execution_count": 419,
   "metadata": {},
   "outputs": [
    {
     "data": {
      "text/plain": [
       "(123, 7)"
      ]
     },
     "execution_count": 419,
     "metadata": {},
     "output_type": "execute_result"
    }
   ],
   "source": [
    "# Total number of investments for D3\n",
    "D3.shape"
   ]
  },
  {
   "cell_type": "markdown",
   "metadata": {},
   "source": [
    "### Calculating Total amount of investment (USD) for each country"
   ]
  },
  {
   "cell_type": "code",
   "execution_count": 420,
   "metadata": {},
   "outputs": [
    {
     "data": {
      "text/plain": [
       "33971825657.0"
      ]
     },
     "execution_count": 420,
     "metadata": {},
     "output_type": "execute_result"
    }
   ],
   "source": [
    "## Total amount of investment (USD) for D1\n",
    "D1['raised_amount_usd'].sum()"
   ]
  },
  {
   "cell_type": "code",
   "execution_count": 421,
   "metadata": {},
   "outputs": [
    {
     "data": {
      "text/plain": [
       "2505073487.0"
      ]
     },
     "execution_count": 421,
     "metadata": {},
     "output_type": "execute_result"
    }
   ],
   "source": [
    "## Total amount of investment (USD) for D2\n",
    "D2['raised_amount_usd'].sum()"
   ]
  },
  {
   "cell_type": "code",
   "execution_count": 422,
   "metadata": {},
   "outputs": [
    {
     "data": {
      "text/plain": [
       "1086341777.0"
      ]
     },
     "execution_count": 422,
     "metadata": {},
     "output_type": "execute_result"
    }
   ],
   "source": [
    "## Total amount of investment (USD) for D3\n",
    "D3['raised_amount_usd'].sum()"
   ]
  },
  {
   "cell_type": "markdown",
   "metadata": {},
   "source": [
    "### Finding  Sector name  (no. of investment-wise) and amount of investments in Top 3  main sectors for each country."
   ]
  },
  {
   "cell_type": "code",
   "execution_count": 423,
   "metadata": {},
   "outputs": [
    {
     "data": {
      "text/plain": [
       "main_sector\n",
       "Others                                     1095\n",
       "Cleantech / Semiconductors                  738\n",
       "Social, Finance, Analytics, Advertising     588\n",
       "News, Search and Messaging                  515\n",
       "Manufacturing                               319\n",
       "Health                                      312\n",
       "Entertainment                               199\n",
       "Automotive & Sports                          78\n",
       "Name: raised_amount_usd, dtype: int64"
      ]
     },
     "execution_count": 423,
     "metadata": {},
     "output_type": "execute_result"
    }
   ],
   "source": [
    "# Top 3 main sectors (number of investment-wise) for D1\n",
    "D1.groupby(['main_sector'])['raised_amount_usd'].count().sort_values(ascending=False)"
   ]
  },
  {
   "cell_type": "markdown",
   "metadata": {},
   "source": [
    "### So for D1 the 3 Top main sectors (no. of investment-wise) are: 1. Others  2. Cleantech / Semiconductors  3. Social, Finance, Analytics, Advertising "
   ]
  },
  {
   "cell_type": "code",
   "execution_count": 424,
   "metadata": {},
   "outputs": [
    {
     "data": {
      "text/plain": [
       "main_sector\n",
       "Cleantech / Semiconductors                 75\n",
       "Others                                     68\n",
       "Social, Finance, Analytics, Advertising    47\n",
       "News, Search and Messaging                 31\n",
       "Manufacturing                              24\n",
       "Entertainment                              24\n",
       "Health                                     12\n",
       "Automotive & Sports                         5\n",
       "Name: raised_amount_usd, dtype: int64"
      ]
     },
     "execution_count": 424,
     "metadata": {},
     "output_type": "execute_result"
    }
   ],
   "source": [
    "# Top 3 main sectors (number of investment-wise) for D2\n",
    "D2.groupby(['main_sector'])['raised_amount_usd'].count().sort_values(ascending=False)"
   ]
  },
  {
   "cell_type": "markdown",
   "metadata": {},
   "source": [
    "### So for D2 the 3 Top main sectors (no. of investment-wise) are: 1. Cleantech / Semiconductors 2. Others 3. Social, Finance, Analytics, Advertising"
   ]
  },
  {
   "cell_type": "code",
   "execution_count": 425,
   "metadata": {
    "scrolled": false
   },
   "outputs": [
    {
     "data": {
      "text/plain": [
       "main_sector\n",
       "Others                                     43\n",
       "News, Search and Messaging                 20\n",
       "Manufacturing                              15\n",
       "Entertainment                              15\n",
       "Social, Finance, Analytics, Advertising    14\n",
       "Health                                      8\n",
       "Cleantech / Semiconductors                  5\n",
       "Automotive & Sports                         3\n",
       "Name: raised_amount_usd, dtype: int64"
      ]
     },
     "execution_count": 425,
     "metadata": {},
     "output_type": "execute_result"
    }
   ],
   "source": [
    "# Top 3 main sectors (number of investment-wise) for D3\n",
    "D3.groupby(['main_sector'])['raised_amount_usd'].count().sort_values(ascending=False)"
   ]
  },
  {
   "cell_type": "markdown",
   "metadata": {},
   "source": [
    "### So for D3 the 3 Top main sectors (no. of investment-wise) are: 1. Others 2. News, Search and Messaging  3. Entertainment"
   ]
  },
  {
   "cell_type": "markdown",
   "metadata": {},
   "source": [
    "##  Finding for top sector count-wise and second best, which company received the highest investment in each of the 3 top countries."
   ]
  },
  {
   "cell_type": "code",
   "execution_count": 426,
   "metadata": {},
   "outputs": [
    {
     "data": {
      "text/plain": [
       "14699988.0"
      ]
     },
     "execution_count": 426,
     "metadata": {},
     "output_type": "execute_result"
    }
   ],
   "source": [
    "## Highest investment in top sector For D1 \n",
    "D1[D1['main_sector'].apply(lambda x: x=='Others')]['raised_amount_usd'].max()"
   ]
  },
  {
   "cell_type": "code",
   "execution_count": 427,
   "metadata": {},
   "outputs": [
    {
     "data": {
      "text/html": [
       "<div>\n",
       "<style scoped>\n",
       "    .dataframe tbody tr th:only-of-type {\n",
       "        vertical-align: middle;\n",
       "    }\n",
       "\n",
       "    .dataframe tbody tr th {\n",
       "        vertical-align: top;\n",
       "    }\n",
       "\n",
       "    .dataframe thead th {\n",
       "        text-align: right;\n",
       "    }\n",
       "</style>\n",
       "<table border=\"1\" class=\"dataframe\">\n",
       "  <thead>\n",
       "    <tr style=\"text-align: right;\">\n",
       "      <th></th>\n",
       "      <th>permalink</th>\n",
       "      <th>name</th>\n",
       "      <th>country_code</th>\n",
       "      <th>funding_round_type</th>\n",
       "      <th>raised_amount_usd</th>\n",
       "      <th>primary sector</th>\n",
       "      <th>main_sector</th>\n",
       "    </tr>\n",
       "  </thead>\n",
       "  <tbody>\n",
       "    <tr>\n",
       "      <th>7537</th>\n",
       "      <td>/organization/paynearme</td>\n",
       "      <td>PayNearMe</td>\n",
       "      <td>USA</td>\n",
       "      <td>venture</td>\n",
       "      <td>14699988.0</td>\n",
       "      <td>E-Commerce</td>\n",
       "      <td>Others</td>\n",
       "    </tr>\n",
       "  </tbody>\n",
       "</table>\n",
       "</div>"
      ],
      "text/plain": [
       "                    permalink       name country_code funding_round_type  \\\n",
       "7537  /organization/paynearme  PayNearMe          USA            venture   \n",
       "\n",
       "      raised_amount_usd primary sector main_sector  \n",
       "7537         14699988.0     E-Commerce      Others  "
      ]
     },
     "execution_count": 427,
     "metadata": {},
     "output_type": "execute_result"
    }
   ],
   "source": [
    "## Finding the company corresponding to the above value\n",
    "D1[D1['raised_amount_usd']==14699988.0 ]"
   ]
  },
  {
   "cell_type": "code",
   "execution_count": 428,
   "metadata": {},
   "outputs": [
    {
     "data": {
      "text/plain": [
       "14880000.0"
      ]
     },
     "execution_count": 428,
     "metadata": {},
     "output_type": "execute_result"
    }
   ],
   "source": [
    "## Highest investment in second top sector for D1\n",
    "D1[D1['main_sector'].apply(lambda x: x=='Cleantech / Semiconductors')]['raised_amount_usd'].max()"
   ]
  },
  {
   "cell_type": "code",
   "execution_count": 429,
   "metadata": {},
   "outputs": [
    {
     "data": {
      "text/html": [
       "<div>\n",
       "<style scoped>\n",
       "    .dataframe tbody tr th:only-of-type {\n",
       "        vertical-align: middle;\n",
       "    }\n",
       "\n",
       "    .dataframe tbody tr th {\n",
       "        vertical-align: top;\n",
       "    }\n",
       "\n",
       "    .dataframe thead th {\n",
       "        text-align: right;\n",
       "    }\n",
       "</style>\n",
       "<table border=\"1\" class=\"dataframe\">\n",
       "  <thead>\n",
       "    <tr style=\"text-align: right;\">\n",
       "      <th></th>\n",
       "      <th>permalink</th>\n",
       "      <th>name</th>\n",
       "      <th>country_code</th>\n",
       "      <th>funding_round_type</th>\n",
       "      <th>raised_amount_usd</th>\n",
       "      <th>primary sector</th>\n",
       "      <th>main_sector</th>\n",
       "    </tr>\n",
       "  </thead>\n",
       "  <tbody>\n",
       "    <tr>\n",
       "      <th>3251</th>\n",
       "      <td>/organization/glenrose-instruments</td>\n",
       "      <td>GlenRose Instruments</td>\n",
       "      <td>USA</td>\n",
       "      <td>venture</td>\n",
       "      <td>14880000.0</td>\n",
       "      <td>Biotechnology</td>\n",
       "      <td>Cleantech / Semiconductors</td>\n",
       "    </tr>\n",
       "  </tbody>\n",
       "</table>\n",
       "</div>"
      ],
      "text/plain": [
       "                               permalink                  name country_code  \\\n",
       "3251  /organization/glenrose-instruments  GlenRose Instruments          USA   \n",
       "\n",
       "     funding_round_type  raised_amount_usd primary sector  \\\n",
       "3251            venture         14880000.0  Biotechnology   \n",
       "\n",
       "                     main_sector  \n",
       "3251  Cleantech / Semiconductors  "
      ]
     },
     "execution_count": 429,
     "metadata": {},
     "output_type": "execute_result"
    }
   ],
   "source": [
    "## Finding the company corresponding to the above value\n",
    "D1[D1['raised_amount_usd']== 14880000.0]"
   ]
  },
  {
   "cell_type": "code",
   "execution_count": 430,
   "metadata": {},
   "outputs": [
    {
     "data": {
      "text/plain": [
       "14906222.0"
      ]
     },
     "execution_count": 430,
     "metadata": {},
     "output_type": "execute_result"
    }
   ],
   "source": [
    "## Highest investment in top sector For D2 \n",
    "D2[D2['main_sector'].apply(lambda x: x=='Cleantech / Semiconductors')]['raised_amount_usd'].max()"
   ]
  },
  {
   "cell_type": "code",
   "execution_count": 431,
   "metadata": {},
   "outputs": [
    {
     "data": {
      "text/html": [
       "<div>\n",
       "<style scoped>\n",
       "    .dataframe tbody tr th:only-of-type {\n",
       "        vertical-align: middle;\n",
       "    }\n",
       "\n",
       "    .dataframe tbody tr th {\n",
       "        vertical-align: top;\n",
       "    }\n",
       "\n",
       "    .dataframe thead th {\n",
       "        text-align: right;\n",
       "    }\n",
       "</style>\n",
       "<table border=\"1\" class=\"dataframe\">\n",
       "  <thead>\n",
       "    <tr style=\"text-align: right;\">\n",
       "      <th></th>\n",
       "      <th>permalink</th>\n",
       "      <th>name</th>\n",
       "      <th>country_code</th>\n",
       "      <th>funding_round_type</th>\n",
       "      <th>raised_amount_usd</th>\n",
       "      <th>primary sector</th>\n",
       "      <th>main_sector</th>\n",
       "    </tr>\n",
       "  </thead>\n",
       "  <tbody>\n",
       "    <tr>\n",
       "      <th>52</th>\n",
       "      <td>/organization/onyvax</td>\n",
       "      <td>Onyvax</td>\n",
       "      <td>GBR</td>\n",
       "      <td>venture</td>\n",
       "      <td>14906222.0</td>\n",
       "      <td>Biotechnology</td>\n",
       "      <td>Cleantech / Semiconductors</td>\n",
       "    </tr>\n",
       "  </tbody>\n",
       "</table>\n",
       "</div>"
      ],
      "text/plain": [
       "               permalink    name country_code funding_round_type  \\\n",
       "52  /organization/onyvax  Onyvax          GBR            venture   \n",
       "\n",
       "    raised_amount_usd primary sector                 main_sector  \n",
       "52         14906222.0  Biotechnology  Cleantech / Semiconductors  "
      ]
     },
     "execution_count": 431,
     "metadata": {},
     "output_type": "execute_result"
    }
   ],
   "source": [
    "## Finding the company corresponding to the above value\n",
    "D2[D2['raised_amount_usd']==14906222.0 ]"
   ]
  },
  {
   "cell_type": "code",
   "execution_count": 432,
   "metadata": {},
   "outputs": [
    {
     "data": {
      "text/plain": [
       "14400000.0"
      ]
     },
     "execution_count": 432,
     "metadata": {},
     "output_type": "execute_result"
    }
   ],
   "source": [
    "## Highest investment in second top sector for D2\n",
    "D2[D2['main_sector'].apply(lambda x: x=='Others')]['raised_amount_usd'].max()"
   ]
  },
  {
   "cell_type": "code",
   "execution_count": 433,
   "metadata": {},
   "outputs": [
    {
     "data": {
      "text/html": [
       "<div>\n",
       "<style scoped>\n",
       "    .dataframe tbody tr th:only-of-type {\n",
       "        vertical-align: middle;\n",
       "    }\n",
       "\n",
       "    .dataframe tbody tr th {\n",
       "        vertical-align: top;\n",
       "    }\n",
       "\n",
       "    .dataframe thead th {\n",
       "        text-align: right;\n",
       "    }\n",
       "</style>\n",
       "<table border=\"1\" class=\"dataframe\">\n",
       "  <thead>\n",
       "    <tr style=\"text-align: right;\">\n",
       "      <th></th>\n",
       "      <th>permalink</th>\n",
       "      <th>name</th>\n",
       "      <th>country_code</th>\n",
       "      <th>funding_round_type</th>\n",
       "      <th>raised_amount_usd</th>\n",
       "      <th>primary sector</th>\n",
       "      <th>main_sector</th>\n",
       "    </tr>\n",
       "  </thead>\n",
       "  <tbody>\n",
       "    <tr>\n",
       "      <th>152</th>\n",
       "      <td>/organization/ukash</td>\n",
       "      <td>KaliteUKASH</td>\n",
       "      <td>GBR</td>\n",
       "      <td>venture</td>\n",
       "      <td>14400000.0</td>\n",
       "      <td>E-Commerce</td>\n",
       "      <td>Others</td>\n",
       "    </tr>\n",
       "  </tbody>\n",
       "</table>\n",
       "</div>"
      ],
      "text/plain": [
       "               permalink         name country_code funding_round_type  \\\n",
       "152  /organization/ukash  KaliteUKASH          GBR            venture   \n",
       "\n",
       "     raised_amount_usd primary sector main_sector  \n",
       "152         14400000.0     E-Commerce      Others  "
      ]
     },
     "execution_count": 433,
     "metadata": {},
     "output_type": "execute_result"
    }
   ],
   "source": [
    "## Finding the company corresponding to the above value\n",
    "D2[D2['raised_amount_usd']== 14400000.0]"
   ]
  },
  {
   "cell_type": "code",
   "execution_count": 434,
   "metadata": {},
   "outputs": [
    {
     "data": {
      "text/plain": [
       "14000000.0"
      ]
     },
     "execution_count": 434,
     "metadata": {},
     "output_type": "execute_result"
    }
   ],
   "source": [
    "## Highest investment in top sector For D3 \n",
    "D3[D3['main_sector'].apply(lambda x: x=='Others')]['raised_amount_usd'].max()"
   ]
  },
  {
   "cell_type": "code",
   "execution_count": 435,
   "metadata": {},
   "outputs": [
    {
     "data": {
      "text/html": [
       "<div>\n",
       "<style scoped>\n",
       "    .dataframe tbody tr th:only-of-type {\n",
       "        vertical-align: middle;\n",
       "    }\n",
       "\n",
       "    .dataframe tbody tr th {\n",
       "        vertical-align: top;\n",
       "    }\n",
       "\n",
       "    .dataframe thead th {\n",
       "        text-align: right;\n",
       "    }\n",
       "</style>\n",
       "<table border=\"1\" class=\"dataframe\">\n",
       "  <thead>\n",
       "    <tr style=\"text-align: right;\">\n",
       "      <th></th>\n",
       "      <th>permalink</th>\n",
       "      <th>name</th>\n",
       "      <th>country_code</th>\n",
       "      <th>funding_round_type</th>\n",
       "      <th>raised_amount_usd</th>\n",
       "      <th>primary sector</th>\n",
       "      <th>main_sector</th>\n",
       "    </tr>\n",
       "  </thead>\n",
       "  <tbody>\n",
       "    <tr>\n",
       "      <th>14</th>\n",
       "      <td>/organization/eximsoft-trianz</td>\n",
       "      <td>EximSoft-Trianz</td>\n",
       "      <td>IND</td>\n",
       "      <td>venture</td>\n",
       "      <td>14000000.0</td>\n",
       "      <td>Software</td>\n",
       "      <td>Others</td>\n",
       "    </tr>\n",
       "    <tr>\n",
       "      <th>50</th>\n",
       "      <td>/organization/homeshop18</td>\n",
       "      <td>HomeShop18</td>\n",
       "      <td>IND</td>\n",
       "      <td>venture</td>\n",
       "      <td>14000000.0</td>\n",
       "      <td>E-Commerce</td>\n",
       "      <td>Others</td>\n",
       "    </tr>\n",
       "    <tr>\n",
       "      <th>85</th>\n",
       "      <td>/organization/intarvo</td>\n",
       "      <td>inTarvo</td>\n",
       "      <td>IND</td>\n",
       "      <td>venture</td>\n",
       "      <td>14000000.0</td>\n",
       "      <td>Consulting</td>\n",
       "      <td>Social, Finance, Analytics, Advertising</td>\n",
       "    </tr>\n",
       "  </tbody>\n",
       "</table>\n",
       "</div>"
      ],
      "text/plain": [
       "                        permalink             name country_code  \\\n",
       "14  /organization/eximsoft-trianz  EximSoft-Trianz          IND   \n",
       "50       /organization/homeshop18       HomeShop18          IND   \n",
       "85          /organization/intarvo          inTarvo          IND   \n",
       "\n",
       "   funding_round_type  raised_amount_usd primary sector  \\\n",
       "14            venture         14000000.0       Software   \n",
       "50            venture         14000000.0     E-Commerce   \n",
       "85            venture         14000000.0     Consulting   \n",
       "\n",
       "                                main_sector  \n",
       "14                                   Others  \n",
       "50                                   Others  \n",
       "85  Social, Finance, Analytics, Advertising  "
      ]
     },
     "execution_count": 435,
     "metadata": {},
     "output_type": "execute_result"
    }
   ],
   "source": [
    "## Finding the company corresponding to the above value\n",
    "D3[D3['raised_amount_usd']==14000000.0]"
   ]
  },
  {
   "cell_type": "code",
   "execution_count": 436,
   "metadata": {},
   "outputs": [
    {
     "data": {
      "text/plain": [
       "13000000.0"
      ]
     },
     "execution_count": 436,
     "metadata": {},
     "output_type": "execute_result"
    }
   ],
   "source": [
    "## Highest investment in second top sector for D3\n",
    "D3[D3['main_sector'].apply(lambda x: x=='News, Search and Messaging')]['raised_amount_usd'].max()"
   ]
  },
  {
   "cell_type": "code",
   "execution_count": 437,
   "metadata": {},
   "outputs": [
    {
     "data": {
      "text/html": [
       "<div>\n",
       "<style scoped>\n",
       "    .dataframe tbody tr th:only-of-type {\n",
       "        vertical-align: middle;\n",
       "    }\n",
       "\n",
       "    .dataframe tbody tr th {\n",
       "        vertical-align: top;\n",
       "    }\n",
       "\n",
       "    .dataframe thead th {\n",
       "        text-align: right;\n",
       "    }\n",
       "</style>\n",
       "<table border=\"1\" class=\"dataframe\">\n",
       "  <thead>\n",
       "    <tr style=\"text-align: right;\">\n",
       "      <th></th>\n",
       "      <th>permalink</th>\n",
       "      <th>name</th>\n",
       "      <th>country_code</th>\n",
       "      <th>funding_round_type</th>\n",
       "      <th>raised_amount_usd</th>\n",
       "      <th>primary sector</th>\n",
       "      <th>main_sector</th>\n",
       "    </tr>\n",
       "  </thead>\n",
       "  <tbody>\n",
       "    <tr>\n",
       "      <th>24</th>\n",
       "      <td>/organization/quick-heal-technologies</td>\n",
       "      <td>Quick Heal Technologies</td>\n",
       "      <td>IND</td>\n",
       "      <td>venture</td>\n",
       "      <td>13000000.0</td>\n",
       "      <td>Software</td>\n",
       "      <td>Others</td>\n",
       "    </tr>\n",
       "    <tr>\n",
       "      <th>68</th>\n",
       "      <td>/organization/imimobile</td>\n",
       "      <td>IMImobile</td>\n",
       "      <td>IND</td>\n",
       "      <td>venture</td>\n",
       "      <td>13000000.0</td>\n",
       "      <td>Mobile</td>\n",
       "      <td>News, Search and Messaging</td>\n",
       "    </tr>\n",
       "    <tr>\n",
       "      <th>87</th>\n",
       "      <td>/organization/power-mech-projects</td>\n",
       "      <td>Power Mech Projects</td>\n",
       "      <td>IND</td>\n",
       "      <td>venture</td>\n",
       "      <td>13000000.0</td>\n",
       "      <td>Construction</td>\n",
       "      <td>Manufacturing</td>\n",
       "    </tr>\n",
       "  </tbody>\n",
       "</table>\n",
       "</div>"
      ],
      "text/plain": [
       "                                permalink                     name  \\\n",
       "24  /organization/quick-heal-technologies  Quick Heal Technologies   \n",
       "68                /organization/imimobile                IMImobile   \n",
       "87      /organization/power-mech-projects      Power Mech Projects   \n",
       "\n",
       "   country_code funding_round_type  raised_amount_usd primary sector  \\\n",
       "24          IND            venture         13000000.0       Software   \n",
       "68          IND            venture         13000000.0         Mobile   \n",
       "87          IND            venture         13000000.0   Construction   \n",
       "\n",
       "                   main_sector  \n",
       "24                      Others  \n",
       "68  News, Search and Messaging  \n",
       "87               Manufacturing  "
      ]
     },
     "execution_count": 437,
     "metadata": {},
     "output_type": "execute_result"
    }
   ],
   "source": [
    "## Finding the company corresponding to the above value\n",
    "D3[D3['raised_amount_usd']==13000000.0 ]"
   ]
  },
  {
   "cell_type": "markdown",
   "metadata": {},
   "source": [
    "## For final analysis, i.e Checkpoint 6: Plots"
   ]
  },
  {
   "cell_type": "markdown",
   "metadata": {},
   "source": [
    "### Plot showing the representative amount of investment in each funding type."
   ]
  },
  {
   "cell_type": "code",
   "execution_count": 438,
   "metadata": {},
   "outputs": [
    {
     "data": {
      "image/png": "[encoded data removed]",
      "text/plain": [
       "<Figure size 720x504 with 1 Axes>"
      ]
     },
     "metadata": {
      "needs_background": "light"
     },
     "output_type": "display_data"
    }
   ],
   "source": [
    "## creating seaborn barplot using dataframe df_master1\n",
    "plt.figure(figsize=(10,7))\n",
    "sns.barplot(data=master_frame1, x='raised_amount_usd',y='funding_round_type')\n",
    "plt.title('Best Investment Type', fontsize =18)\n",
    "plt.ylabel('Investment Type',fontsize =18)\n",
    "plt.xlabel('Representative Funding amount(scale of 10 million)',fontsize =18)\n",
    "plt.show()"
   ]
  },
  {
   "cell_type": "markdown",
   "metadata": {},
   "source": [
    "###  Plot showing the top 9 countries against the total amount of investments of funding type Venture"
   ]
  },
  {
   "cell_type": "code",
   "execution_count": 439,
   "metadata": {},
   "outputs": [
    {
     "data": {
      "image/png": "[encoded data removed]",
      "text/plain": [
       "<Figure size 1080x648 with 1 Axes>"
      ]
     },
     "metadata": {
      "needs_background": "light"
     },
     "output_type": "display_data"
    }
   ],
   "source": [
    "## creating seaborn barplot using dataframe top9\n",
    "plt.figure(figsize=(15,9))\n",
    "sns.barplot(data=top9, y='country_code',x='raised_amount_usd',estimator=np.sum)\n",
    "plt.xlabel('Total Venture funding across all sectors',fontsize=18)\n",
    "plt.ylabel('Top 9 countries',fontsize=18)\n",
    "plt.title('Top 9 Countries Investment Analysis',fontsize=18)\n",
    "plt.show()"
   ]
  },
  {
   "cell_type": "markdown",
   "metadata": {},
   "source": [
    "### Plot showing the number of investments in the top 3 sectors of the top 3 countries on one chart"
   ]
  },
  {
   "cell_type": "markdown",
   "metadata": {},
   "source": [
    "### First we will have to create a datafarme D_Final which has the top 3 counties and top 3 sectors.\n",
    "### For that we will make a dataframe from each D1, D2 and D3 containing their respective top 3 sectors. \n",
    "### finally we will concatenate these 3 new dataframes to make D_Final\n"
   ]
  },
  {
   "cell_type": "code",
   "execution_count": 440,
   "metadata": {},
   "outputs": [],
   "source": [
    "D1a = D1[D1['main_sector'].isin(['Others','Cleantech / Semiconductors','Social, Finance, Analytics, Advertising'])]"
   ]
  },
  {
   "cell_type": "code",
   "execution_count": 441,
   "metadata": {},
   "outputs": [],
   "source": [
    "D2a = D2[D2['main_sector'].isin(['Cleantech / Semiconductors','Others','Social, Finance, Analytics, Advertising'])]"
   ]
  },
  {
   "cell_type": "code",
   "execution_count": 442,
   "metadata": {},
   "outputs": [],
   "source": [
    "D3a = D3[D3['main_sector'].isin(['Others','News, Search and Messaging','Manufacturing'])]"
   ]
  },
  {
   "cell_type": "code",
   "execution_count": 443,
   "metadata": {},
   "outputs": [],
   "source": [
    "D_Final = pd.concat([D1a,D2a,D3a])"
   ]
  },
  {
   "cell_type": "code",
   "execution_count": 444,
   "metadata": {},
   "outputs": [
    {
     "data": {
      "text/html": [
       "<div>\n",
       "<style scoped>\n",
       "    .dataframe tbody tr th:only-of-type {\n",
       "        vertical-align: middle;\n",
       "    }\n",
       "\n",
       "    .dataframe tbody tr th {\n",
       "        vertical-align: top;\n",
       "    }\n",
       "\n",
       "    .dataframe thead th {\n",
       "        text-align: right;\n",
       "    }\n",
       "</style>\n",
       "<table border=\"1\" class=\"dataframe\">\n",
       "  <thead>\n",
       "    <tr style=\"text-align: right;\">\n",
       "      <th></th>\n",
       "      <th>permalink</th>\n",
       "      <th>name</th>\n",
       "      <th>country_code</th>\n",
       "      <th>funding_round_type</th>\n",
       "      <th>raised_amount_usd</th>\n",
       "      <th>primary sector</th>\n",
       "      <th>main_sector</th>\n",
       "    </tr>\n",
       "  </thead>\n",
       "  <tbody>\n",
       "    <tr>\n",
       "      <th>615</th>\n",
       "      <td>/organization/ameritech-college</td>\n",
       "      <td>AmeriTech College</td>\n",
       "      <td>USA</td>\n",
       "      <td>venture</td>\n",
       "      <td>6800000.0</td>\n",
       "      <td>Education</td>\n",
       "      <td>Others</td>\n",
       "    </tr>\n",
       "    <tr>\n",
       "      <th>618</th>\n",
       "      <td>/organization/better-ag</td>\n",
       "      <td>Better</td>\n",
       "      <td>USA</td>\n",
       "      <td>venture</td>\n",
       "      <td>10000000.0</td>\n",
       "      <td>Education</td>\n",
       "      <td>Others</td>\n",
       "    </tr>\n",
       "    <tr>\n",
       "      <th>620</th>\n",
       "      <td>/organization/brightstorm</td>\n",
       "      <td>Brightstorm</td>\n",
       "      <td>USA</td>\n",
       "      <td>venture</td>\n",
       "      <td>6000000.0</td>\n",
       "      <td>Education</td>\n",
       "      <td>Others</td>\n",
       "    </tr>\n",
       "    <tr>\n",
       "      <th>625</th>\n",
       "      <td>/organization/chromatik</td>\n",
       "      <td>Chromatik</td>\n",
       "      <td>USA</td>\n",
       "      <td>venture</td>\n",
       "      <td>5700000.0</td>\n",
       "      <td>Education</td>\n",
       "      <td>Others</td>\n",
       "    </tr>\n",
       "    <tr>\n",
       "      <th>628</th>\n",
       "      <td>/organization/college-book-renter</td>\n",
       "      <td>College Book Renter</td>\n",
       "      <td>USA</td>\n",
       "      <td>venture</td>\n",
       "      <td>10000000.0</td>\n",
       "      <td>Education</td>\n",
       "      <td>Others</td>\n",
       "    </tr>\n",
       "    <tr>\n",
       "      <th>...</th>\n",
       "      <td>...</td>\n",
       "      <td>...</td>\n",
       "      <td>...</td>\n",
       "      <td>...</td>\n",
       "      <td>...</td>\n",
       "      <td>...</td>\n",
       "      <td>...</td>\n",
       "    </tr>\n",
       "    <tr>\n",
       "      <th>113</th>\n",
       "      <td>/organization/conquest</td>\n",
       "      <td>Conquest</td>\n",
       "      <td>IND</td>\n",
       "      <td>venture</td>\n",
       "      <td>6000000.0</td>\n",
       "      <td>Startups</td>\n",
       "      <td>Others</td>\n",
       "    </tr>\n",
       "    <tr>\n",
       "      <th>115</th>\n",
       "      <td>/organization/zopnow</td>\n",
       "      <td>ZopNow</td>\n",
       "      <td>IND</td>\n",
       "      <td>venture</td>\n",
       "      <td>10000000.0</td>\n",
       "      <td>Groceries</td>\n",
       "      <td>Manufacturing</td>\n",
       "    </tr>\n",
       "    <tr>\n",
       "      <th>117</th>\n",
       "      <td>/organization/comat-technologies</td>\n",
       "      <td>Comat Technologies</td>\n",
       "      <td>IND</td>\n",
       "      <td>venture</td>\n",
       "      <td>6000000.0</td>\n",
       "      <td>Governments</td>\n",
       "      <td>Others</td>\n",
       "    </tr>\n",
       "    <tr>\n",
       "      <th>119</th>\n",
       "      <td>/organization/easylink</td>\n",
       "      <td>EasyLink</td>\n",
       "      <td>IND</td>\n",
       "      <td>venture</td>\n",
       "      <td>5400000.0</td>\n",
       "      <td>Web Design</td>\n",
       "      <td>News, Search and Messaging</td>\n",
       "    </tr>\n",
       "    <tr>\n",
       "      <th>122</th>\n",
       "      <td>/organization/itzcash-card-ltd</td>\n",
       "      <td>ItzCash Card Ltd.</td>\n",
       "      <td>IND</td>\n",
       "      <td>venture</td>\n",
       "      <td>10000000.0</td>\n",
       "      <td>Gift Card</td>\n",
       "      <td>Others</td>\n",
       "    </tr>\n",
       "  </tbody>\n",
       "</table>\n",
       "<p>2689 rows × 7 columns</p>\n",
       "</div>"
      ],
      "text/plain": [
       "                             permalink                 name country_code  \\\n",
       "615    /organization/ameritech-college    AmeriTech College          USA   \n",
       "618            /organization/better-ag               Better          USA   \n",
       "620          /organization/brightstorm          Brightstorm          USA   \n",
       "625            /organization/chromatik            Chromatik          USA   \n",
       "628  /organization/college-book-renter  College Book Renter          USA   \n",
       "..                                 ...                  ...          ...   \n",
       "113             /organization/conquest             Conquest          IND   \n",
       "115               /organization/zopnow               ZopNow          IND   \n",
       "117   /organization/comat-technologies   Comat Technologies          IND   \n",
       "119             /organization/easylink             EasyLink          IND   \n",
       "122     /organization/itzcash-card-ltd    ItzCash Card Ltd.          IND   \n",
       "\n",
       "    funding_round_type  raised_amount_usd primary sector  \\\n",
       "615            venture          6800000.0      Education   \n",
       "618            venture         10000000.0      Education   \n",
       "620            venture          6000000.0      Education   \n",
       "625            venture          5700000.0      Education   \n",
       "628            venture         10000000.0      Education   \n",
       "..                 ...                ...            ...   \n",
       "113            venture          6000000.0       Startups   \n",
       "115            venture         10000000.0      Groceries   \n",
       "117            venture          6000000.0    Governments   \n",
       "119            venture          5400000.0     Web Design   \n",
       "122            venture         10000000.0      Gift Card   \n",
       "\n",
       "                    main_sector  \n",
       "615                      Others  \n",
       "618                      Others  \n",
       "620                      Others  \n",
       "625                      Others  \n",
       "628                      Others  \n",
       "..                          ...  \n",
       "113                      Others  \n",
       "115               Manufacturing  \n",
       "117                      Others  \n",
       "119  News, Search and Messaging  \n",
       "122                      Others  \n",
       "\n",
       "[2689 rows x 7 columns]"
      ]
     },
     "execution_count": 444,
     "metadata": {},
     "output_type": "execute_result"
    }
   ],
   "source": [
    "D_Final"
   ]
  },
  {
   "cell_type": "code",
   "execution_count": 469,
   "metadata": {},
   "outputs": [
    {
     "data": {
      "image/png": "[encoded data removed]",
      "text/plain": [
       "<Figure size 864x648 with 1 Axes>"
      ]
     },
     "metadata": {
      "needs_background": "light"
     },
     "output_type": "display_data"
    }
   ],
   "source": [
    "## creating seaborn barplot using dataframe D_Final\n",
    "plt.figure(num=None, figsize=(12, 9))\n",
    "s=sns.barplot(x='country_code', y='raised_amount_usd', hue=\"main_sector\", data=D_Final,estimator=np.sum)\n",
    "s.set_xlabel(\"Country\",fontsize=20)\n",
    "s.set_ylabel(\"Number of Investments\",fontsize=20)\n",
    "s.set_title('Investments in top3 sectors of top 3 countries',fontsize =20)\n",
    "plt.show()"
   ]
  },
  {
   "cell_type": "code",
   "execution_count": 465,
   "metadata": {},
   "outputs": [],
   "source": [
    "## concatenating D1,D2 and D3 to create dataframe D\n",
    "D = pd.concat([D1,D2,D3])"
   ]
  },
  {
   "cell_type": "code",
   "execution_count": 467,
   "metadata": {},
   "outputs": [
    {
     "data": {
      "image/png": "[encoded data removed]",
      "text/plain": [
       "<Figure size 864x648 with 1 Axes>"
      ]
     },
     "metadata": {
      "needs_background": "light"
     },
     "output_type": "display_data"
    }
   ],
   "source": [
    "## creating seaborn barplot using dataframe D to see investments across all sectors in top3 countires\n",
    "plt.figure(num=None, figsize=(12, 9))\n",
    "s=sns.barplot(x='country_code', y='raised_amount_usd', hue=\"main_sector\", data=D,estimator=np.sum)\n",
    "s.set_xlabel(\"Country\",fontsize=20)\n",
    "s.set_ylabel(\"Number of Investments\",fontsize=20)\n",
    "s.set_title('Investments across all sectors of top3 countries',fontsize =20)\n",
    "plt.show()"
   ]
  },
  {
   "cell_type": "code",
   "execution_count": null,
   "metadata": {},
   "outputs": [],
   "source": []
  }
 ],
 "metadata": {
  "kernelspec": {
   "display_name": "Python 3",
   "language": "python",
   "name": "python3"
  },
  "language_info": {
   "codemirror_mode": {
    "name": "ipython",
    "version": 3
   },
   "file_extension": ".py",
   "mimetype": "text/x-python",
   "name": "python",
   "nbconvert_exporter": "python",
   "pygments_lexer": "ipython3",
   "version": "3.8.5"
  }
 },
 "nbformat": 4,
 "nbformat_minor": 4
}
